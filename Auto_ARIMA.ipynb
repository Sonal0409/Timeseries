{
  "nbformat": 4,
  "nbformat_minor": 0,
  "metadata": {
    "colab": {
      "name": "Auto_ARIMA.ipynb",
      "provenance": [],
      "collapsed_sections": [],
      "authorship_tag": "ABX9TyPaV82UuVzngmzAwIvVxxO/",
      "include_colab_link": true
    },
    "kernelspec": {
      "name": "python3",
      "display_name": "Python 3"
    }
  },
  "cells": [
    {
      "cell_type": "markdown",
      "metadata": {
        "id": "view-in-github",
        "colab_type": "text"
      },
      "source": [
        "<a href=\"https://colab.research.google.com/github/plaban1981/Timeseries/blob/master/Auto_ARIMA.ipynb\" target=\"_parent\"><img src=\"https://colab.research.google.com/assets/colab-badge.svg\" alt=\"Open In Colab\"/></a>"
      ]
    },
    {
      "cell_type": "markdown",
      "metadata": {
        "id": "X21hsq4E1pFY",
        "colab_type": "text"
      },
      "source": [
        "## What is ARIMA?\n",
        "ARIMA is an acronym that stands for AutoRegressive Integrated Moving Average.\n",
        "\n",
        "This is one of the easiest and effective machine learning algorithm to performing time series forecasting. \n",
        "\n",
        "This is the combination of Auto Regression and Moving average."
      ]
    },
    {
      "cell_type": "markdown",
      "metadata": {
        "id": "2PUB4cwpyxlz",
        "colab_type": "text"
      },
      "source": [
        "https://towardsdatascience.com/get-a-glimpse-of-future-using-time-series-forecasting-using-auto-arima-and-artificial-intelligence-273efabec6aa"
      ]
    },
    {
      "cell_type": "markdown",
      "metadata": {
        "id": "VYXXR7Ux10or",
        "colab_type": "text"
      },
      "source": [
        "#### AR part of ARIMA\n",
        "\n",
        "Autoregression is a time series model that uses observations from previous time steps as input to the regression equation to predict the value at the next time step. \n",
        "\n",
        "In simple words, it performs regression in previous time step t-1 to predict t.\n",
        "\n",
        "#### MA  part of ARIMA\n",
        "\n",
        "MA stands for moving average which is also called as rolling mean. \n",
        "\n",
        "Basically, we are calculating the simple average in a particular time frame and dividing it with the total number of time frames taken."
      ]
    },
    {
      "cell_type": "markdown",
      "metadata": {
        "id": "jqKVUz493LMn",
        "colab_type": "text"
      },
      "source": [
        "## What is Auto-ARIMA?\n",
        "\n",
        "Before training simple ARIMA model we have to figure out p(AR), q(MA), d(Back Timeshift) which is not as easy as fine-tuning other machine learning models. \n",
        "\n",
        "We have to reduce stationarity and get those values which so time-consuming as well as boring.\n",
        "\n",
        "\n",
        "**Auto-ARIMA** uses brute force and tries different combinations of p, q, and d and then returns the best model after evaluation. \n",
        "\n",
        "It uses **mean squared error** to evaluate the best model. \n",
        "\n",
        "It also uses **Akaike Information Criteria (AIC)** and **Bayesian information criterion (BIC)** which are statistical measures of goodness of fit and the simplicity of the model."
      ]
    },
    {
      "cell_type": "code",
      "metadata": {
        "id": "8PDc-uBzysGS",
        "colab_type": "code",
        "outputId": "6b3ef25d-21f5-4abe-ac4d-86a21b78f353",
        "colab": {
          "base_uri": "https://localhost:8080/",
          "height": 309
        }
      },
      "source": [
        "!pip install pyramid-arima"
      ],
      "execution_count": 1,
      "outputs": [
        {
          "output_type": "stream",
          "text": [
            "Collecting pyramid-arima\n",
            "\u001b[?25l  Downloading https://files.pythonhosted.org/packages/5c/84/57422f2a6ade3161c586545e38b518ba1b7ab30ee4a4acc29110c0aba2bc/pyramid_arima-0.9.0-cp36-cp36m-manylinux1_x86_64.whl (597kB)\n",
            "\r\u001b[K     |▌                               | 10kB 22.3MB/s eta 0:00:01\r\u001b[K     |█                               | 20kB 1.7MB/s eta 0:00:01\r\u001b[K     |█▋                              | 30kB 2.6MB/s eta 0:00:01\r\u001b[K     |██▏                             | 40kB 1.7MB/s eta 0:00:01\r\u001b[K     |██▊                             | 51kB 2.1MB/s eta 0:00:01\r\u001b[K     |███▎                            | 61kB 2.5MB/s eta 0:00:01\r\u001b[K     |███▉                            | 71kB 2.9MB/s eta 0:00:01\r\u001b[K     |████▍                           | 81kB 3.3MB/s eta 0:00:01\r\u001b[K     |█████                           | 92kB 3.7MB/s eta 0:00:01\r\u001b[K     |█████▌                          | 102kB 2.8MB/s eta 0:00:01\r\u001b[K     |██████                          | 112kB 2.8MB/s eta 0:00:01\r\u001b[K     |██████▋                         | 122kB 2.8MB/s eta 0:00:01\r\u001b[K     |███████▏                        | 133kB 2.8MB/s eta 0:00:01\r\u001b[K     |███████▊                        | 143kB 2.8MB/s eta 0:00:01\r\u001b[K     |████████▏                       | 153kB 2.8MB/s eta 0:00:01\r\u001b[K     |████████▊                       | 163kB 2.8MB/s eta 0:00:01\r\u001b[K     |█████████▎                      | 174kB 2.8MB/s eta 0:00:01\r\u001b[K     |█████████▉                      | 184kB 2.8MB/s eta 0:00:01\r\u001b[K     |██████████▍                     | 194kB 2.8MB/s eta 0:00:01\r\u001b[K     |███████████                     | 204kB 2.8MB/s eta 0:00:01\r\u001b[K     |███████████▌                    | 215kB 2.8MB/s eta 0:00:01\r\u001b[K     |████████████                    | 225kB 2.8MB/s eta 0:00:01\r\u001b[K     |████████████▋                   | 235kB 2.8MB/s eta 0:00:01\r\u001b[K     |█████████████▏                  | 245kB 2.8MB/s eta 0:00:01\r\u001b[K     |█████████████▊                  | 256kB 2.8MB/s eta 0:00:01\r\u001b[K     |██████████████▎                 | 266kB 2.8MB/s eta 0:00:01\r\u001b[K     |██████████████▉                 | 276kB 2.8MB/s eta 0:00:01\r\u001b[K     |███████████████▍                | 286kB 2.8MB/s eta 0:00:01\r\u001b[K     |████████████████                | 296kB 2.8MB/s eta 0:00:01\r\u001b[K     |████████████████▍               | 307kB 2.8MB/s eta 0:00:01\r\u001b[K     |█████████████████               | 317kB 2.8MB/s eta 0:00:01\r\u001b[K     |█████████████████▌              | 327kB 2.8MB/s eta 0:00:01\r\u001b[K     |██████████████████              | 337kB 2.8MB/s eta 0:00:01\r\u001b[K     |██████████████████▋             | 348kB 2.8MB/s eta 0:00:01\r\u001b[K     |███████████████████▏            | 358kB 2.8MB/s eta 0:00:01\r\u001b[K     |███████████████████▊            | 368kB 2.8MB/s eta 0:00:01\r\u001b[K     |████████████████████▎           | 378kB 2.8MB/s eta 0:00:01\r\u001b[K     |████████████████████▉           | 389kB 2.8MB/s eta 0:00:01\r\u001b[K     |█████████████████████▍          | 399kB 2.8MB/s eta 0:00:01\r\u001b[K     |██████████████████████          | 409kB 2.8MB/s eta 0:00:01\r\u001b[K     |██████████████████████▌         | 419kB 2.8MB/s eta 0:00:01\r\u001b[K     |███████████████████████         | 430kB 2.8MB/s eta 0:00:01\r\u001b[K     |███████████████████████▋        | 440kB 2.8MB/s eta 0:00:01\r\u001b[K     |████████████████████████▏       | 450kB 2.8MB/s eta 0:00:01\r\u001b[K     |████████████████████████▋       | 460kB 2.8MB/s eta 0:00:01\r\u001b[K     |█████████████████████████▏      | 471kB 2.8MB/s eta 0:00:01\r\u001b[K     |█████████████████████████▊      | 481kB 2.8MB/s eta 0:00:01\r\u001b[K     |██████████████████████████▎     | 491kB 2.8MB/s eta 0:00:01\r\u001b[K     |██████████████████████████▉     | 501kB 2.8MB/s eta 0:00:01\r\u001b[K     |███████████████████████████▍    | 512kB 2.8MB/s eta 0:00:01\r\u001b[K     |████████████████████████████    | 522kB 2.8MB/s eta 0:00:01\r\u001b[K     |████████████████████████████▌   | 532kB 2.8MB/s eta 0:00:01\r\u001b[K     |█████████████████████████████   | 542kB 2.8MB/s eta 0:00:01\r\u001b[K     |█████████████████████████████▋  | 552kB 2.8MB/s eta 0:00:01\r\u001b[K     |██████████████████████████████▏ | 563kB 2.8MB/s eta 0:00:01\r\u001b[K     |██████████████████████████████▊ | 573kB 2.8MB/s eta 0:00:01\r\u001b[K     |███████████████████████████████▎| 583kB 2.8MB/s eta 0:00:01\r\u001b[K     |███████████████████████████████▉| 593kB 2.8MB/s eta 0:00:01\r\u001b[K     |████████████████████████████████| 604kB 2.8MB/s \n",
            "\u001b[?25hRequirement already satisfied: pandas>=0.19 in /usr/local/lib/python3.6/dist-packages (from pyramid-arima) (0.25.3)\n",
            "Requirement already satisfied: scipy>=0.9 in /usr/local/lib/python3.6/dist-packages (from pyramid-arima) (1.4.1)\n",
            "Requirement already satisfied: Cython>=0.23 in /usr/local/lib/python3.6/dist-packages (from pyramid-arima) (0.29.15)\n",
            "Requirement already satisfied: statsmodels>=0.9.0 in /usr/local/lib/python3.6/dist-packages (from pyramid-arima) (0.10.2)\n",
            "Requirement already satisfied: numpy>=1.10 in /usr/local/lib/python3.6/dist-packages (from pyramid-arima) (1.18.2)\n",
            "Requirement already satisfied: scikit-learn>=0.17 in /usr/local/lib/python3.6/dist-packages (from pyramid-arima) (0.22.2.post1)\n",
            "Requirement already satisfied: python-dateutil>=2.6.1 in /usr/local/lib/python3.6/dist-packages (from pandas>=0.19->pyramid-arima) (2.8.1)\n",
            "Requirement already satisfied: pytz>=2017.2 in /usr/local/lib/python3.6/dist-packages (from pandas>=0.19->pyramid-arima) (2018.9)\n",
            "Requirement already satisfied: patsy>=0.4.0 in /usr/local/lib/python3.6/dist-packages (from statsmodels>=0.9.0->pyramid-arima) (0.5.1)\n",
            "Requirement already satisfied: joblib>=0.11 in /usr/local/lib/python3.6/dist-packages (from scikit-learn>=0.17->pyramid-arima) (0.14.1)\n",
            "Requirement already satisfied: six>=1.5 in /usr/local/lib/python3.6/dist-packages (from python-dateutil>=2.6.1->pandas>=0.19->pyramid-arima) (1.12.0)\n",
            "Installing collected packages: pyramid-arima\n",
            "Successfully installed pyramid-arima-0.9.0\n"
          ],
          "name": "stdout"
        }
      ]
    },
    {
      "cell_type": "code",
      "metadata": {
        "id": "BjTjw-TiCsgC",
        "colab_type": "code",
        "colab": {
          "base_uri": "https://localhost:8080/",
          "height": 326
        },
        "outputId": "6c5133a6-3b6d-4098-da10-9c8cd6b9a7f1"
      },
      "source": [
        "!pip install pmdarima"
      ],
      "execution_count": 4,
      "outputs": [
        {
          "output_type": "stream",
          "text": [
            "Collecting pmdarima\n",
            "\u001b[?25l  Downloading https://files.pythonhosted.org/packages/83/aa/feb76414043592c3149059ab772a51de03fbf7544a8e19237f229a50a949/pmdarima-1.5.3-cp36-cp36m-manylinux1_x86_64.whl (1.5MB)\n",
            "\u001b[K     |████████████████████████████████| 1.5MB 2.8MB/s \n",
            "\u001b[?25hRequirement already satisfied: statsmodels>=0.10.2 in /usr/local/lib/python3.6/dist-packages (from pmdarima) (0.10.2)\n",
            "Requirement already satisfied: urllib3 in /usr/local/lib/python3.6/dist-packages (from pmdarima) (1.24.3)\n",
            "Requirement already satisfied: numpy>=1.17.3 in /usr/local/lib/python3.6/dist-packages (from pmdarima) (1.18.2)\n",
            "Requirement already satisfied: scipy>=1.3.2 in /usr/local/lib/python3.6/dist-packages (from pmdarima) (1.4.1)\n",
            "Requirement already satisfied: scikit-learn>=0.22 in /usr/local/lib/python3.6/dist-packages (from pmdarima) (0.22.2.post1)\n",
            "Requirement already satisfied: pandas>=0.19 in /usr/local/lib/python3.6/dist-packages (from pmdarima) (0.25.3)\n",
            "Requirement already satisfied: Cython>=0.29 in /usr/local/lib/python3.6/dist-packages (from pmdarima) (0.29.15)\n",
            "Requirement already satisfied: joblib>=0.11 in /usr/local/lib/python3.6/dist-packages (from pmdarima) (0.14.1)\n",
            "Requirement already satisfied: patsy>=0.4.0 in /usr/local/lib/python3.6/dist-packages (from statsmodels>=0.10.2->pmdarima) (0.5.1)\n",
            "Requirement already satisfied: pytz>=2017.2 in /usr/local/lib/python3.6/dist-packages (from pandas>=0.19->pmdarima) (2018.9)\n",
            "Requirement already satisfied: python-dateutil>=2.6.1 in /usr/local/lib/python3.6/dist-packages (from pandas>=0.19->pmdarima) (2.8.1)\n",
            "Requirement already satisfied: six in /usr/local/lib/python3.6/dist-packages (from patsy>=0.4.0->statsmodels>=0.10.2->pmdarima) (1.12.0)\n",
            "Installing collected packages: pmdarima\n",
            "Successfully installed pmdarima-1.5.3\n"
          ],
          "name": "stdout"
        }
      ]
    },
    {
      "cell_type": "markdown",
      "metadata": {
        "id": "piv2Q-M34T8J",
        "colab_type": "text"
      },
      "source": [
        "## Implementation of Auto-ARIMA in python\n",
        "\n",
        "#### Problem Statement : Predict no of passengers in next month."
      ]
    },
    {
      "cell_type": "code",
      "metadata": {
        "id": "ZlTqvI6z5bBH",
        "colab_type": "code",
        "outputId": "574c6ef0-df17-4e9d-bd5e-2b5f195f1c41",
        "colab": {
          "resources": {
            "http://localhost:8080/nbextensions/google.colab/files.js": {
              "data": "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",
              "ok": true,
              "headers": [
                [
                  "content-type",
                  "application/javascript"
                ]
              ],
              "status": 200,
              "status_text": ""
            }
          },
          "base_uri": "https://localhost:8080/",
          "height": 111
        }
      },
      "source": [
        "from google.colab import files\n",
        "files.upload()"
      ],
      "execution_count": 2,
      "outputs": [
        {
          "output_type": "display_data",
          "data": {
            "text/html": [
              "\n",
              "     <input type=\"file\" id=\"files-1bfbb92d-e1c9-431b-8f46-fc41355f1451\" name=\"files[]\" multiple disabled />\n",
              "     <output id=\"result-1bfbb92d-e1c9-431b-8f46-fc41355f1451\">\n",
              "      Upload widget is only available when the cell has been executed in the\n",
              "      current browser session. Please rerun this cell to enable.\n",
              "      </output>\n",
              "      <script src=\"/nbextensions/google.colab/files.js\"></script> "
            ],
            "text/plain": [
              "<IPython.core.display.HTML object>"
            ]
          },
          "metadata": {
            "tags": []
          }
        },
        {
          "output_type": "stream",
          "text": [
            "Saving AirPassengers.csv to AirPassengers.csv\n"
          ],
          "name": "stdout"
        },
        {
          "output_type": "execute_result",
          "data": {
            "text/plain": [
              "{'AirPassengers.csv': b'Month,#Passengers\\n1949-01,112\\n1949-02,118\\n1949-03,132\\n1949-04,129\\n1949-05,121\\n1949-06,135\\n1949-07,148\\n1949-08,148\\n1949-09,136\\n1949-10,119\\n1949-11,104\\n1949-12,118\\n1950-01,115\\n1950-02,126\\n1950-03,141\\n1950-04,135\\n1950-05,125\\n1950-06,149\\n1950-07,170\\n1950-08,170\\n1950-09,158\\n1950-10,133\\n1950-11,114\\n1950-12,140\\n1951-01,145\\n1951-02,150\\n1951-03,178\\n1951-04,163\\n1951-05,172\\n1951-06,178\\n1951-07,199\\n1951-08,199\\n1951-09,184\\n1951-10,162\\n1951-11,146\\n1951-12,166\\n1952-01,171\\n1952-02,180\\n1952-03,193\\n1952-04,181\\n1952-05,183\\n1952-06,218\\n1952-07,230\\n1952-08,242\\n1952-09,209\\n1952-10,191\\n1952-11,172\\n1952-12,194\\n1953-01,196\\n1953-02,196\\n1953-03,236\\n1953-04,235\\n1953-05,229\\n1953-06,243\\n1953-07,264\\n1953-08,272\\n1953-09,237\\n1953-10,211\\n1953-11,180\\n1953-12,201\\n1954-01,204\\n1954-02,188\\n1954-03,235\\n1954-04,227\\n1954-05,234\\n1954-06,264\\n1954-07,302\\n1954-08,293\\n1954-09,259\\n1954-10,229\\n1954-11,203\\n1954-12,229\\n1955-01,242\\n1955-02,233\\n1955-03,267\\n1955-04,269\\n1955-05,270\\n1955-06,315\\n1955-07,364\\n1955-08,347\\n1955-09,312\\n1955-10,274\\n1955-11,237\\n1955-12,278\\n1956-01,284\\n1956-02,277\\n1956-03,317\\n1956-04,313\\n1956-05,318\\n1956-06,374\\n1956-07,413\\n1956-08,405\\n1956-09,355\\n1956-10,306\\n1956-11,271\\n1956-12,306\\n1957-01,315\\n1957-02,301\\n1957-03,356\\n1957-04,348\\n1957-05,355\\n1957-06,422\\n1957-07,465\\n1957-08,467\\n1957-09,404\\n1957-10,347\\n1957-11,305\\n1957-12,336\\n1958-01,340\\n1958-02,318\\n1958-03,362\\n1958-04,348\\n1958-05,363\\n1958-06,435\\n1958-07,491\\n1958-08,505\\n1958-09,404\\n1958-10,359\\n1958-11,310\\n1958-12,337\\n1959-01,360\\n1959-02,342\\n1959-03,406\\n1959-04,396\\n1959-05,420\\n1959-06,472\\n1959-07,548\\n1959-08,559\\n1959-09,463\\n1959-10,407\\n1959-11,362\\n1959-12,405\\n1960-01,417\\n1960-02,391\\n1960-03,419\\n1960-04,461\\n1960-05,472\\n1960-06,535\\n1960-07,622\\n1960-08,606\\n1960-09,508\\n1960-10,461\\n1960-11,390\\n1960-12,432\\n'}"
            ]
          },
          "metadata": {
            "tags": []
          },
          "execution_count": 2
        }
      ]
    },
    {
      "cell_type": "code",
      "metadata": {
        "id": "uy52iHuK56Dr",
        "colab_type": "code",
        "colab": {}
      },
      "source": [
        "import pandas as pd\n",
        "import numpy as np\n",
        "from pyramid import auto_arima\n",
        "#from pmdarima import auto_arima"
      ],
      "execution_count": 0,
      "outputs": []
    },
    {
      "cell_type": "code",
      "metadata": {
        "id": "eXxWXiN76H-Q",
        "colab_type": "code",
        "outputId": "c86f4cee-ee97-40a6-8c8a-072e08775ae6",
        "colab": {
          "base_uri": "https://localhost:8080/",
          "height": 204
        }
      },
      "source": [
        "df = pd.read_csv('AirPassengers.csv')\n",
        "df.head()"
      ],
      "execution_count": 33,
      "outputs": [
        {
          "output_type": "execute_result",
          "data": {
            "text/html": [
              "<div>\n",
              "<style scoped>\n",
              "    .dataframe tbody tr th:only-of-type {\n",
              "        vertical-align: middle;\n",
              "    }\n",
              "\n",
              "    .dataframe tbody tr th {\n",
              "        vertical-align: top;\n",
              "    }\n",
              "\n",
              "    .dataframe thead th {\n",
              "        text-align: right;\n",
              "    }\n",
              "</style>\n",
              "<table border=\"1\" class=\"dataframe\">\n",
              "  <thead>\n",
              "    <tr style=\"text-align: right;\">\n",
              "      <th></th>\n",
              "      <th>Month</th>\n",
              "      <th>#Passengers</th>\n",
              "    </tr>\n",
              "  </thead>\n",
              "  <tbody>\n",
              "    <tr>\n",
              "      <th>0</th>\n",
              "      <td>1949-01</td>\n",
              "      <td>112</td>\n",
              "    </tr>\n",
              "    <tr>\n",
              "      <th>1</th>\n",
              "      <td>1949-02</td>\n",
              "      <td>118</td>\n",
              "    </tr>\n",
              "    <tr>\n",
              "      <th>2</th>\n",
              "      <td>1949-03</td>\n",
              "      <td>132</td>\n",
              "    </tr>\n",
              "    <tr>\n",
              "      <th>3</th>\n",
              "      <td>1949-04</td>\n",
              "      <td>129</td>\n",
              "    </tr>\n",
              "    <tr>\n",
              "      <th>4</th>\n",
              "      <td>1949-05</td>\n",
              "      <td>121</td>\n",
              "    </tr>\n",
              "  </tbody>\n",
              "</table>\n",
              "</div>"
            ],
            "text/plain": [
              "     Month  #Passengers\n",
              "0  1949-01          112\n",
              "1  1949-02          118\n",
              "2  1949-03          132\n",
              "3  1949-04          129\n",
              "4  1949-05          121"
            ]
          },
          "metadata": {
            "tags": []
          },
          "execution_count": 33
        }
      ]
    },
    {
      "cell_type": "code",
      "metadata": {
        "id": "PjHAaiBQ6QQI",
        "colab_type": "code",
        "colab": {}
      },
      "source": [
        "df['Month'] = pd.to_datetime(df['Month'])"
      ],
      "execution_count": 0,
      "outputs": []
    },
    {
      "cell_type": "code",
      "metadata": {
        "id": "s39G7DZI6bSE",
        "colab_type": "code",
        "colab": {}
      },
      "source": [
        "df.set_index('Month',inplace=True)"
      ],
      "execution_count": 0,
      "outputs": []
    },
    {
      "cell_type": "code",
      "metadata": {
        "id": "_2jNJL976l7n",
        "colab_type": "code",
        "outputId": "6753cfff-5189-4555-fa10-273dda860198",
        "colab": {
          "base_uri": "https://localhost:8080/",
          "height": 235
        }
      },
      "source": [
        "df.head()"
      ],
      "execution_count": 36,
      "outputs": [
        {
          "output_type": "execute_result",
          "data": {
            "text/html": [
              "<div>\n",
              "<style scoped>\n",
              "    .dataframe tbody tr th:only-of-type {\n",
              "        vertical-align: middle;\n",
              "    }\n",
              "\n",
              "    .dataframe tbody tr th {\n",
              "        vertical-align: top;\n",
              "    }\n",
              "\n",
              "    .dataframe thead th {\n",
              "        text-align: right;\n",
              "    }\n",
              "</style>\n",
              "<table border=\"1\" class=\"dataframe\">\n",
              "  <thead>\n",
              "    <tr style=\"text-align: right;\">\n",
              "      <th></th>\n",
              "      <th>#Passengers</th>\n",
              "    </tr>\n",
              "    <tr>\n",
              "      <th>Month</th>\n",
              "      <th></th>\n",
              "    </tr>\n",
              "  </thead>\n",
              "  <tbody>\n",
              "    <tr>\n",
              "      <th>1949-01-01</th>\n",
              "      <td>112</td>\n",
              "    </tr>\n",
              "    <tr>\n",
              "      <th>1949-02-01</th>\n",
              "      <td>118</td>\n",
              "    </tr>\n",
              "    <tr>\n",
              "      <th>1949-03-01</th>\n",
              "      <td>132</td>\n",
              "    </tr>\n",
              "    <tr>\n",
              "      <th>1949-04-01</th>\n",
              "      <td>129</td>\n",
              "    </tr>\n",
              "    <tr>\n",
              "      <th>1949-05-01</th>\n",
              "      <td>121</td>\n",
              "    </tr>\n",
              "  </tbody>\n",
              "</table>\n",
              "</div>"
            ],
            "text/plain": [
              "            #Passengers\n",
              "Month                  \n",
              "1949-01-01          112\n",
              "1949-02-01          118\n",
              "1949-03-01          132\n",
              "1949-04-01          129\n",
              "1949-05-01          121"
            ]
          },
          "metadata": {
            "tags": []
          },
          "execution_count": 36
        }
      ]
    },
    {
      "cell_type": "markdown",
      "metadata": {
        "id": "FKEova8-6sNN",
        "colab_type": "text"
      },
      "source": [
        "## Plotting the time series data is also important to see the trend and seasonality in data. "
      ]
    },
    {
      "cell_type": "code",
      "metadata": {
        "id": "sXkiUQzW6tOr",
        "colab_type": "code",
        "outputId": "b00982e1-1c43-4712-819f-8b53e297631e",
        "colab": {
          "base_uri": "https://localhost:8080/",
          "height": 279
        }
      },
      "source": [
        "import matplotlib.pyplot as plt\n",
        "df.plot()\n",
        "plt.show()"
      ],
      "execution_count": 37,
      "outputs": [
        {
          "output_type": "display_data",
          "data": {
            "image/png": "[encoded data removed]",
            "text/plain": [
              "<Figure size 432x288 with 1 Axes>"
            ]
          },
          "metadata": {
            "tags": []
          }
        }
      ]
    },
    {
      "cell_type": "markdown",
      "metadata": {
        "id": "o4zqlQ8e7LNi",
        "colab_type": "text"
      },
      "source": [
        "## Split the dataset"
      ]
    },
    {
      "cell_type": "code",
      "metadata": {
        "id": "GKmtUfzG7OHv",
        "colab_type": "code",
        "colab": {
          "base_uri": "https://localhost:8080/",
          "height": 51
        },
        "outputId": "2de70873-433b-4bed-851e-d2fc5b1a9e54"
      },
      "source": [
        "train = df[:int(0.8 * len(df))]\n",
        "test = df[int(0.8 * len(df)):]\n",
        "\n",
        "print(train.shape)\n",
        "print(test.shape)"
      ],
      "execution_count": 38,
      "outputs": [
        {
          "output_type": "stream",
          "text": [
            "(115, 1)\n",
            "(29, 1)\n"
          ],
          "name": "stdout"
        }
      ]
    },
    {
      "cell_type": "code",
      "metadata": {
        "id": "fxsgFz5OFNUi",
        "colab_type": "code",
        "colab": {
          "base_uri": "https://localhost:8080/",
          "height": 1000
        },
        "outputId": "b1dd2b65-112a-42df-a51c-c46791ec4a45"
      },
      "source": [
        "#training model\n",
        "model = auto_arima(train, trace=True,start_p=0, start_q=0, start_P=0, start_Q=0,\n",
        "                  max_p=10, max_q=10, max_P=10, max_Q=10, seasonal=True,\n",
        "                  stepwise=False, suppress_warnings=True, D=1, max_D=10,\n",
        "                  error_action='ignore',approximation = False)\n",
        "#fitting model\n",
        "model.fit(train)"
      ],
      "execution_count": 41,
      "outputs": [
        {
          "output_type": "stream",
          "text": [
            "Fit ARIMA: order=(0, 1, 0) seasonal_order=(0, 0, 0, 1); AIC=1076.519, BIC=1081.991, Fit time=0.010 seconds\n",
            "Fit ARIMA: order=(0, 1, 1) seasonal_order=(0, 0, 0, 1); AIC=1064.624, BIC=1072.833, Fit time=0.059 seconds\n",
            "Fit ARIMA: order=(0, 1, 2) seasonal_order=(0, 0, 0, 1); AIC=1061.078, BIC=1072.023, Fit time=0.082 seconds\n",
            "Fit ARIMA: order=(0, 1, 3) seasonal_order=(0, 0, 0, 1); AIC=1053.366, BIC=1067.047, Fit time=0.286 seconds\n",
            "Fit ARIMA: order=(0, 1, 4) seasonal_order=(0, 0, 0, 1); AIC=1038.342, BIC=1054.760, Fit time=0.440 seconds\n",
            "Fit ARIMA: order=(0, 1, 5) seasonal_order=(0, 0, 0, 1); AIC=1038.250, BIC=1057.403, Fit time=0.522 seconds\n",
            "Fit ARIMA: order=(0, 1, 6) seasonal_order=(0, 0, 0, 1); AIC=1036.019, BIC=1057.908, Fit time=0.607 seconds\n",
            "Fit ARIMA: order=(0, 1, 7) seasonal_order=(0, 0, 0, 1); AIC=1036.387, BIC=1061.013, Fit time=0.800 seconds\n",
            "Fit ARIMA: order=(0, 1, 8) seasonal_order=(0, 0, 0, 1); AIC=1024.444, BIC=1051.806, Fit time=0.828 seconds\n",
            "Fit ARIMA: order=(0, 1, 9) seasonal_order=(0, 0, 0, 1); AIC=1029.867, BIC=1059.965, Fit time=1.025 seconds\n",
            "Fit ARIMA: order=(0, 1, 10) seasonal_order=(0, 0, 0, 1); AIC=1027.287, BIC=1060.122, Fit time=1.484 seconds\n",
            "Fit ARIMA: order=(1, 1, 0) seasonal_order=(0, 0, 0, 1); AIC=1069.440, BIC=1077.648, Fit time=0.043 seconds\n",
            "Fit ARIMA: order=(1, 1, 1) seasonal_order=(0, 0, 0, 1); AIC=1058.834, BIC=1069.778, Fit time=0.099 seconds\n",
            "Fit ARIMA: order=(1, 1, 2) seasonal_order=(0, 0, 0, 1); AIC=1046.051, BIC=1059.732, Fit time=0.249 seconds\n",
            "Fit ARIMA: order=(1, 1, 3) seasonal_order=(0, 0, 0, 1); AIC=1047.911, BIC=1064.328, Fit time=0.323 seconds\n",
            "Fit ARIMA: order=(1, 1, 4) seasonal_order=(0, 0, 0, 1); AIC=1046.007, BIC=1065.160, Fit time=0.522 seconds\n",
            "Fit ARIMA: order=(1, 1, 5) seasonal_order=(0, 0, 0, 1); AIC=1062.372, BIC=1084.262, Fit time=0.559 seconds\n",
            "Fit ARIMA: order=(1, 1, 6) seasonal_order=(0, 0, 0, 1); AIC=1040.370, BIC=1064.995, Fit time=0.576 seconds\n",
            "Fit ARIMA: order=(1, 1, 7) seasonal_order=(0, 0, 0, 1); AIC=1037.423, BIC=1064.785, Fit time=0.846 seconds\n",
            "Fit ARIMA: order=(1, 1, 8) seasonal_order=(0, 0, 0, 1); AIC=1025.805, BIC=1055.903, Fit time=1.036 seconds\n",
            "Fit ARIMA: order=(1, 1, 9) seasonal_order=(0, 0, 0, 1); AIC=1027.387, BIC=1060.222, Fit time=1.217 seconds\n",
            "Fit ARIMA: order=(2, 1, 0) seasonal_order=(0, 0, 0, 1); AIC=1066.203, BIC=1077.148, Fit time=0.081 seconds\n",
            "Fit ARIMA: order=(2, 1, 1) seasonal_order=(0, 0, 0, 1); AIC=1045.658, BIC=1059.339, Fit time=0.355 seconds\n",
            "Fit ARIMA: order=(2, 1, 2) seasonal_order=(0, 0, 0, 1); AIC=1047.202, BIC=1063.619, Fit time=0.184 seconds\n",
            "Fit ARIMA: order=(2, 1, 3) seasonal_order=(0, 0, 0, 1); AIC=1045.795, BIC=1064.948, Fit time=0.418 seconds\n",
            "Fit ARIMA: order=(2, 1, 4) seasonal_order=(0, 0, 0, 1); AIC=1035.496, BIC=1057.386, Fit time=0.531 seconds\n",
            "Fit ARIMA: order=(2, 1, 5) seasonal_order=(0, 0, 0, 1); AIC=1031.078, BIC=1055.704, Fit time=0.724 seconds\n",
            "Fit ARIMA: order=(2, 1, 6) seasonal_order=(0, 0, 0, 1); AIC=1016.346, BIC=1043.708, Fit time=0.882 seconds\n",
            "Fit ARIMA: order=(2, 1, 7) seasonal_order=(0, 0, 0, 1); AIC=1024.344, BIC=1054.442, Fit time=0.988 seconds\n",
            "Fit ARIMA: order=(2, 1, 8) seasonal_order=(0, 0, 0, 1); AIC=1018.381, BIC=1051.216, Fit time=1.045 seconds\n",
            "Fit ARIMA: order=(3, 1, 0) seasonal_order=(0, 0, 0, 1); AIC=1068.094, BIC=1081.775, Fit time=0.072 seconds\n",
            "Fit ARIMA: order=(3, 1, 1) seasonal_order=(0, 0, 0, 1); AIC=1061.649, BIC=1078.066, Fit time=0.266 seconds\n",
            "Fit ARIMA: order=(3, 1, 2) seasonal_order=(0, 0, 0, 1); AIC=1040.959, BIC=1060.113, Fit time=0.310 seconds\n",
            "Fit ARIMA: order=(3, 1, 3) seasonal_order=(0, 0, 0, 1); AIC=1024.098, BIC=1045.988, Fit time=0.377 seconds\n",
            "Fit ARIMA: order=(3, 1, 4) seasonal_order=(0, 0, 0, 1); AIC=1062.363, BIC=1086.989, Fit time=0.603 seconds\n",
            "Fit ARIMA: order=(3, 1, 5) seasonal_order=(0, 0, 0, 1); AIC=1027.665, BIC=1055.027, Fit time=0.701 seconds\n",
            "Fit ARIMA: order=(3, 1, 6) seasonal_order=(0, 0, 0, 1); AIC=1028.861, BIC=1058.959, Fit time=0.800 seconds\n",
            "Fit ARIMA: order=(3, 1, 7) seasonal_order=(0, 0, 0, 1); AIC=1029.671, BIC=1062.505, Fit time=1.065 seconds\n",
            "Fit ARIMA: order=(4, 1, 0) seasonal_order=(0, 0, 0, 1); AIC=1059.217, BIC=1075.634, Fit time=0.113 seconds\n",
            "Fit ARIMA: order=(4, 1, 1) seasonal_order=(0, 0, 0, 1); AIC=1059.464, BIC=1078.617, Fit time=0.337 seconds\n",
            "Fit ARIMA: order=(4, 1, 2) seasonal_order=(0, 0, 0, 1); AIC=1038.881, BIC=1060.770, Fit time=0.493 seconds\n",
            "Fit ARIMA: order=(4, 1, 3) seasonal_order=(0, 0, 0, 1); AIC=1025.989, BIC=1050.615, Fit time=0.584 seconds\n",
            "Fit ARIMA: order=(4, 1, 4) seasonal_order=(0, 0, 0, 1); AIC=1043.706, BIC=1071.068, Fit time=0.698 seconds\n",
            "Fit ARIMA: order=(4, 1, 5) seasonal_order=(0, 0, 0, 1); AIC=1032.263, BIC=1062.361, Fit time=0.759 seconds\n",
            "Fit ARIMA: order=(4, 1, 6) seasonal_order=(0, 0, 0, 1); AIC=1021.518, BIC=1054.352, Fit time=1.002 seconds\n",
            "Fit ARIMA: order=(5, 1, 0) seasonal_order=(0, 0, 0, 1); AIC=1060.864, BIC=1080.017, Fit time=0.131 seconds\n",
            "Fit ARIMA: order=(5, 1, 1) seasonal_order=(0, 0, 0, 1); AIC=1058.198, BIC=1080.087, Fit time=0.494 seconds\n",
            "Fit ARIMA: order=(5, 1, 2) seasonal_order=(0, 0, 0, 1); AIC=1039.769, BIC=1064.395, Fit time=0.519 seconds\n",
            "Fit ARIMA: order=(5, 1, 3) seasonal_order=(0, 0, 0, 1); AIC=1042.109, BIC=1069.471, Fit time=0.666 seconds\n",
            "Fit ARIMA: order=(5, 1, 4) seasonal_order=(0, 0, 0, 1); AIC=1043.030, BIC=1073.128, Fit time=0.703 seconds\n",
            "Fit ARIMA: order=(5, 1, 5) seasonal_order=(0, 0, 0, 1); AIC=1020.737, BIC=1053.572, Fit time=0.924 seconds\n",
            "Fit ARIMA: order=(6, 1, 0) seasonal_order=(0, 0, 0, 1); AIC=1061.630, BIC=1083.520, Fit time=0.262 seconds\n",
            "Fit ARIMA: order=(6, 1, 1) seasonal_order=(0, 0, 0, 1); AIC=1033.329, BIC=1057.955, Fit time=0.622 seconds\n",
            "Fit ARIMA: order=(6, 1, 2) seasonal_order=(0, 0, 0, 1); AIC=1041.150, BIC=1068.512, Fit time=0.707 seconds\n",
            "Fit ARIMA: order=(6, 1, 3) seasonal_order=(0, 0, 0, 1); AIC=1034.337, BIC=1064.435, Fit time=0.816 seconds\n",
            "Fit ARIMA: order=(6, 1, 4) seasonal_order=(0, 0, 0, 1); AIC=1045.207, BIC=1078.042, Fit time=0.961 seconds\n",
            "Fit ARIMA: order=(7, 1, 0) seasonal_order=(0, 0, 0, 1); AIC=1058.568, BIC=1083.193, Fit time=0.228 seconds\n",
            "Fit ARIMA: order=(7, 1, 1) seasonal_order=(0, 0, 0, 1); AIC=1021.267, BIC=1048.629, Fit time=0.700 seconds\n",
            "Fit ARIMA: order=(7, 1, 2) seasonal_order=(0, 0, 0, 1); AIC=1034.779, BIC=1064.877, Fit time=0.780 seconds\n",
            "Fit ARIMA: order=(7, 1, 3) seasonal_order=(0, 0, 0, 1); AIC=997.976, BIC=1030.810, Fit time=0.970 seconds\n",
            "Fit ARIMA: order=(8, 1, 0) seasonal_order=(0, 0, 0, 1); AIC=1029.532, BIC=1056.894, Fit time=0.567 seconds\n",
            "Fit ARIMA: order=(8, 1, 1) seasonal_order=(0, 0, 0, 1); AIC=999.860, BIC=1029.958, Fit time=0.919 seconds\n",
            "Fit ARIMA: order=(8, 1, 2) seasonal_order=(0, 0, 0, 1); AIC=963.827, BIC=996.661, Fit time=1.012 seconds\n",
            "Fit ARIMA: order=(9, 1, 0) seasonal_order=(0, 0, 0, 1); AIC=1024.639, BIC=1054.737, Fit time=0.777 seconds\n",
            "Fit ARIMA: order=(9, 1, 1) seasonal_order=(0, 0, 0, 1); AIC=997.938, BIC=1030.772, Fit time=1.074 seconds\n",
            "Fit ARIMA: order=(10, 1, 0) seasonal_order=(0, 0, 0, 1); AIC=944.948, BIC=977.782, Fit time=1.138 seconds\n",
            "Total fit time: 40.015 seconds\n"
          ],
          "name": "stdout"
        },
        {
          "output_type": "execute_result",
          "data": {
            "text/plain": [
              "ARIMA(callback=None, disp=0, maxiter=50, method=None, order=(10, 1, 0),\n",
              "      out_of_sample_size=0, scoring='mse', scoring_args={},\n",
              "      seasonal_order=(0, 0, 0, 1), solver='lbfgs', start_params=None,\n",
              "      suppress_warnings=True, transparams=True, trend='c')"
            ]
          },
          "metadata": {
            "tags": []
          },
          "execution_count": 41
        }
      ]
    },
    {
      "cell_type": "code",
      "metadata": {
        "id": "fP0-PzF9Fnpp",
        "colab_type": "code",
        "colab": {}
      },
      "source": [
        "y_pred = model.predict(n_periods=len(test))"
      ],
      "execution_count": 0,
      "outputs": []
    },
    {
      "cell_type": "markdown",
      "metadata": {
        "id": "rMR0R8I-GpTs",
        "colab_type": "text"
      },
      "source": [
        "## Accuracy of prediction"
      ]
    },
    {
      "cell_type": "code",
      "metadata": {
        "id": "pup9fXFGGrwO",
        "colab_type": "code",
        "colab": {
          "base_uri": "https://localhost:8080/",
          "height": 34
        },
        "outputId": "5205cb55-39d7-46c9-d7fd-9218359cba5c"
      },
      "source": [
        "from sklearn.metrics import r2_score\n",
        "acc = r2_score(test.values,y_pred)\n",
        "print(acc)"
      ],
      "execution_count": 43,
      "outputs": [
        {
          "output_type": "stream",
          "text": [
            "0.738373199953962\n"
          ],
          "name": "stdout"
        }
      ]
    },
    {
      "cell_type": "code",
      "metadata": {
        "id": "QlBTGt9nJVhV",
        "colab_type": "code",
        "colab": {
          "base_uri": "https://localhost:8080/",
          "height": 547
        },
        "outputId": "24b71363-9b25-43e3-df57-364a9a890190"
      },
      "source": [
        "model = auto_arima(train)\n",
        "model.fit(train)"
      ],
      "execution_count": 44,
      "outputs": [
        {
          "output_type": "stream",
          "text": [
            "/usr/local/lib/python3.6/dist-packages/statsmodels/base/model.py:512: ConvergenceWarning: Maximum Likelihood optimization failed to converge. Check mle_retvals\n",
            "  \"Check mle_retvals\", ConvergenceWarning)\n",
            "/usr/local/lib/python3.6/dist-packages/statsmodels/tsa/statespace/sarimax.py:961: UserWarning: Non-invertible starting MA parameters found. Using zeros as starting parameters.\n",
            "  warn('Non-invertible starting MA parameters found.'\n",
            "/usr/local/lib/python3.6/dist-packages/statsmodels/base/model.py:512: ConvergenceWarning: Maximum Likelihood optimization failed to converge. Check mle_retvals\n",
            "  \"Check mle_retvals\", ConvergenceWarning)\n",
            "/usr/local/lib/python3.6/dist-packages/statsmodels/tsa/statespace/sarimax.py:961: UserWarning: Non-invertible starting MA parameters found. Using zeros as starting parameters.\n",
            "  warn('Non-invertible starting MA parameters found.'\n",
            "/usr/local/lib/python3.6/dist-packages/statsmodels/tsa/statespace/sarimax.py:961: UserWarning: Non-invertible starting MA parameters found. Using zeros as starting parameters.\n",
            "  warn('Non-invertible starting MA parameters found.'\n",
            "/usr/local/lib/python3.6/dist-packages/statsmodels/tsa/statespace/sarimax.py:949: UserWarning: Non-stationary starting autoregressive parameters found. Using zeros as starting parameters.\n",
            "  warn('Non-stationary starting autoregressive parameters'\n",
            "/usr/local/lib/python3.6/dist-packages/statsmodels/tsa/statespace/sarimax.py:961: UserWarning: Non-invertible starting MA parameters found. Using zeros as starting parameters.\n",
            "  warn('Non-invertible starting MA parameters found.'\n",
            "/usr/local/lib/python3.6/dist-packages/statsmodels/base/model.py:512: ConvergenceWarning: Maximum Likelihood optimization failed to converge. Check mle_retvals\n",
            "  \"Check mle_retvals\", ConvergenceWarning)\n",
            "/usr/local/lib/python3.6/dist-packages/statsmodels/tsa/statespace/sarimax.py:949: UserWarning: Non-stationary starting autoregressive parameters found. Using zeros as starting parameters.\n",
            "  warn('Non-stationary starting autoregressive parameters'\n",
            "/usr/local/lib/python3.6/dist-packages/statsmodels/tsa/statespace/sarimax.py:961: UserWarning: Non-invertible starting MA parameters found. Using zeros as starting parameters.\n",
            "  warn('Non-invertible starting MA parameters found.'\n",
            "/usr/local/lib/python3.6/dist-packages/statsmodels/base/model.py:512: ConvergenceWarning: Maximum Likelihood optimization failed to converge. Check mle_retvals\n",
            "  \"Check mle_retvals\", ConvergenceWarning)\n",
            "/usr/local/lib/python3.6/dist-packages/statsmodels/base/model.py:512: ConvergenceWarning: Maximum Likelihood optimization failed to converge. Check mle_retvals\n",
            "  \"Check mle_retvals\", ConvergenceWarning)\n",
            "/usr/local/lib/python3.6/dist-packages/statsmodels/tsa/statespace/sarimax.py:961: UserWarning: Non-invertible starting MA parameters found. Using zeros as starting parameters.\n",
            "  warn('Non-invertible starting MA parameters found.'\n"
          ],
          "name": "stderr"
        },
        {
          "output_type": "execute_result",
          "data": {
            "text/plain": [
              "ARIMA(callback=None, disp=0, maxiter=50, method=None, order=(3, 1, 3),\n",
              "      out_of_sample_size=0, scoring='mse', scoring_args={},\n",
              "      seasonal_order=(0, 0, 0, 1), solver='lbfgs', start_params=None,\n",
              "      suppress_warnings=False, transparams=True, trend='c')"
            ]
          },
          "metadata": {
            "tags": []
          },
          "execution_count": 44
        }
      ]
    },
    {
      "cell_type": "code",
      "metadata": {
        "id": "Ttrh7YAILIJ0",
        "colab_type": "code",
        "colab": {
          "base_uri": "https://localhost:8080/",
          "height": 34
        },
        "outputId": "21ec922a-7344-4b7f-e3e6-c9f7a2d89b2d"
      },
      "source": [
        "model.seasonal_order"
      ],
      "execution_count": 48,
      "outputs": [
        {
          "output_type": "execute_result",
          "data": {
            "text/plain": [
              "(0, 0, 0, 1)"
            ]
          },
          "metadata": {
            "tags": []
          },
          "execution_count": 48
        }
      ]
    },
    {
      "cell_type": "code",
      "metadata": {
        "id": "ahuHiIfHL4r_",
        "colab_type": "code",
        "colab": {
          "base_uri": "https://localhost:8080/",
          "height": 34
        },
        "outputId": "836ea16a-e783-45da-f9db-656d114e9e58"
      },
      "source": [
        "model.order"
      ],
      "execution_count": 49,
      "outputs": [
        {
          "output_type": "execute_result",
          "data": {
            "text/plain": [
              "(3, 1, 3)"
            ]
          },
          "metadata": {
            "tags": []
          },
          "execution_count": 49
        }
      ]
    },
    {
      "cell_type": "code",
      "metadata": {
        "id": "ZDyOGGj5LFvk",
        "colab_type": "code",
        "colab": {
          "base_uri": "https://localhost:8080/",
          "height": 34
        },
        "outputId": "6b890e91-6968-4aa5-ffb0-ef4100d83ee3"
      },
      "source": [
        "from sklearn.metrics import r2_score\n",
        "acc = r2_score(test.values,y_pred)\n",
        "print(acc)"
      ],
      "execution_count": 45,
      "outputs": [
        {
          "output_type": "stream",
          "text": [
            "0.738373199953962\n"
          ],
          "name": "stdout"
        }
      ]
    }
  ]
}