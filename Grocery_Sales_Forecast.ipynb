{
  "nbformat": 4,
  "nbformat_minor": 0,
  "metadata": {
    "colab": {
      "name": "Grocery_Sales_Forecast.ipynb",
      "provenance": [],
      "authorship_tag": "ABX9TyNgoAS+19MUTfDH0IlWfzrj",
      "include_colab_link": true
    },
    "kernelspec": {
      "name": "python3",
      "display_name": "Python 3"
    }
  },
  "cells": [
    {
      "cell_type": "markdown",
      "metadata": {
        "id": "view-in-github",
        "colab_type": "text"
      },
      "source": [
        "<a href=\"https://colab.research.google.com/github/plaban1981/Timeseries/blob/master/Grocery_Sales_Forecast.ipynb\" target=\"_parent\"><img src=\"https://colab.research.google.com/assets/colab-badge.svg\" alt=\"Open In Colab\"/></a>"
      ]
    },
    {
      "cell_type": "code",
      "metadata": {
        "id": "2Ng_okiAkse-",
        "colab_type": "code",
        "colab": {
          "resources": {
            "http://localhost:8080/nbextensions/google.colab/files.js": {
              "data": "Ly8gQ29weXJpZ2h0IDIwMTcgR29vZ2xlIExMQwovLwovLyBMaWNlbnNlZCB1bmRlciB0aGUgQXBhY2hlIExpY2Vuc2UsIFZlcnNpb24gMi4wICh0aGUgIkxpY2Vuc2UiKTsKLy8geW91IG1heSBub3QgdXNlIHRoaXMgZmlsZSBleGNlcHQgaW4gY29tcGxpYW5jZSB3aXRoIHRoZSBMaWNlbnNlLgovLyBZb3UgbWF5IG9idGFpbiBhIGNvcHkgb2YgdGhlIExpY2Vuc2UgYXQKLy8KLy8gICAgICBodHRwOi8vd3d3LmFwYWNoZS5vcmcvbGljZW5zZXMvTElDRU5TRS0yLjAKLy8KLy8gVW5sZXNzIHJlcXVpcmVkIGJ5IGFwcGxpY2FibGUgbGF3IG9yIGFncmVlZCB0byBpbiB3cml0aW5nLCBzb2Z0d2FyZQovLyBkaXN0cmlidXRlZCB1bmRlciB0aGUgTGljZW5zZSBpcyBkaXN0cmlidXRlZCBvbiBhbiAiQVMgSVMiIEJBU0lTLAovLyBXSVRIT1VUIFdBUlJBTlRJRVMgT1IgQ09ORElUSU9OUyBPRiBBTlkgS0lORCwgZWl0aGVyIGV4cHJlc3Mgb3IgaW1wbGllZC4KLy8gU2VlIHRoZSBMaWNlbnNlIGZvciB0aGUgc3BlY2lmaWMgbGFuZ3VhZ2UgZ292ZXJuaW5nIHBlcm1pc3Npb25zIGFuZAovLyBsaW1pdGF0aW9ucyB1bmRlciB0aGUgTGljZW5zZS4KCi8qKgogKiBAZmlsZW92ZXJ2aWV3IEhlbHBlcnMgZm9yIGdvb2dsZS5jb2xhYiBQeXRob24gbW9kdWxlLgogKi8KKGZ1bmN0aW9uKHNjb3BlKSB7CmZ1bmN0aW9uIHNwYW4odGV4dCwgc3R5bGVBdHRyaWJ1dGVzID0ge30pIHsKICBjb25zdCBlbGVtZW50ID0gZG9jdW1lbnQuY3JlYXRlRWxlbWVudCgnc3BhbicpOwogIGVsZW1lbnQudGV4dENvbnRlbnQgPSB0ZXh0OwogIGZvciAoY29uc3Qga2V5IG9mIE9iamVjdC5rZXlzKHN0eWxlQXR0cmlidXRlcykpIHsKICAgIGVsZW1lbnQuc3R5bGVba2V5XSA9IHN0eWxlQXR0cmlidXRlc1trZXldOwogIH0KICByZXR1cm4gZWxlbWVudDsKfQoKLy8gTWF4IG51bWJlciBvZiBieXRlcyB3aGljaCB3aWxsIGJlIHVwbG9hZGVkIGF0IGEgdGltZS4KY29uc3QgTUFYX1BBWUxPQURfU0laRSA9IDEwMCAqIDEwMjQ7Ci8vIE1heCBhbW91bnQgb2YgdGltZSB0byBibG9jayB3YWl0aW5nIGZvciB0aGUgdXNlci4KY29uc3QgRklMRV9DSEFOR0VfVElNRU9VVF9NUyA9IDMwICogMTAwMDsKCmZ1bmN0aW9uIF91cGxvYWRGaWxlcyhpbnB1dElkLCBvdXRwdXRJZCkgewogIGNvbnN0IHN0ZXBzID0gdXBsb2FkRmlsZXNTdGVwKGlucHV0SWQsIG91dHB1dElkKTsKICBjb25zdCBvdXRwdXRFbGVtZW50ID0gZG9jdW1lbnQuZ2V0RWxlbWVudEJ5SWQob3V0cHV0SWQpOwogIC8vIENhY2hlIHN0ZXBzIG9uIHRoZSBvdXRwdXRFbGVtZW50IHRvIG1ha2UgaXQgYXZhaWxhYmxlIGZvciB0aGUgbmV4dCBjYWxsCiAgLy8gdG8gdXBsb2FkRmlsZXNDb250aW51ZSBmcm9tIFB5dGhvbi4KICBvdXRwdXRFbGVtZW50LnN0ZXBzID0gc3RlcHM7CgogIHJldHVybiBfdXBsb2FkRmlsZXNDb250aW51ZShvdXRwdXRJZCk7Cn0KCi8vIFRoaXMgaXMgcm91Z2hseSBhbiBhc3luYyBnZW5lcmF0b3IgKG5vdCBzdXBwb3J0ZWQgaW4gdGhlIGJyb3dzZXIgeWV0KSwKLy8gd2hlcmUgdGhlcmUgYXJlIG11bHRpcGxlIGFzeW5jaHJvbm91cyBzdGVwcyBhbmQgdGhlIFB5dGhvbiBzaWRlIGlzIGdvaW5nCi8vIHRvIHBvbGwgZm9yIGNvbXBsZXRpb24gb2YgZWFjaCBzdGVwLgovLyBUaGlzIHVzZXMgYSBQcm9taXNlIHRvIGJsb2NrIHRoZSBweXRob24gc2lkZSBvbiBjb21wbGV0aW9uIG9mIGVhY2ggc3RlcCwKLy8gdGhlbiBwYXNzZXMgdGhlIHJlc3VsdCBvZiB0aGUgcHJldmlvdXMgc3RlcCBhcyB0aGUgaW5wdXQgdG8gdGhlIG5leHQgc3RlcC4KZnVuY3Rpb24gX3VwbG9hZEZpbGVzQ29udGludWUob3V0cHV0SWQpIHsKICBjb25zdCBvdXRwdXRFbGVtZW50ID0gZG9jdW1lbnQuZ2V0RWxlbWVudEJ5SWQob3V0cHV0SWQpOwogIGNvbnN0IHN0ZXBzID0gb3V0cHV0RWxlbWVudC5zdGVwczsKCiAgY29uc3QgbmV4dCA9IHN0ZXBzLm5leHQob3V0cHV0RWxlbWVudC5sYXN0UHJvbWlzZVZhbHVlKTsKICByZXR1cm4gUHJvbWlzZS5yZXNvbHZlKG5leHQudmFsdWUucHJvbWlzZSkudGhlbigodmFsdWUpID0+IHsKICAgIC8vIENhY2hlIHRoZSBsYXN0IHByb21pc2UgdmFsdWUgdG8gbWFrZSBpdCBhdmFpbGFibGUgdG8gdGhlIG5leHQKICAgIC8vIHN0ZXAgb2YgdGhlIGdlbmVyYXRvci4KICAgIG91dHB1dEVsZW1lbnQubGFzdFByb21pc2VWYWx1ZSA9IHZhbHVlOwogICAgcmV0dXJuIG5leHQudmFsdWUucmVzcG9uc2U7CiAgfSk7Cn0KCi8qKgogKiBHZW5lcmF0b3IgZnVuY3Rpb24gd2hpY2ggaXMgY2FsbGVkIGJldHdlZW4gZWFjaCBhc3luYyBzdGVwIG9mIHRoZSB1cGxvYWQKICogcHJvY2Vzcy4KICogQHBhcmFtIHtzdHJpbmd9IGlucHV0SWQgRWxlbWVudCBJRCBvZiB0aGUgaW5wdXQgZmlsZSBwaWNrZXIgZWxlbWVudC4KICogQHBhcmFtIHtzdHJpbmd9IG91dHB1dElkIEVsZW1lbnQgSUQgb2YgdGhlIG91dHB1dCBkaXNwbGF5LgogKiBAcmV0dXJuIHshSXRlcmFibGU8IU9iamVjdD59IEl0ZXJhYmxlIG9mIG5leHQgc3RlcHMuCiAqLwpmdW5jdGlvbiogdXBsb2FkRmlsZXNTdGVwKGlucHV0SWQsIG91dHB1dElkKSB7CiAgY29uc3QgaW5wdXRFbGVtZW50ID0gZG9jdW1lbnQuZ2V0RWxlbWVudEJ5SWQoaW5wdXRJZCk7CiAgaW5wdXRFbGVtZW50LmRpc2FibGVkID0gZmFsc2U7CgogIGNvbnN0IG91dHB1dEVsZW1lbnQgPSBkb2N1bWVudC5nZXRFbGVtZW50QnlJZChvdXRwdXRJZCk7CiAgb3V0cHV0RWxlbWVudC5pbm5lckhUTUwgPSAnJzsKCiAgY29uc3QgcGlja2VkUHJvbWlzZSA9IG5ldyBQcm9taXNlKChyZXNvbHZlKSA9PiB7CiAgICBpbnB1dEVsZW1lbnQuYWRkRXZlbnRMaXN0ZW5lcignY2hhbmdlJywgKGUpID0+IHsKICAgICAgcmVzb2x2ZShlLnRhcmdldC5maWxlcyk7CiAgICB9KTsKICB9KTsKCiAgY29uc3QgY2FuY2VsID0gZG9jdW1lbnQuY3JlYXRlRWxlbWVudCgnYnV0dG9uJyk7CiAgaW5wdXRFbGVtZW50LnBhcmVudEVsZW1lbnQuYXBwZW5kQ2hpbGQoY2FuY2VsKTsKICBjYW5jZWwudGV4dENvbnRlbnQgPSAnQ2FuY2VsIHVwbG9hZCc7CiAgY29uc3QgY2FuY2VsUHJvbWlzZSA9IG5ldyBQcm9taXNlKChyZXNvbHZlKSA9PiB7CiAgICBjYW5jZWwub25jbGljayA9ICgpID0+IHsKICAgICAgcmVzb2x2ZShudWxsKTsKICAgIH07CiAgfSk7CgogIC8vIENhbmNlbCB1cGxvYWQgaWYgdXNlciBoYXNuJ3QgcGlja2VkIGFueXRoaW5nIGluIHRpbWVvdXQuCiAgY29uc3QgdGltZW91dFByb21pc2UgPSBuZXcgUHJvbWlzZSgocmVzb2x2ZSkgPT4gewogICAgc2V0VGltZW91dCgoKSA9PiB7CiAgICAgIHJlc29sdmUobnVsbCk7CiAgICB9LCBGSUxFX0NIQU5HRV9USU1FT1VUX01TKTsKICB9KTsKCiAgLy8gV2FpdCBmb3IgdGhlIHVzZXIgdG8gcGljayB0aGUgZmlsZXMuCiAgY29uc3QgZmlsZXMgPSB5aWVsZCB7CiAgICBwcm9taXNlOiBQcm9taXNlLnJhY2UoW3BpY2tlZFByb21pc2UsIHRpbWVvdXRQcm9taXNlLCBjYW5jZWxQcm9taXNlXSksCiAgICByZXNwb25zZTogewogICAgICBhY3Rpb246ICdzdGFydGluZycsCiAgICB9CiAgfTsKCiAgaWYgKCFmaWxlcykgewogICAgcmV0dXJuIHsKICAgICAgcmVzcG9uc2U6IHsKICAgICAgICBhY3Rpb246ICdjb21wbGV0ZScsCiAgICAgIH0KICAgIH07CiAgfQoKICBjYW5jZWwucmVtb3ZlKCk7CgogIC8vIERpc2FibGUgdGhlIGlucHV0IGVsZW1lbnQgc2luY2UgZnVydGhlciBwaWNrcyBhcmUgbm90IGFsbG93ZWQuCiAgaW5wdXRFbGVtZW50LmRpc2FibGVkID0gdHJ1ZTsKCiAgZm9yIChjb25zdCBmaWxlIG9mIGZpbGVzKSB7CiAgICBjb25zdCBsaSA9IGRvY3VtZW50LmNyZWF0ZUVsZW1lbnQoJ2xpJyk7CiAgICBsaS5hcHBlbmQoc3BhbihmaWxlLm5hbWUsIHtmb250V2VpZ2h0OiAnYm9sZCd9KSk7CiAgICBsaS5hcHBlbmQoc3BhbigKICAgICAgICBgKCR7ZmlsZS50eXBlIHx8ICduL2EnfSkgLSAke2ZpbGUuc2l6ZX0gYnl0ZXMsIGAgKwogICAgICAgIGBsYXN0IG1vZGlmaWVkOiAkewogICAgICAgICAgICBmaWxlLmxhc3RNb2RpZmllZERhdGUgPyBmaWxlLmxhc3RNb2RpZmllZERhdGUudG9Mb2NhbGVEYXRlU3RyaW5nKCkgOgogICAgICAgICAgICAgICAgICAgICAgICAgICAgICAgICAgICAnbi9hJ30gLSBgKSk7CiAgICBjb25zdCBwZXJjZW50ID0gc3BhbignMCUgZG9uZScpOwogICAgbGkuYXBwZW5kQ2hpbGQocGVyY2VudCk7CgogICAgb3V0cHV0RWxlbWVudC5hcHBlbmRDaGlsZChsaSk7CgogICAgY29uc3QgZmlsZURhdGFQcm9taXNlID0gbmV3IFByb21pc2UoKHJlc29sdmUpID0+IHsKICAgICAgY29uc3QgcmVhZGVyID0gbmV3IEZpbGVSZWFkZXIoKTsKICAgICAgcmVhZGVyLm9ubG9hZCA9IChlKSA9PiB7CiAgICAgICAgcmVzb2x2ZShlLnRhcmdldC5yZXN1bHQpOwogICAgICB9OwogICAgICByZWFkZXIucmVhZEFzQXJyYXlCdWZmZXIoZmlsZSk7CiAgICB9KTsKICAgIC8vIFdhaXQgZm9yIHRoZSBkYXRhIHRvIGJlIHJlYWR5LgogICAgbGV0IGZpbGVEYXRhID0geWllbGQgewogICAgICBwcm9taXNlOiBmaWxlRGF0YVByb21pc2UsCiAgICAgIHJlc3BvbnNlOiB7CiAgICAgICAgYWN0aW9uOiAnY29udGludWUnLAogICAgICB9CiAgICB9OwoKICAgIC8vIFVzZSBhIGNodW5rZWQgc2VuZGluZyB0byBhdm9pZCBtZXNzYWdlIHNpemUgbGltaXRzLiBTZWUgYi82MjExNTY2MC4KICAgIGxldCBwb3NpdGlvbiA9IDA7CiAgICB3aGlsZSAocG9zaXRpb24gPCBmaWxlRGF0YS5ieXRlTGVuZ3RoKSB7CiAgICAgIGNvbnN0IGxlbmd0aCA9IE1hdGgubWluKGZpbGVEYXRhLmJ5dGVMZW5ndGggLSBwb3NpdGlvbiwgTUFYX1BBWUxPQURfU0laRSk7CiAgICAgIGNvbnN0IGNodW5rID0gbmV3IFVpbnQ4QXJyYXkoZmlsZURhdGEsIHBvc2l0aW9uLCBsZW5ndGgpOwogICAgICBwb3NpdGlvbiArPSBsZW5ndGg7CgogICAgICBjb25zdCBiYXNlNjQgPSBidG9hKFN0cmluZy5mcm9tQ2hhckNvZGUuYXBwbHkobnVsbCwgY2h1bmspKTsKICAgICAgeWllbGQgewogICAgICAgIHJlc3BvbnNlOiB7CiAgICAgICAgICBhY3Rpb246ICdhcHBlbmQnLAogICAgICAgICAgZmlsZTogZmlsZS5uYW1lLAogICAgICAgICAgZGF0YTogYmFzZTY0LAogICAgICAgIH0sCiAgICAgIH07CiAgICAgIHBlcmNlbnQudGV4dENvbnRlbnQgPQogICAgICAgICAgYCR7TWF0aC5yb3VuZCgocG9zaXRpb24gLyBmaWxlRGF0YS5ieXRlTGVuZ3RoKSAqIDEwMCl9JSBkb25lYDsKICAgIH0KICB9CgogIC8vIEFsbCBkb25lLgogIHlpZWxkIHsKICAgIHJlc3BvbnNlOiB7CiAgICAgIGFjdGlvbjogJ2NvbXBsZXRlJywKICAgIH0KICB9Owp9CgpzY29wZS5nb29nbGUgPSBzY29wZS5nb29nbGUgfHwge307CnNjb3BlLmdvb2dsZS5jb2xhYiA9IHNjb3BlLmdvb2dsZS5jb2xhYiB8fCB7fTsKc2NvcGUuZ29vZ2xlLmNvbGFiLl9maWxlcyA9IHsKICBfdXBsb2FkRmlsZXMsCiAgX3VwbG9hZEZpbGVzQ29udGludWUsCn07Cn0pKHNlbGYpOwo=",
              "ok": true,
              "headers": [
                [
                  "content-type",
                  "application/javascript"
                ]
              ],
              "status": 200,
              "status_text": ""
            }
          },
          "base_uri": "https://localhost:8080/",
          "height": 111
        },
        "outputId": "90fa00a9-bb91-463e-c882-32fa33378a3f"
      },
      "source": [
        "from google.colab import files\n",
        "files.upload()"
      ],
      "execution_count": 2,
      "outputs": [
        {
          "output_type": "display_data",
          "data": {
            "text/html": [
              "\n",
              "     <input type=\"file\" id=\"files-0f978d1b-e20e-43f8-899c-f4aff66a536b\" name=\"files[]\" multiple disabled />\n",
              "     <output id=\"result-0f978d1b-e20e-43f8-899c-f4aff66a536b\">\n",
              "      Upload widget is only available when the cell has been executed in the\n",
              "      current browser session. Please rerun this cell to enable.\n",
              "      </output>\n",
              "      <script src=\"/nbextensions/google.colab/files.js\"></script> "
            ],
            "text/plain": [
              "<IPython.core.display.HTML object>"
            ]
          },
          "metadata": {
            "tags": []
          }
        },
        {
          "output_type": "stream",
          "text": [
            "Saving Test.csv to Test.csv\n"
          ],
          "name": "stdout"
        },
        {
          "output_type": "execute_result",
          "data": {
            "text/plain": [
              "{'Test.csv': b'Day\\n693\\n694\\n695\\n696\\n697\\n698\\n699\\n700\\n701\\n702\\n703\\n704\\n705\\n706\\n707\\n708\\n709\\n710\\n711\\n712\\n713\\n714\\n715\\n716\\n717\\n718\\n719\\n720\\n721\\n722\\n723\\n724\\n725\\n726\\n727\\n728\\n729\\n730\\n731\\n732\\n733\\n734\\n735\\n736\\n737\\n738\\n739\\n740\\n741\\n742\\n743\\n744\\n745\\n746\\n747\\n748\\n749\\n750\\n751\\n752\\n753\\n754\\n755\\n756\\n757\\n758\\n759\\n760\\n761\\n762\\n763\\n764\\n765\\n766\\n767\\n768\\n769\\n770\\n771\\n772\\n773\\n774\\n775\\n776\\n777\\n778\\n779\\n780\\n781\\n782\\n'}"
            ]
          },
          "metadata": {
            "tags": []
          },
          "execution_count": 2
        }
      ]
    },
    {
      "cell_type": "code",
      "metadata": {
        "id": "qKT-GD3onJDf",
        "colab_type": "code",
        "colab": {
          "base_uri": "https://localhost:8080/",
          "height": 71
        },
        "outputId": "a7de1c51-52a2-4475-ec25-d1a81d57ac17"
      },
      "source": [
        "import pandas as pd\n",
        "import numpy as np\n",
        "import seaborn as sns\n",
        "import matplotlib.pyplot as plt\n",
        "import fbprophet\n",
        "import pandas.util.testing as tm\n",
        "%matplotlib inline"
      ],
      "execution_count": 3,
      "outputs": [
        {
          "output_type": "stream",
          "text": [
            "/usr/local/lib/python3.6/dist-packages/statsmodels/tools/_testing.py:19: FutureWarning: pandas.util.testing is deprecated. Use the functions in the public API at pandas.testing instead.\n",
            "  import pandas.util.testing as tm\n"
          ],
          "name": "stderr"
        }
      ]
    },
    {
      "cell_type": "code",
      "metadata": {
        "id": "VlGXyJHlnYDV",
        "colab_type": "code",
        "colab": {}
      },
      "source": [
        "train = pd.read_csv('/content/Train.csv')\n",
        "test = pd.read_csv('/content/Test.csv')"
      ],
      "execution_count": 0,
      "outputs": []
    },
    {
      "cell_type": "code",
      "metadata": {
        "id": "7m9S4ezKnrqw",
        "colab_type": "code",
        "colab": {
          "base_uri": "https://localhost:8080/",
          "height": 34
        },
        "outputId": "9c26578d-2ced-4c05-a317-575a6a1d2679"
      },
      "source": [
        "train.shape,test.shape"
      ],
      "execution_count": 6,
      "outputs": [
        {
          "output_type": "execute_result",
          "data": {
            "text/plain": [
              "((692, 2), (90, 1))"
            ]
          },
          "metadata": {
            "tags": []
          },
          "execution_count": 6
        }
      ]
    },
    {
      "cell_type": "code",
      "metadata": {
        "id": "WJKq9-U8G_m7",
        "colab_type": "code",
        "colab": {
          "base_uri": "https://localhost:8080/",
          "height": 204
        },
        "outputId": "8a4c380c-1f32-4df8-a0e1-debb012260c4"
      },
      "source": [
        "test.head()"
      ],
      "execution_count": 111,
      "outputs": [
        {
          "output_type": "execute_result",
          "data": {
            "text/html": [
              "<div>\n",
              "<style scoped>\n",
              "    .dataframe tbody tr th:only-of-type {\n",
              "        vertical-align: middle;\n",
              "    }\n",
              "\n",
              "    .dataframe tbody tr th {\n",
              "        vertical-align: top;\n",
              "    }\n",
              "\n",
              "    .dataframe thead th {\n",
              "        text-align: right;\n",
              "    }\n",
              "</style>\n",
              "<table border=\"1\" class=\"dataframe\">\n",
              "  <thead>\n",
              "    <tr style=\"text-align: right;\">\n",
              "      <th></th>\n",
              "      <th>Day</th>\n",
              "    </tr>\n",
              "  </thead>\n",
              "  <tbody>\n",
              "    <tr>\n",
              "      <th>0</th>\n",
              "      <td>693</td>\n",
              "    </tr>\n",
              "    <tr>\n",
              "      <th>1</th>\n",
              "      <td>694</td>\n",
              "    </tr>\n",
              "    <tr>\n",
              "      <th>2</th>\n",
              "      <td>695</td>\n",
              "    </tr>\n",
              "    <tr>\n",
              "      <th>3</th>\n",
              "      <td>696</td>\n",
              "    </tr>\n",
              "    <tr>\n",
              "      <th>4</th>\n",
              "      <td>697</td>\n",
              "    </tr>\n",
              "  </tbody>\n",
              "</table>\n",
              "</div>"
            ],
            "text/plain": [
              "   Day\n",
              "0  693\n",
              "1  694\n",
              "2  695\n",
              "3  696\n",
              "4  697"
            ]
          },
          "metadata": {
            "tags": []
          },
          "execution_count": 111
        }
      ]
    },
    {
      "cell_type": "code",
      "metadata": {
        "id": "vB-N5wx1nure",
        "colab_type": "code",
        "colab": {}
      },
      "source": [
        "train_date = pd.date_range(start='2018-01-01',end='2020-05-01',periods=692)"
      ],
      "execution_count": 0,
      "outputs": []
    },
    {
      "cell_type": "code",
      "metadata": {
        "id": "swQ6aVhoogwR",
        "colab_type": "code",
        "colab": {
          "base_uri": "https://localhost:8080/",
          "height": 34
        },
        "outputId": "a537d7ff-b259-4831-d651-390d0f5b9b1e"
      },
      "source": [
        "train_date.shape"
      ],
      "execution_count": 6,
      "outputs": [
        {
          "output_type": "execute_result",
          "data": {
            "text/plain": [
              "(692,)"
            ]
          },
          "metadata": {
            "tags": []
          },
          "execution_count": 6
        }
      ]
    },
    {
      "cell_type": "code",
      "metadata": {
        "id": "0A3-HhuhotE9",
        "colab_type": "code",
        "colab": {}
      },
      "source": [
        "train['TS'] = train_date"
      ],
      "execution_count": 0,
      "outputs": []
    },
    {
      "cell_type": "code",
      "metadata": {
        "id": "4dBPIoO_ojKT",
        "colab_type": "code",
        "colab": {}
      },
      "source": [
        "test_date =  pd.date_range(start='2020-05-02',periods=90)"
      ],
      "execution_count": 0,
      "outputs": []
    },
    {
      "cell_type": "code",
      "metadata": {
        "id": "KQH1D_eTrN96",
        "colab_type": "code",
        "colab": {}
      },
      "source": [
        "test['Date'] = test_date"
      ],
      "execution_count": 0,
      "outputs": []
    },
    {
      "cell_type": "code",
      "metadata": {
        "id": "DSqSLy4FpfMh",
        "colab_type": "code",
        "colab": {
          "base_uri": "https://localhost:8080/",
          "height": 34
        },
        "outputId": "16b51f89-8559-4202-9928-e347f9683965"
      },
      "source": [
        "test_date.shape"
      ],
      "execution_count": 10,
      "outputs": [
        {
          "output_type": "execute_result",
          "data": {
            "text/plain": [
              "(90,)"
            ]
          },
          "metadata": {
            "tags": []
          },
          "execution_count": 10
        }
      ]
    },
    {
      "cell_type": "code",
      "metadata": {
        "id": "ZtxHowyOpt4x",
        "colab_type": "code",
        "colab": {}
      },
      "source": [
        "train['Date'] = train['TS'].dt.date"
      ],
      "execution_count": 0,
      "outputs": []
    },
    {
      "cell_type": "code",
      "metadata": {
        "id": "dN2kr9-MrWF0",
        "colab_type": "code",
        "colab": {}
      },
      "source": [
        "test['Date'] = test['TS'].dt.date"
      ],
      "execution_count": 0,
      "outputs": []
    },
    {
      "cell_type": "code",
      "metadata": {
        "id": "VOwwcgB8qE79",
        "colab_type": "code",
        "colab": {
          "base_uri": "https://localhost:8080/",
          "height": 204
        },
        "outputId": "f188d00e-c7af-4424-e381-a9ca27481c27"
      },
      "source": [
        "train.head()"
      ],
      "execution_count": 12,
      "outputs": [
        {
          "output_type": "execute_result",
          "data": {
            "text/html": [
              "<div>\n",
              "<style scoped>\n",
              "    .dataframe tbody tr th:only-of-type {\n",
              "        vertical-align: middle;\n",
              "    }\n",
              "\n",
              "    .dataframe tbody tr th {\n",
              "        vertical-align: top;\n",
              "    }\n",
              "\n",
              "    .dataframe thead th {\n",
              "        text-align: right;\n",
              "    }\n",
              "</style>\n",
              "<table border=\"1\" class=\"dataframe\">\n",
              "  <thead>\n",
              "    <tr style=\"text-align: right;\">\n",
              "      <th></th>\n",
              "      <th>Day</th>\n",
              "      <th>GrocerySales</th>\n",
              "      <th>TS</th>\n",
              "      <th>Date</th>\n",
              "    </tr>\n",
              "  </thead>\n",
              "  <tbody>\n",
              "    <tr>\n",
              "      <th>0</th>\n",
              "      <td>1</td>\n",
              "      <td>8418.59</td>\n",
              "      <td>2018-01-01 00:00:00.000000000</td>\n",
              "      <td>2018-01-01</td>\n",
              "    </tr>\n",
              "    <tr>\n",
              "      <th>1</th>\n",
              "      <td>2</td>\n",
              "      <td>8447.47</td>\n",
              "      <td>2018-01-02 05:33:25.788712011</td>\n",
              "      <td>2018-01-02</td>\n",
              "    </tr>\n",
              "    <tr>\n",
              "      <th>2</th>\n",
              "      <td>3</td>\n",
              "      <td>8336.49</td>\n",
              "      <td>2018-01-03 11:06:51.577424023</td>\n",
              "      <td>2018-01-03</td>\n",
              "    </tr>\n",
              "    <tr>\n",
              "      <th>3</th>\n",
              "      <td>4</td>\n",
              "      <td>8579.17</td>\n",
              "      <td>2018-01-04 16:40:17.366136034</td>\n",
              "      <td>2018-01-04</td>\n",
              "    </tr>\n",
              "    <tr>\n",
              "      <th>4</th>\n",
              "      <td>5</td>\n",
              "      <td>8524.31</td>\n",
              "      <td>2018-01-05 22:13:43.154848046</td>\n",
              "      <td>2018-01-05</td>\n",
              "    </tr>\n",
              "  </tbody>\n",
              "</table>\n",
              "</div>"
            ],
            "text/plain": [
              "   Day  GrocerySales                            TS        Date\n",
              "0    1       8418.59 2018-01-01 00:00:00.000000000  2018-01-01\n",
              "1    2       8447.47 2018-01-02 05:33:25.788712011  2018-01-02\n",
              "2    3       8336.49 2018-01-03 11:06:51.577424023  2018-01-03\n",
              "3    4       8579.17 2018-01-04 16:40:17.366136034  2018-01-04\n",
              "4    5       8524.31 2018-01-05 22:13:43.154848046  2018-01-05"
            ]
          },
          "metadata": {
            "tags": []
          },
          "execution_count": 12
        }
      ]
    },
    {
      "cell_type": "code",
      "metadata": {
        "id": "-7sXkteNrdXz",
        "colab_type": "code",
        "colab": {
          "base_uri": "https://localhost:8080/",
          "height": 204
        },
        "outputId": "2a321bb6-310a-49db-e17e-e984385fdfe0"
      },
      "source": [
        "test.head()"
      ],
      "execution_count": 117,
      "outputs": [
        {
          "output_type": "execute_result",
          "data": {
            "text/html": [
              "<div>\n",
              "<style scoped>\n",
              "    .dataframe tbody tr th:only-of-type {\n",
              "        vertical-align: middle;\n",
              "    }\n",
              "\n",
              "    .dataframe tbody tr th {\n",
              "        vertical-align: top;\n",
              "    }\n",
              "\n",
              "    .dataframe thead th {\n",
              "        text-align: right;\n",
              "    }\n",
              "</style>\n",
              "<table border=\"1\" class=\"dataframe\">\n",
              "  <thead>\n",
              "    <tr style=\"text-align: right;\">\n",
              "      <th></th>\n",
              "      <th>Day</th>\n",
              "      <th>Date</th>\n",
              "    </tr>\n",
              "  </thead>\n",
              "  <tbody>\n",
              "    <tr>\n",
              "      <th>0</th>\n",
              "      <td>693</td>\n",
              "      <td>2020-05-02</td>\n",
              "    </tr>\n",
              "    <tr>\n",
              "      <th>1</th>\n",
              "      <td>694</td>\n",
              "      <td>2020-05-03</td>\n",
              "    </tr>\n",
              "    <tr>\n",
              "      <th>2</th>\n",
              "      <td>695</td>\n",
              "      <td>2020-05-04</td>\n",
              "    </tr>\n",
              "    <tr>\n",
              "      <th>3</th>\n",
              "      <td>696</td>\n",
              "      <td>2020-05-05</td>\n",
              "    </tr>\n",
              "    <tr>\n",
              "      <th>4</th>\n",
              "      <td>697</td>\n",
              "      <td>2020-05-06</td>\n",
              "    </tr>\n",
              "  </tbody>\n",
              "</table>\n",
              "</div>"
            ],
            "text/plain": [
              "   Day       Date\n",
              "0  693 2020-05-02\n",
              "1  694 2020-05-03\n",
              "2  695 2020-05-04\n",
              "3  696 2020-05-05\n",
              "4  697 2020-05-06"
            ]
          },
          "metadata": {
            "tags": []
          },
          "execution_count": 117
        }
      ]
    },
    {
      "cell_type": "code",
      "metadata": {
        "id": "vU0YTbNBHeBD",
        "colab_type": "code",
        "colab": {
          "base_uri": "https://localhost:8080/",
          "height": 34
        },
        "outputId": "85f6e585-1840-467a-b535-11a1f30ff251"
      },
      "source": [
        "test.shape"
      ],
      "execution_count": 70,
      "outputs": [
        {
          "output_type": "execute_result",
          "data": {
            "text/plain": [
              "(90, 2)"
            ]
          },
          "metadata": {
            "tags": []
          },
          "execution_count": 70
        }
      ]
    },
    {
      "cell_type": "code",
      "metadata": {
        "id": "eWXWncA_rkpT",
        "colab_type": "code",
        "colab": {}
      },
      "source": [
        "df_test = test[['Date']]"
      ],
      "execution_count": 0,
      "outputs": []
    },
    {
      "cell_type": "code",
      "metadata": {
        "id": "8sbl6AHCp0Mc",
        "colab_type": "code",
        "colab": {}
      },
      "source": [
        "df_train = train[['Date','GrocerySales']]"
      ],
      "execution_count": 0,
      "outputs": []
    },
    {
      "cell_type": "code",
      "metadata": {
        "id": "JlPe8RILuN4i",
        "colab_type": "code",
        "colab": {}
      },
      "source": [
        "df = df_train.copy()"
      ],
      "execution_count": 0,
      "outputs": []
    },
    {
      "cell_type": "code",
      "metadata": {
        "id": "OwapL3SO8U8S",
        "colab_type": "code",
        "colab": {
          "base_uri": "https://localhost:8080/",
          "height": 204
        },
        "outputId": "06f584a0-d48e-4aac-e1db-fb6a221fd225"
      },
      "source": [
        "df.head()"
      ],
      "execution_count": 15,
      "outputs": [
        {
          "output_type": "execute_result",
          "data": {
            "text/html": [
              "<div>\n",
              "<style scoped>\n",
              "    .dataframe tbody tr th:only-of-type {\n",
              "        vertical-align: middle;\n",
              "    }\n",
              "\n",
              "    .dataframe tbody tr th {\n",
              "        vertical-align: top;\n",
              "    }\n",
              "\n",
              "    .dataframe thead th {\n",
              "        text-align: right;\n",
              "    }\n",
              "</style>\n",
              "<table border=\"1\" class=\"dataframe\">\n",
              "  <thead>\n",
              "    <tr style=\"text-align: right;\">\n",
              "      <th></th>\n",
              "      <th>Date</th>\n",
              "      <th>GrocerySales</th>\n",
              "    </tr>\n",
              "  </thead>\n",
              "  <tbody>\n",
              "    <tr>\n",
              "      <th>0</th>\n",
              "      <td>2018-01-01</td>\n",
              "      <td>8418.59</td>\n",
              "    </tr>\n",
              "    <tr>\n",
              "      <th>1</th>\n",
              "      <td>2018-01-02</td>\n",
              "      <td>8447.47</td>\n",
              "    </tr>\n",
              "    <tr>\n",
              "      <th>2</th>\n",
              "      <td>2018-01-03</td>\n",
              "      <td>8336.49</td>\n",
              "    </tr>\n",
              "    <tr>\n",
              "      <th>3</th>\n",
              "      <td>2018-01-04</td>\n",
              "      <td>8579.17</td>\n",
              "    </tr>\n",
              "    <tr>\n",
              "      <th>4</th>\n",
              "      <td>2018-01-05</td>\n",
              "      <td>8524.31</td>\n",
              "    </tr>\n",
              "  </tbody>\n",
              "</table>\n",
              "</div>"
            ],
            "text/plain": [
              "         Date  GrocerySales\n",
              "0  2018-01-01       8418.59\n",
              "1  2018-01-02       8447.47\n",
              "2  2018-01-03       8336.49\n",
              "3  2018-01-04       8579.17\n",
              "4  2018-01-05       8524.31"
            ]
          },
          "metadata": {
            "tags": []
          },
          "execution_count": 15
        }
      ]
    },
    {
      "cell_type": "code",
      "metadata": {
        "id": "GdG1uMVs5Mvw",
        "colab_type": "code",
        "colab": {}
      },
      "source": [
        "train_date = pd.date_range(start='2018-01-01',periods=692)\n",
        "train['Date'] = train_date\n",
        "test_date =  pd.date_range(start='2019-11-24',periods=90)\n",
        "test['Date'] = test_date"
      ],
      "execution_count": 0,
      "outputs": []
    },
    {
      "cell_type": "code",
      "metadata": {
        "id": "EAOCIcl4QJoI",
        "colab_type": "code",
        "colab": {}
      },
      "source": [
        "df = train[['Date','GrocerySales']].copy()"
      ],
      "execution_count": 0,
      "outputs": []
    },
    {
      "cell_type": "code",
      "metadata": {
        "id": "-XQ6-skDa3RK",
        "colab_type": "code",
        "colab": {}
      },
      "source": [
        "df = df.rename(columns={'Date':'ds','GrocerySales':'y'})"
      ],
      "execution_count": 0,
      "outputs": []
    },
    {
      "cell_type": "code",
      "metadata": {
        "id": "QOMtv9UT9Di0",
        "colab_type": "code",
        "colab": {}
      },
      "source": [
        "m = fbprophet.Prophet()"
      ],
      "execution_count": 0,
      "outputs": []
    },
    {
      "cell_type": "code",
      "metadata": {
        "id": "W_mjWYy79IJD",
        "colab_type": "code",
        "colab": {
          "base_uri": "https://localhost:8080/",
          "height": 68
        },
        "outputId": "905cca80-d261-4e2c-ff30-8966c1c614cf"
      },
      "source": [
        "m.fit(df)"
      ],
      "execution_count": 125,
      "outputs": [
        {
          "output_type": "stream",
          "text": [
            "INFO:fbprophet:Disabling yearly seasonality. Run prophet with yearly_seasonality=True to override this.\n",
            "INFO:fbprophet:Disabling daily seasonality. Run prophet with daily_seasonality=True to override this.\n"
          ],
          "name": "stderr"
        },
        {
          "output_type": "execute_result",
          "data": {
            "text/plain": [
              "<fbprophet.forecaster.Prophet at 0x7fdb4f342da0>"
            ]
          },
          "metadata": {
            "tags": []
          },
          "execution_count": 125
        }
      ]
    },
    {
      "cell_type": "code",
      "metadata": {
        "id": "C_rlbDc2-ZPo",
        "colab_type": "code",
        "colab": {}
      },
      "source": [
        "future_dates = m.make_future_dataframe(periods=90)"
      ],
      "execution_count": 0,
      "outputs": []
    },
    {
      "cell_type": "code",
      "metadata": {
        "id": "u99HsCPr9YpG",
        "colab_type": "code",
        "colab": {
          "base_uri": "https://localhost:8080/",
          "height": 34
        },
        "outputId": "6ed8ac81-cad5-42a9-e80f-fba1a69a13a1"
      },
      "source": [
        "future_dates.shape"
      ],
      "execution_count": 118,
      "outputs": [
        {
          "output_type": "execute_result",
          "data": {
            "text/plain": [
              "(782, 1)"
            ]
          },
          "metadata": {
            "tags": []
          },
          "execution_count": 118
        }
      ]
    },
    {
      "cell_type": "code",
      "metadata": {
        "id": "UFMRsLHA9UGl",
        "colab_type": "code",
        "colab": {
          "base_uri": "https://localhost:8080/",
          "height": 204
        },
        "outputId": "a4c0956a-1328-4740-e948-17b12e164bc6"
      },
      "source": [
        "future_dates.tail()"
      ],
      "execution_count": 76,
      "outputs": [
        {
          "output_type": "execute_result",
          "data": {
            "text/html": [
              "<div>\n",
              "<style scoped>\n",
              "    .dataframe tbody tr th:only-of-type {\n",
              "        vertical-align: middle;\n",
              "    }\n",
              "\n",
              "    .dataframe tbody tr th {\n",
              "        vertical-align: top;\n",
              "    }\n",
              "\n",
              "    .dataframe thead th {\n",
              "        text-align: right;\n",
              "    }\n",
              "</style>\n",
              "<table border=\"1\" class=\"dataframe\">\n",
              "  <thead>\n",
              "    <tr style=\"text-align: right;\">\n",
              "      <th></th>\n",
              "      <th>ds</th>\n",
              "    </tr>\n",
              "  </thead>\n",
              "  <tbody>\n",
              "    <tr>\n",
              "      <th>777</th>\n",
              "      <td>2020-02-17</td>\n",
              "    </tr>\n",
              "    <tr>\n",
              "      <th>778</th>\n",
              "      <td>2020-02-18</td>\n",
              "    </tr>\n",
              "    <tr>\n",
              "      <th>779</th>\n",
              "      <td>2020-02-19</td>\n",
              "    </tr>\n",
              "    <tr>\n",
              "      <th>780</th>\n",
              "      <td>2020-02-20</td>\n",
              "    </tr>\n",
              "    <tr>\n",
              "      <th>781</th>\n",
              "      <td>2020-02-21</td>\n",
              "    </tr>\n",
              "  </tbody>\n",
              "</table>\n",
              "</div>"
            ],
            "text/plain": [
              "            ds\n",
              "777 2020-02-17\n",
              "778 2020-02-18\n",
              "779 2020-02-19\n",
              "780 2020-02-20\n",
              "781 2020-02-21"
            ]
          },
          "metadata": {
            "tags": []
          },
          "execution_count": 76
        }
      ]
    },
    {
      "cell_type": "code",
      "metadata": {
        "id": "k7BSjlkA9y1j",
        "colab_type": "code",
        "colab": {
          "base_uri": "https://localhost:8080/",
          "height": 609
        },
        "outputId": "048fdff5-6b19-44e6-baf8-43c979e5bd1f"
      },
      "source": [
        "forecast = m.predict(future_dates)\n",
        "forecast\n"
      ],
      "execution_count": 127,
      "outputs": [
        {
          "output_type": "execute_result",
          "data": {
            "text/html": [
              "<div>\n",
              "<style scoped>\n",
              "    .dataframe tbody tr th:only-of-type {\n",
              "        vertical-align: middle;\n",
              "    }\n",
              "\n",
              "    .dataframe tbody tr th {\n",
              "        vertical-align: top;\n",
              "    }\n",
              "\n",
              "    .dataframe thead th {\n",
              "        text-align: right;\n",
              "    }\n",
              "</style>\n",
              "<table border=\"1\" class=\"dataframe\">\n",
              "  <thead>\n",
              "    <tr style=\"text-align: right;\">\n",
              "      <th></th>\n",
              "      <th>ds</th>\n",
              "      <th>trend</th>\n",
              "      <th>yhat_lower</th>\n",
              "      <th>yhat_upper</th>\n",
              "      <th>trend_lower</th>\n",
              "      <th>trend_upper</th>\n",
              "      <th>additive_terms</th>\n",
              "      <th>additive_terms_lower</th>\n",
              "      <th>additive_terms_upper</th>\n",
              "      <th>weekly</th>\n",
              "      <th>weekly_lower</th>\n",
              "      <th>weekly_upper</th>\n",
              "      <th>multiplicative_terms</th>\n",
              "      <th>multiplicative_terms_lower</th>\n",
              "      <th>multiplicative_terms_upper</th>\n",
              "      <th>yhat</th>\n",
              "    </tr>\n",
              "  </thead>\n",
              "  <tbody>\n",
              "    <tr>\n",
              "      <th>0</th>\n",
              "      <td>2018-01-01</td>\n",
              "      <td>8439.909258</td>\n",
              "      <td>7992.547466</td>\n",
              "      <td>8890.586493</td>\n",
              "      <td>8439.909258</td>\n",
              "      <td>8439.909258</td>\n",
              "      <td>15.018604</td>\n",
              "      <td>15.018604</td>\n",
              "      <td>15.018604</td>\n",
              "      <td>15.018604</td>\n",
              "      <td>15.018604</td>\n",
              "      <td>15.018604</td>\n",
              "      <td>0.0</td>\n",
              "      <td>0.0</td>\n",
              "      <td>0.0</td>\n",
              "      <td>8454.927862</td>\n",
              "    </tr>\n",
              "    <tr>\n",
              "      <th>1</th>\n",
              "      <td>2018-01-02</td>\n",
              "      <td>8438.008294</td>\n",
              "      <td>7974.624899</td>\n",
              "      <td>8865.911333</td>\n",
              "      <td>8438.008294</td>\n",
              "      <td>8438.008294</td>\n",
              "      <td>-3.688409</td>\n",
              "      <td>-3.688409</td>\n",
              "      <td>-3.688409</td>\n",
              "      <td>-3.688409</td>\n",
              "      <td>-3.688409</td>\n",
              "      <td>-3.688409</td>\n",
              "      <td>0.0</td>\n",
              "      <td>0.0</td>\n",
              "      <td>0.0</td>\n",
              "      <td>8434.319885</td>\n",
              "    </tr>\n",
              "    <tr>\n",
              "      <th>2</th>\n",
              "      <td>2018-01-03</td>\n",
              "      <td>8436.107330</td>\n",
              "      <td>7943.601682</td>\n",
              "      <td>8803.344643</td>\n",
              "      <td>8436.107330</td>\n",
              "      <td>8436.107330</td>\n",
              "      <td>-28.458859</td>\n",
              "      <td>-28.458859</td>\n",
              "      <td>-28.458859</td>\n",
              "      <td>-28.458859</td>\n",
              "      <td>-28.458859</td>\n",
              "      <td>-28.458859</td>\n",
              "      <td>0.0</td>\n",
              "      <td>0.0</td>\n",
              "      <td>0.0</td>\n",
              "      <td>8407.648471</td>\n",
              "    </tr>\n",
              "    <tr>\n",
              "      <th>3</th>\n",
              "      <td>2018-01-04</td>\n",
              "      <td>8434.206366</td>\n",
              "      <td>8031.747882</td>\n",
              "      <td>8926.737447</td>\n",
              "      <td>8434.206366</td>\n",
              "      <td>8434.206366</td>\n",
              "      <td>11.495437</td>\n",
              "      <td>11.495437</td>\n",
              "      <td>11.495437</td>\n",
              "      <td>11.495437</td>\n",
              "      <td>11.495437</td>\n",
              "      <td>11.495437</td>\n",
              "      <td>0.0</td>\n",
              "      <td>0.0</td>\n",
              "      <td>0.0</td>\n",
              "      <td>8445.701803</td>\n",
              "    </tr>\n",
              "    <tr>\n",
              "      <th>4</th>\n",
              "      <td>2018-01-05</td>\n",
              "      <td>8432.305402</td>\n",
              "      <td>7969.411544</td>\n",
              "      <td>8945.213317</td>\n",
              "      <td>8432.305402</td>\n",
              "      <td>8432.305402</td>\n",
              "      <td>6.521368</td>\n",
              "      <td>6.521368</td>\n",
              "      <td>6.521368</td>\n",
              "      <td>6.521368</td>\n",
              "      <td>6.521368</td>\n",
              "      <td>6.521368</td>\n",
              "      <td>0.0</td>\n",
              "      <td>0.0</td>\n",
              "      <td>0.0</td>\n",
              "      <td>8438.826770</td>\n",
              "    </tr>\n",
              "    <tr>\n",
              "      <th>...</th>\n",
              "      <td>...</td>\n",
              "      <td>...</td>\n",
              "      <td>...</td>\n",
              "      <td>...</td>\n",
              "      <td>...</td>\n",
              "      <td>...</td>\n",
              "      <td>...</td>\n",
              "      <td>...</td>\n",
              "      <td>...</td>\n",
              "      <td>...</td>\n",
              "      <td>...</td>\n",
              "      <td>...</td>\n",
              "      <td>...</td>\n",
              "      <td>...</td>\n",
              "      <td>...</td>\n",
              "      <td>...</td>\n",
              "    </tr>\n",
              "    <tr>\n",
              "      <th>777</th>\n",
              "      <td>2020-02-17</td>\n",
              "      <td>8997.623789</td>\n",
              "      <td>8528.902603</td>\n",
              "      <td>9435.467671</td>\n",
              "      <td>8951.677833</td>\n",
              "      <td>9047.116955</td>\n",
              "      <td>15.018604</td>\n",
              "      <td>15.018604</td>\n",
              "      <td>15.018604</td>\n",
              "      <td>15.018604</td>\n",
              "      <td>15.018604</td>\n",
              "      <td>15.018604</td>\n",
              "      <td>0.0</td>\n",
              "      <td>0.0</td>\n",
              "      <td>0.0</td>\n",
              "      <td>9012.642393</td>\n",
              "    </tr>\n",
              "    <tr>\n",
              "      <th>778</th>\n",
              "      <td>2020-02-18</td>\n",
              "      <td>8998.550729</td>\n",
              "      <td>8522.033906</td>\n",
              "      <td>9477.711665</td>\n",
              "      <td>8951.888812</td>\n",
              "      <td>9049.387428</td>\n",
              "      <td>-3.688409</td>\n",
              "      <td>-3.688409</td>\n",
              "      <td>-3.688409</td>\n",
              "      <td>-3.688409</td>\n",
              "      <td>-3.688409</td>\n",
              "      <td>-3.688409</td>\n",
              "      <td>0.0</td>\n",
              "      <td>0.0</td>\n",
              "      <td>0.0</td>\n",
              "      <td>8994.862320</td>\n",
              "    </tr>\n",
              "    <tr>\n",
              "      <th>779</th>\n",
              "      <td>2020-02-19</td>\n",
              "      <td>8999.477669</td>\n",
              "      <td>8487.100907</td>\n",
              "      <td>9426.778674</td>\n",
              "      <td>8952.121409</td>\n",
              "      <td>9050.849738</td>\n",
              "      <td>-28.458859</td>\n",
              "      <td>-28.458859</td>\n",
              "      <td>-28.458859</td>\n",
              "      <td>-28.458859</td>\n",
              "      <td>-28.458859</td>\n",
              "      <td>-28.458859</td>\n",
              "      <td>0.0</td>\n",
              "      <td>0.0</td>\n",
              "      <td>0.0</td>\n",
              "      <td>8971.018811</td>\n",
              "    </tr>\n",
              "    <tr>\n",
              "      <th>780</th>\n",
              "      <td>2020-02-20</td>\n",
              "      <td>9000.404609</td>\n",
              "      <td>8525.785384</td>\n",
              "      <td>9472.118916</td>\n",
              "      <td>8952.177745</td>\n",
              "      <td>9052.296800</td>\n",
              "      <td>11.495437</td>\n",
              "      <td>11.495437</td>\n",
              "      <td>11.495437</td>\n",
              "      <td>11.495437</td>\n",
              "      <td>11.495437</td>\n",
              "      <td>11.495437</td>\n",
              "      <td>0.0</td>\n",
              "      <td>0.0</td>\n",
              "      <td>0.0</td>\n",
              "      <td>9011.900046</td>\n",
              "    </tr>\n",
              "    <tr>\n",
              "      <th>781</th>\n",
              "      <td>2020-02-21</td>\n",
              "      <td>9001.331549</td>\n",
              "      <td>8583.065339</td>\n",
              "      <td>9463.200921</td>\n",
              "      <td>8951.769266</td>\n",
              "      <td>9054.464849</td>\n",
              "      <td>6.521368</td>\n",
              "      <td>6.521368</td>\n",
              "      <td>6.521368</td>\n",
              "      <td>6.521368</td>\n",
              "      <td>6.521368</td>\n",
              "      <td>6.521368</td>\n",
              "      <td>0.0</td>\n",
              "      <td>0.0</td>\n",
              "      <td>0.0</td>\n",
              "      <td>9007.852918</td>\n",
              "    </tr>\n",
              "  </tbody>\n",
              "</table>\n",
              "<p>782 rows × 16 columns</p>\n",
              "</div>"
            ],
            "text/plain": [
              "            ds        trend  ...  multiplicative_terms_upper         yhat\n",
              "0   2018-01-01  8439.909258  ...                         0.0  8454.927862\n",
              "1   2018-01-02  8438.008294  ...                         0.0  8434.319885\n",
              "2   2018-01-03  8436.107330  ...                         0.0  8407.648471\n",
              "3   2018-01-04  8434.206366  ...                         0.0  8445.701803\n",
              "4   2018-01-05  8432.305402  ...                         0.0  8438.826770\n",
              "..         ...          ...  ...                         ...          ...\n",
              "777 2020-02-17  8997.623789  ...                         0.0  9012.642393\n",
              "778 2020-02-18  8998.550729  ...                         0.0  8994.862320\n",
              "779 2020-02-19  8999.477669  ...                         0.0  8971.018811\n",
              "780 2020-02-20  9000.404609  ...                         0.0  9011.900046\n",
              "781 2020-02-21  9001.331549  ...                         0.0  9007.852918\n",
              "\n",
              "[782 rows x 16 columns]"
            ]
          },
          "metadata": {
            "tags": []
          },
          "execution_count": 127
        }
      ]
    },
    {
      "cell_type": "code",
      "metadata": {
        "id": "9K0L-3dgkla-",
        "colab_type": "code",
        "colab": {
          "base_uri": "https://localhost:8080/",
          "height": 865
        },
        "outputId": "786a03d3-7138-4bca-ec35-7856eb7c21d2"
      },
      "source": [
        "# Plot Our Predictions\n",
        "m.plot(forecast)"
      ],
      "execution_count": 130,
      "outputs": [
        {
          "output_type": "execute_result",
          "data": {
            "image/png": "[encoded data removed]",
            "text/plain": [
              "<Figure size 720x432 with 1 Axes>"
            ]
          },
          "metadata": {
            "tags": []
          },
          "execution_count": 130
        },
        {
          "output_type": "display_data",
          "data": {
            "image/png": "[encoded data removed]",
            "text/plain": [
              "<Figure size 720x432 with 1 Axes>"
            ]
          },
          "metadata": {
            "tags": []
          }
        }
      ]
    },
    {
      "cell_type": "code",
      "metadata": {
        "id": "JFUi1GnDk0c5",
        "colab_type": "code",
        "colab": {
          "base_uri": "https://localhost:8080/",
          "height": 441
        },
        "outputId": "33b5b7a7-6f84-4492-8d76-ea4d3ad5c5c8"
      },
      "source": [
        "# Visualize Each Component [Trends,Weekly]\n",
        "m.plot_components(forecast)\n",
        "plt.show()"
      ],
      "execution_count": 132,
      "outputs": [
        {
          "output_type": "display_data",
          "data": {
            "image/png": "[encoded data removed]",
            "text/plain": [
              "<Figure size 648x432 with 2 Axes>"
            ]
          },
          "metadata": {
            "tags": []
          }
        }
      ]
    },
    {
      "cell_type": "code",
      "metadata": {
        "id": "dmDBOjqwjeYK",
        "colab_type": "code",
        "colab": {
          "base_uri": "https://localhost:8080/",
          "height": 255
        },
        "outputId": "247cfe2b-af3a-4852-8251-b8553264c6e4"
      },
      "source": [
        "from fbprophet.diagnostics import cross_validation\n",
        "cv = cross_validation(m,initial='1 days', period='90 days', horizon = '34 days')\n",
        "cv.head()"
      ],
      "execution_count": 138,
      "outputs": [
        {
          "output_type": "stream",
          "text": [
            "WARNING:fbprophet:Seasonality has period of 7 days which is larger than initial window. Consider increasing initial.\n",
            "INFO:fbprophet:Making 8 forecasts with cutoffs between 2018-01-28 00:00:00 and 2019-10-20 00:00:00\n",
            "INFO:fbprophet:n_changepoints greater than number of observations. Using 21.\n"
          ],
          "name": "stderr"
        },
        {
          "output_type": "execute_result",
          "data": {
            "text/html": [
              "<div>\n",
              "<style scoped>\n",
              "    .dataframe tbody tr th:only-of-type {\n",
              "        vertical-align: middle;\n",
              "    }\n",
              "\n",
              "    .dataframe tbody tr th {\n",
              "        vertical-align: top;\n",
              "    }\n",
              "\n",
              "    .dataframe thead th {\n",
              "        text-align: right;\n",
              "    }\n",
              "</style>\n",
              "<table border=\"1\" class=\"dataframe\">\n",
              "  <thead>\n",
              "    <tr style=\"text-align: right;\">\n",
              "      <th></th>\n",
              "      <th>ds</th>\n",
              "      <th>yhat</th>\n",
              "      <th>yhat_lower</th>\n",
              "      <th>yhat_upper</th>\n",
              "      <th>y</th>\n",
              "      <th>cutoff</th>\n",
              "    </tr>\n",
              "  </thead>\n",
              "  <tbody>\n",
              "    <tr>\n",
              "      <th>0</th>\n",
              "      <td>2018-01-29</td>\n",
              "      <td>8423.583308</td>\n",
              "      <td>8281.417534</td>\n",
              "      <td>8569.887414</td>\n",
              "      <td>8333.17</td>\n",
              "      <td>2018-01-28</td>\n",
              "    </tr>\n",
              "    <tr>\n",
              "      <th>1</th>\n",
              "      <td>2018-01-30</td>\n",
              "      <td>8392.555156</td>\n",
              "      <td>8238.790965</td>\n",
              "      <td>8536.557893</td>\n",
              "      <td>8497.34</td>\n",
              "      <td>2018-01-28</td>\n",
              "    </tr>\n",
              "    <tr>\n",
              "      <th>2</th>\n",
              "      <td>2018-01-31</td>\n",
              "      <td>8271.565183</td>\n",
              "      <td>8137.434954</td>\n",
              "      <td>8420.748984</td>\n",
              "      <td>8326.74</td>\n",
              "      <td>2018-01-28</td>\n",
              "    </tr>\n",
              "    <tr>\n",
              "      <th>3</th>\n",
              "      <td>2018-02-01</td>\n",
              "      <td>8304.617301</td>\n",
              "      <td>8147.744431</td>\n",
              "      <td>8451.684845</td>\n",
              "      <td>8542.81</td>\n",
              "      <td>2018-01-28</td>\n",
              "    </tr>\n",
              "    <tr>\n",
              "      <th>4</th>\n",
              "      <td>2018-02-02</td>\n",
              "      <td>8147.405480</td>\n",
              "      <td>7997.989095</td>\n",
              "      <td>8297.115717</td>\n",
              "      <td>8544.43</td>\n",
              "      <td>2018-01-28</td>\n",
              "    </tr>\n",
              "  </tbody>\n",
              "</table>\n",
              "</div>"
            ],
            "text/plain": [
              "          ds         yhat   yhat_lower   yhat_upper        y     cutoff\n",
              "0 2018-01-29  8423.583308  8281.417534  8569.887414  8333.17 2018-01-28\n",
              "1 2018-01-30  8392.555156  8238.790965  8536.557893  8497.34 2018-01-28\n",
              "2 2018-01-31  8271.565183  8137.434954  8420.748984  8326.74 2018-01-28\n",
              "3 2018-02-01  8304.617301  8147.744431  8451.684845  8542.81 2018-01-28\n",
              "4 2018-02-02  8147.405480  7997.989095  8297.115717  8544.43 2018-01-28"
            ]
          },
          "metadata": {
            "tags": []
          },
          "execution_count": 138
        }
      ]
    },
    {
      "cell_type": "code",
      "metadata": {
        "id": "r3m3NAqxkzNy",
        "colab_type": "code",
        "colab": {
          "base_uri": "https://localhost:8080/",
          "height": 1000
        },
        "outputId": "907772eb-cdb3-4fc5-b0f9-f6b3bfe81790"
      },
      "source": [
        "from fbprophet.diagnostics import performance_metrics\n",
        "df_pm = performance_metrics(cv)\n",
        "\n",
        "df_pm"
      ],
      "execution_count": 139,
      "outputs": [
        {
          "output_type": "execute_result",
          "data": {
            "text/html": [
              "<div>\n",
              "<style scoped>\n",
              "    .dataframe tbody tr th:only-of-type {\n",
              "        vertical-align: middle;\n",
              "    }\n",
              "\n",
              "    .dataframe tbody tr th {\n",
              "        vertical-align: top;\n",
              "    }\n",
              "\n",
              "    .dataframe thead th {\n",
              "        text-align: right;\n",
              "    }\n",
              "</style>\n",
              "<table border=\"1\" class=\"dataframe\">\n",
              "  <thead>\n",
              "    <tr style=\"text-align: right;\">\n",
              "      <th></th>\n",
              "      <th>horizon</th>\n",
              "      <th>mse</th>\n",
              "      <th>rmse</th>\n",
              "      <th>mae</th>\n",
              "      <th>mape</th>\n",
              "      <th>mdape</th>\n",
              "      <th>coverage</th>\n",
              "    </tr>\n",
              "  </thead>\n",
              "  <tbody>\n",
              "    <tr>\n",
              "      <th>0</th>\n",
              "      <td>4 days</td>\n",
              "      <td>2.452664e+05</td>\n",
              "      <td>495.243775</td>\n",
              "      <td>339.462354</td>\n",
              "      <td>0.041323</td>\n",
              "      <td>0.026066</td>\n",
              "      <td>0.763889</td>\n",
              "    </tr>\n",
              "    <tr>\n",
              "      <th>1</th>\n",
              "      <td>5 days</td>\n",
              "      <td>3.304308e+05</td>\n",
              "      <td>574.831091</td>\n",
              "      <td>403.882055</td>\n",
              "      <td>0.048567</td>\n",
              "      <td>0.026066</td>\n",
              "      <td>0.666667</td>\n",
              "    </tr>\n",
              "    <tr>\n",
              "      <th>2</th>\n",
              "      <td>6 days</td>\n",
              "      <td>3.431555e+05</td>\n",
              "      <td>585.794763</td>\n",
              "      <td>416.353696</td>\n",
              "      <td>0.049975</td>\n",
              "      <td>0.028271</td>\n",
              "      <td>0.638889</td>\n",
              "    </tr>\n",
              "    <tr>\n",
              "      <th>3</th>\n",
              "      <td>7 days</td>\n",
              "      <td>3.352080e+05</td>\n",
              "      <td>578.971466</td>\n",
              "      <td>395.991902</td>\n",
              "      <td>0.047340</td>\n",
              "      <td>0.024317</td>\n",
              "      <td>0.722222</td>\n",
              "    </tr>\n",
              "    <tr>\n",
              "      <th>4</th>\n",
              "      <td>8 days</td>\n",
              "      <td>3.487002e+05</td>\n",
              "      <td>590.508454</td>\n",
              "      <td>404.442152</td>\n",
              "      <td>0.048380</td>\n",
              "      <td>0.028271</td>\n",
              "      <td>0.699074</td>\n",
              "    </tr>\n",
              "    <tr>\n",
              "      <th>5</th>\n",
              "      <td>9 days</td>\n",
              "      <td>3.751246e+05</td>\n",
              "      <td>612.474171</td>\n",
              "      <td>429.493912</td>\n",
              "      <td>0.051478</td>\n",
              "      <td>0.033107</td>\n",
              "      <td>0.675926</td>\n",
              "    </tr>\n",
              "    <tr>\n",
              "      <th>6</th>\n",
              "      <td>10 days</td>\n",
              "      <td>4.056901e+05</td>\n",
              "      <td>636.938064</td>\n",
              "      <td>464.995241</td>\n",
              "      <td>0.055919</td>\n",
              "      <td>0.039733</td>\n",
              "      <td>0.615741</td>\n",
              "    </tr>\n",
              "    <tr>\n",
              "      <th>7</th>\n",
              "      <td>11 days</td>\n",
              "      <td>3.981085e+05</td>\n",
              "      <td>630.958375</td>\n",
              "      <td>461.428308</td>\n",
              "      <td>0.055873</td>\n",
              "      <td>0.039649</td>\n",
              "      <td>0.611111</td>\n",
              "    </tr>\n",
              "    <tr>\n",
              "      <th>8</th>\n",
              "      <td>12 days</td>\n",
              "      <td>4.095290e+05</td>\n",
              "      <td>639.944512</td>\n",
              "      <td>465.159851</td>\n",
              "      <td>0.056502</td>\n",
              "      <td>0.039733</td>\n",
              "      <td>0.662037</td>\n",
              "    </tr>\n",
              "    <tr>\n",
              "      <th>9</th>\n",
              "      <td>13 days</td>\n",
              "      <td>3.797835e+05</td>\n",
              "      <td>616.265779</td>\n",
              "      <td>436.111125</td>\n",
              "      <td>0.053176</td>\n",
              "      <td>0.027796</td>\n",
              "      <td>0.699074</td>\n",
              "    </tr>\n",
              "    <tr>\n",
              "      <th>10</th>\n",
              "      <td>14 days</td>\n",
              "      <td>3.555962e+05</td>\n",
              "      <td>596.318835</td>\n",
              "      <td>431.604498</td>\n",
              "      <td>0.052698</td>\n",
              "      <td>0.042501</td>\n",
              "      <td>0.773148</td>\n",
              "    </tr>\n",
              "    <tr>\n",
              "      <th>11</th>\n",
              "      <td>15 days</td>\n",
              "      <td>3.585251e+05</td>\n",
              "      <td>598.769652</td>\n",
              "      <td>433.851674</td>\n",
              "      <td>0.053067</td>\n",
              "      <td>0.042501</td>\n",
              "      <td>0.787037</td>\n",
              "    </tr>\n",
              "    <tr>\n",
              "      <th>12</th>\n",
              "      <td>16 days</td>\n",
              "      <td>4.552730e+05</td>\n",
              "      <td>674.739214</td>\n",
              "      <td>463.060354</td>\n",
              "      <td>0.056190</td>\n",
              "      <td>0.042501</td>\n",
              "      <td>0.787037</td>\n",
              "    </tr>\n",
              "    <tr>\n",
              "      <th>13</th>\n",
              "      <td>17 days</td>\n",
              "      <td>6.328729e+05</td>\n",
              "      <td>795.533061</td>\n",
              "      <td>524.267923</td>\n",
              "      <td>0.062965</td>\n",
              "      <td>0.038969</td>\n",
              "      <td>0.689815</td>\n",
              "    </tr>\n",
              "    <tr>\n",
              "      <th>14</th>\n",
              "      <td>18 days</td>\n",
              "      <td>8.008928e+05</td>\n",
              "      <td>894.926135</td>\n",
              "      <td>578.779915</td>\n",
              "      <td>0.068782</td>\n",
              "      <td>0.038969</td>\n",
              "      <td>0.675926</td>\n",
              "    </tr>\n",
              "    <tr>\n",
              "      <th>15</th>\n",
              "      <td>19 days</td>\n",
              "      <td>9.697960e+05</td>\n",
              "      <td>984.782220</td>\n",
              "      <td>630.504921</td>\n",
              "      <td>0.074352</td>\n",
              "      <td>0.047740</td>\n",
              "      <td>0.601852</td>\n",
              "    </tr>\n",
              "    <tr>\n",
              "      <th>16</th>\n",
              "      <td>20 days</td>\n",
              "      <td>1.010057e+06</td>\n",
              "      <td>1005.015709</td>\n",
              "      <td>655.832857</td>\n",
              "      <td>0.077180</td>\n",
              "      <td>0.042062</td>\n",
              "      <td>0.611111</td>\n",
              "    </tr>\n",
              "    <tr>\n",
              "      <th>17</th>\n",
              "      <td>21 days</td>\n",
              "      <td>1.094248e+06</td>\n",
              "      <td>1046.063294</td>\n",
              "      <td>676.040677</td>\n",
              "      <td>0.079078</td>\n",
              "      <td>0.041294</td>\n",
              "      <td>0.601852</td>\n",
              "    </tr>\n",
              "    <tr>\n",
              "      <th>18</th>\n",
              "      <td>22 days</td>\n",
              "      <td>1.142727e+06</td>\n",
              "      <td>1068.984243</td>\n",
              "      <td>673.614056</td>\n",
              "      <td>0.078530</td>\n",
              "      <td>0.030606</td>\n",
              "      <td>0.648148</td>\n",
              "    </tr>\n",
              "    <tr>\n",
              "      <th>19</th>\n",
              "      <td>23 days</td>\n",
              "      <td>1.226407e+06</td>\n",
              "      <td>1107.432600</td>\n",
              "      <td>682.103518</td>\n",
              "      <td>0.079110</td>\n",
              "      <td>0.038044</td>\n",
              "      <td>0.699074</td>\n",
              "    </tr>\n",
              "    <tr>\n",
              "      <th>20</th>\n",
              "      <td>24 days</td>\n",
              "      <td>1.312326e+06</td>\n",
              "      <td>1145.567774</td>\n",
              "      <td>705.881499</td>\n",
              "      <td>0.081749</td>\n",
              "      <td>0.039677</td>\n",
              "      <td>0.699074</td>\n",
              "    </tr>\n",
              "    <tr>\n",
              "      <th>21</th>\n",
              "      <td>25 days</td>\n",
              "      <td>1.286810e+06</td>\n",
              "      <td>1134.376387</td>\n",
              "      <td>700.089227</td>\n",
              "      <td>0.081638</td>\n",
              "      <td>0.038044</td>\n",
              "      <td>0.712963</td>\n",
              "    </tr>\n",
              "    <tr>\n",
              "      <th>22</th>\n",
              "      <td>26 days</td>\n",
              "      <td>1.404738e+06</td>\n",
              "      <td>1185.216455</td>\n",
              "      <td>791.710092</td>\n",
              "      <td>0.092340</td>\n",
              "      <td>0.044526</td>\n",
              "      <td>0.675926</td>\n",
              "    </tr>\n",
              "    <tr>\n",
              "      <th>23</th>\n",
              "      <td>27 days</td>\n",
              "      <td>1.508685e+06</td>\n",
              "      <td>1228.285291</td>\n",
              "      <td>857.396457</td>\n",
              "      <td>0.100015</td>\n",
              "      <td>0.061904</td>\n",
              "      <td>0.587963</td>\n",
              "    </tr>\n",
              "    <tr>\n",
              "      <th>24</th>\n",
              "      <td>28 days</td>\n",
              "      <td>1.651526e+06</td>\n",
              "      <td>1285.117206</td>\n",
              "      <td>930.294777</td>\n",
              "      <td>0.108235</td>\n",
              "      <td>0.060179</td>\n",
              "      <td>0.527778</td>\n",
              "    </tr>\n",
              "    <tr>\n",
              "      <th>25</th>\n",
              "      <td>29 days</td>\n",
              "      <td>1.727371e+06</td>\n",
              "      <td>1314.295013</td>\n",
              "      <td>956.187715</td>\n",
              "      <td>0.111266</td>\n",
              "      <td>0.060179</td>\n",
              "      <td>0.476852</td>\n",
              "    </tr>\n",
              "    <tr>\n",
              "      <th>26</th>\n",
              "      <td>30 days</td>\n",
              "      <td>1.809459e+06</td>\n",
              "      <td>1345.161210</td>\n",
              "      <td>963.798383</td>\n",
              "      <td>0.111957</td>\n",
              "      <td>0.059160</td>\n",
              "      <td>0.523148</td>\n",
              "    </tr>\n",
              "    <tr>\n",
              "      <th>27</th>\n",
              "      <td>31 days</td>\n",
              "      <td>1.868562e+06</td>\n",
              "      <td>1366.953414</td>\n",
              "      <td>983.206439</td>\n",
              "      <td>0.114354</td>\n",
              "      <td>0.060179</td>\n",
              "      <td>0.574074</td>\n",
              "    </tr>\n",
              "    <tr>\n",
              "      <th>28</th>\n",
              "      <td>32 days</td>\n",
              "      <td>1.905887e+06</td>\n",
              "      <td>1380.538806</td>\n",
              "      <td>993.175445</td>\n",
              "      <td>0.115706</td>\n",
              "      <td>0.048243</td>\n",
              "      <td>0.574074</td>\n",
              "    </tr>\n",
              "    <tr>\n",
              "      <th>29</th>\n",
              "      <td>33 days</td>\n",
              "      <td>1.959684e+06</td>\n",
              "      <td>1399.887271</td>\n",
              "      <td>1005.452897</td>\n",
              "      <td>0.117325</td>\n",
              "      <td>0.048243</td>\n",
              "      <td>0.587963</td>\n",
              "    </tr>\n",
              "    <tr>\n",
              "      <th>30</th>\n",
              "      <td>34 days</td>\n",
              "      <td>1.984306e+06</td>\n",
              "      <td>1408.654120</td>\n",
              "      <td>991.387560</td>\n",
              "      <td>0.115757</td>\n",
              "      <td>0.046023</td>\n",
              "      <td>0.587963</td>\n",
              "    </tr>\n",
              "  </tbody>\n",
              "</table>\n",
              "</div>"
            ],
            "text/plain": [
              "   horizon           mse         rmse  ...      mape     mdape  coverage\n",
              "0   4 days  2.452664e+05   495.243775  ...  0.041323  0.026066  0.763889\n",
              "1   5 days  3.304308e+05   574.831091  ...  0.048567  0.026066  0.666667\n",
              "2   6 days  3.431555e+05   585.794763  ...  0.049975  0.028271  0.638889\n",
              "3   7 days  3.352080e+05   578.971466  ...  0.047340  0.024317  0.722222\n",
              "4   8 days  3.487002e+05   590.508454  ...  0.048380  0.028271  0.699074\n",
              "5   9 days  3.751246e+05   612.474171  ...  0.051478  0.033107  0.675926\n",
              "6  10 days  4.056901e+05   636.938064  ...  0.055919  0.039733  0.615741\n",
              "7  11 days  3.981085e+05   630.958375  ...  0.055873  0.039649  0.611111\n",
              "8  12 days  4.095290e+05   639.944512  ...  0.056502  0.039733  0.662037\n",
              "9  13 days  3.797835e+05   616.265779  ...  0.053176  0.027796  0.699074\n",
              "10 14 days  3.555962e+05   596.318835  ...  0.052698  0.042501  0.773148\n",
              "11 15 days  3.585251e+05   598.769652  ...  0.053067  0.042501  0.787037\n",
              "12 16 days  4.552730e+05   674.739214  ...  0.056190  0.042501  0.787037\n",
              "13 17 days  6.328729e+05   795.533061  ...  0.062965  0.038969  0.689815\n",
              "14 18 days  8.008928e+05   894.926135  ...  0.068782  0.038969  0.675926\n",
              "15 19 days  9.697960e+05   984.782220  ...  0.074352  0.047740  0.601852\n",
              "16 20 days  1.010057e+06  1005.015709  ...  0.077180  0.042062  0.611111\n",
              "17 21 days  1.094248e+06  1046.063294  ...  0.079078  0.041294  0.601852\n",
              "18 22 days  1.142727e+06  1068.984243  ...  0.078530  0.030606  0.648148\n",
              "19 23 days  1.226407e+06  1107.432600  ...  0.079110  0.038044  0.699074\n",
              "20 24 days  1.312326e+06  1145.567774  ...  0.081749  0.039677  0.699074\n",
              "21 25 days  1.286810e+06  1134.376387  ...  0.081638  0.038044  0.712963\n",
              "22 26 days  1.404738e+06  1185.216455  ...  0.092340  0.044526  0.675926\n",
              "23 27 days  1.508685e+06  1228.285291  ...  0.100015  0.061904  0.587963\n",
              "24 28 days  1.651526e+06  1285.117206  ...  0.108235  0.060179  0.527778\n",
              "25 29 days  1.727371e+06  1314.295013  ...  0.111266  0.060179  0.476852\n",
              "26 30 days  1.809459e+06  1345.161210  ...  0.111957  0.059160  0.523148\n",
              "27 31 days  1.868562e+06  1366.953414  ...  0.114354  0.060179  0.574074\n",
              "28 32 days  1.905887e+06  1380.538806  ...  0.115706  0.048243  0.574074\n",
              "29 33 days  1.959684e+06  1399.887271  ...  0.117325  0.048243  0.587963\n",
              "30 34 days  1.984306e+06  1408.654120  ...  0.115757  0.046023  0.587963\n",
              "\n",
              "[31 rows x 7 columns]"
            ]
          },
          "metadata": {
            "tags": []
          },
          "execution_count": 139
        }
      ]
    },
    {
      "cell_type": "code",
      "metadata": {
        "id": "7FXJ11YAlVf_",
        "colab_type": "code",
        "colab": {
          "base_uri": "https://localhost:8080/",
          "height": 388
        },
        "outputId": "d2f4ea1c-f9e3-4cc5-a631-9fe0cc62dc34"
      },
      "source": [
        "from fbprophet.plot import plot_cross_validation_metric\n",
        "plot_cross_validation_metric(cv,metric='rmse')\n",
        "plt.show()"
      ],
      "execution_count": 140,
      "outputs": [
        {
          "output_type": "display_data",
          "data": {
            "image/png": "[encoded data removed]",
            "text/plain": [
              "<Figure size 720x432 with 1 Axes>"
            ]
          },
          "metadata": {
            "tags": []
          }
        }
      ]
    },
    {
      "cell_type": "code",
      "metadata": {
        "id": "9YbBy3b-AnyW",
        "colab_type": "code",
        "colab": {}
      },
      "source": [
        "f = forecast[['ds','yhat']]"
      ],
      "execution_count": 0,
      "outputs": []
    },
    {
      "cell_type": "code",
      "metadata": {
        "id": "_6obrquvBHVD",
        "colab_type": "code",
        "colab": {}
      },
      "source": [
        "a = df.copy()"
      ],
      "execution_count": 0,
      "outputs": []
    },
    {
      "cell_type": "code",
      "metadata": {
        "id": "_fV1EznUBKvF",
        "colab_type": "code",
        "colab": {}
      },
      "source": [
        "a['ds'] = pd.to_datetime(a['ds'])"
      ],
      "execution_count": 0,
      "outputs": []
    },
    {
      "cell_type": "code",
      "metadata": {
        "id": "5eWIZUjDA1U6",
        "colab_type": "code",
        "colab": {
          "base_uri": "https://localhost:8080/",
          "height": 204
        },
        "outputId": "b955a459-d83d-45b8-e8a9-bfa9539312e7"
      },
      "source": [
        "pred = pd.merge(a,f,how='inner',on='ds')\n",
        "pred.head()"
      ],
      "execution_count": 82,
      "outputs": [
        {
          "output_type": "execute_result",
          "data": {
            "text/html": [
              "<div>\n",
              "<style scoped>\n",
              "    .dataframe tbody tr th:only-of-type {\n",
              "        vertical-align: middle;\n",
              "    }\n",
              "\n",
              "    .dataframe tbody tr th {\n",
              "        vertical-align: top;\n",
              "    }\n",
              "\n",
              "    .dataframe thead th {\n",
              "        text-align: right;\n",
              "    }\n",
              "</style>\n",
              "<table border=\"1\" class=\"dataframe\">\n",
              "  <thead>\n",
              "    <tr style=\"text-align: right;\">\n",
              "      <th></th>\n",
              "      <th>ds</th>\n",
              "      <th>y</th>\n",
              "      <th>yhat</th>\n",
              "    </tr>\n",
              "  </thead>\n",
              "  <tbody>\n",
              "    <tr>\n",
              "      <th>0</th>\n",
              "      <td>2018-01-01</td>\n",
              "      <td>8418.59</td>\n",
              "      <td>8454.927862</td>\n",
              "    </tr>\n",
              "    <tr>\n",
              "      <th>1</th>\n",
              "      <td>2018-01-02</td>\n",
              "      <td>8447.47</td>\n",
              "      <td>8434.319885</td>\n",
              "    </tr>\n",
              "    <tr>\n",
              "      <th>2</th>\n",
              "      <td>2018-01-03</td>\n",
              "      <td>8336.49</td>\n",
              "      <td>8407.648471</td>\n",
              "    </tr>\n",
              "    <tr>\n",
              "      <th>3</th>\n",
              "      <td>2018-01-04</td>\n",
              "      <td>8579.17</td>\n",
              "      <td>8445.701803</td>\n",
              "    </tr>\n",
              "    <tr>\n",
              "      <th>4</th>\n",
              "      <td>2018-01-05</td>\n",
              "      <td>8524.31</td>\n",
              "      <td>8438.826770</td>\n",
              "    </tr>\n",
              "  </tbody>\n",
              "</table>\n",
              "</div>"
            ],
            "text/plain": [
              "          ds        y         yhat\n",
              "0 2018-01-01  8418.59  8454.927862\n",
              "1 2018-01-02  8447.47  8434.319885\n",
              "2 2018-01-03  8336.49  8407.648471\n",
              "3 2018-01-04  8579.17  8445.701803\n",
              "4 2018-01-05  8524.31  8438.826770"
            ]
          },
          "metadata": {
            "tags": []
          },
          "execution_count": 82
        }
      ]
    },
    {
      "cell_type": "markdown",
      "metadata": {
        "id": "5ceJa8ZxChDH",
        "colab_type": "text"
      },
      "source": [
        "# Evaluation of Predictions"
      ]
    },
    {
      "cell_type": "code",
      "metadata": {
        "id": "iDIT9Ap7BVAj",
        "colab_type": "code",
        "colab": {
          "base_uri": "https://localhost:8080/",
          "height": 34
        },
        "outputId": "d5d02daa-2182-4e6d-e6df-241fe74dae3b"
      },
      "source": [
        "from sklearn.metrics import mean_squared_error\n",
        "np.sqrt(mean_squared_error(pred['y'],pred['yhat']))"
      ],
      "execution_count": 83,
      "outputs": [
        {
          "output_type": "execute_result",
          "data": {
            "text/plain": [
              "355.4365508446735"
            ]
          },
          "metadata": {
            "tags": []
          },
          "execution_count": 83
        }
      ]
    },
    {
      "cell_type": "code",
      "metadata": {
        "id": "roaASyJaAXaB",
        "colab_type": "code",
        "colab": {
          "base_uri": "https://localhost:8080/",
          "height": 204
        },
        "outputId": "9fbf357b-e990-42c5-bbbb-d24f5b283ee4"
      },
      "source": [
        "df.tail()"
      ],
      "execution_count": 84,
      "outputs": [
        {
          "output_type": "execute_result",
          "data": {
            "text/html": [
              "<div>\n",
              "<style scoped>\n",
              "    .dataframe tbody tr th:only-of-type {\n",
              "        vertical-align: middle;\n",
              "    }\n",
              "\n",
              "    .dataframe tbody tr th {\n",
              "        vertical-align: top;\n",
              "    }\n",
              "\n",
              "    .dataframe thead th {\n",
              "        text-align: right;\n",
              "    }\n",
              "</style>\n",
              "<table border=\"1\" class=\"dataframe\">\n",
              "  <thead>\n",
              "    <tr style=\"text-align: right;\">\n",
              "      <th></th>\n",
              "      <th>ds</th>\n",
              "      <th>y</th>\n",
              "    </tr>\n",
              "  </thead>\n",
              "  <tbody>\n",
              "    <tr>\n",
              "      <th>687</th>\n",
              "      <td>2019-11-19</td>\n",
              "      <td>8848.98</td>\n",
              "    </tr>\n",
              "    <tr>\n",
              "      <th>688</th>\n",
              "      <td>2019-11-20</td>\n",
              "      <td>8800.45</td>\n",
              "    </tr>\n",
              "    <tr>\n",
              "      <th>689</th>\n",
              "      <td>2019-11-21</td>\n",
              "      <td>9197.99</td>\n",
              "    </tr>\n",
              "    <tr>\n",
              "      <th>690</th>\n",
              "      <td>2019-11-22</td>\n",
              "      <td>9062.44</td>\n",
              "    </tr>\n",
              "    <tr>\n",
              "      <th>691</th>\n",
              "      <td>2019-11-23</td>\n",
              "      <td>8963.12</td>\n",
              "    </tr>\n",
              "  </tbody>\n",
              "</table>\n",
              "</div>"
            ],
            "text/plain": [
              "            ds        y\n",
              "687 2019-11-19  8848.98\n",
              "688 2019-11-20  8800.45\n",
              "689 2019-11-21  9197.99\n",
              "690 2019-11-22  9062.44\n",
              "691 2019-11-23  8963.12"
            ]
          },
          "metadata": {
            "tags": []
          },
          "execution_count": 84
        }
      ]
    },
    {
      "cell_type": "code",
      "metadata": {
        "id": "k_paqOSf92T6",
        "colab_type": "code",
        "colab": {
          "base_uri": "https://localhost:8080/",
          "height": 441
        },
        "outputId": "caf9be95-0c35-421d-dc03-ef48d5c010eb"
      },
      "source": [
        "m.plot(forecast)\n",
        "plt.show()\n"
      ],
      "execution_count": 85,
      "outputs": [
        {
          "output_type": "display_data",
          "data": {
            "image/png": "[encoded data removed]",
            "text/plain": [
              "<Figure size 720x432 with 1 Axes>"
            ]
          },
          "metadata": {
            "tags": []
          }
        }
      ]
    },
    {
      "cell_type": "code",
      "metadata": {
        "id": "X2t0mV8DABEO",
        "colab_type": "code",
        "colab": {
          "base_uri": "https://localhost:8080/",
          "height": 441
        },
        "outputId": "973074bd-45c0-4f9c-c664-f7e8e6ab7c76"
      },
      "source": [
        "m.plot_components(forecast)\n",
        "plt.show()\n"
      ],
      "execution_count": 86,
      "outputs": [
        {
          "output_type": "display_data",
          "data": {
            "image/png": "[encoded data removed]",
            "text/plain": [
              "<Figure size 648x432 with 2 Axes>"
            ]
          },
          "metadata": {
            "tags": []
          }
        }
      ]
    },
    {
      "cell_type": "code",
      "metadata": {
        "id": "qmM0zLq0DK8o",
        "colab_type": "code",
        "colab": {}
      },
      "source": [
        "sub = forecast.loc[692:]"
      ],
      "execution_count": 0,
      "outputs": []
    },
    {
      "cell_type": "code",
      "metadata": {
        "id": "eCysTJ6cDatk",
        "colab_type": "code",
        "colab": {}
      },
      "source": [
        "sub = sub.rename(columns={'yhat':'GrocerySales'})"
      ],
      "execution_count": 0,
      "outputs": []
    },
    {
      "cell_type": "code",
      "metadata": {
        "id": "OiphVs3zFiS5",
        "colab_type": "code",
        "colab": {
          "base_uri": "https://localhost:8080/",
          "height": 309
        },
        "outputId": "57725006-d3b2-4bb9-bb62-d39e6a2cabea"
      },
      "source": [
        "sub.head()"
      ],
      "execution_count": 103,
      "outputs": [
        {
          "output_type": "execute_result",
          "data": {
            "text/html": [
              "<div>\n",
              "<style scoped>\n",
              "    .dataframe tbody tr th:only-of-type {\n",
              "        vertical-align: middle;\n",
              "    }\n",
              "\n",
              "    .dataframe tbody tr th {\n",
              "        vertical-align: top;\n",
              "    }\n",
              "\n",
              "    .dataframe thead th {\n",
              "        text-align: right;\n",
              "    }\n",
              "</style>\n",
              "<table border=\"1\" class=\"dataframe\">\n",
              "  <thead>\n",
              "    <tr style=\"text-align: right;\">\n",
              "      <th></th>\n",
              "      <th>ds</th>\n",
              "      <th>trend</th>\n",
              "      <th>yhat_lower</th>\n",
              "      <th>yhat_upper</th>\n",
              "      <th>trend_lower</th>\n",
              "      <th>trend_upper</th>\n",
              "      <th>additive_terms</th>\n",
              "      <th>additive_terms_lower</th>\n",
              "      <th>additive_terms_upper</th>\n",
              "      <th>weekly</th>\n",
              "      <th>weekly_lower</th>\n",
              "      <th>weekly_upper</th>\n",
              "      <th>yearly</th>\n",
              "      <th>yearly_lower</th>\n",
              "      <th>yearly_upper</th>\n",
              "      <th>multiplicative_terms</th>\n",
              "      <th>multiplicative_terms_lower</th>\n",
              "      <th>multiplicative_terms_upper</th>\n",
              "      <th>GrocerySales</th>\n",
              "    </tr>\n",
              "  </thead>\n",
              "  <tbody>\n",
              "    <tr>\n",
              "      <th>692</th>\n",
              "      <td>2020-05-02</td>\n",
              "      <td>8766.191408</td>\n",
              "      <td>8300.629910</td>\n",
              "      <td>9013.853927</td>\n",
              "      <td>8766.191408</td>\n",
              "      <td>8766.191408</td>\n",
              "      <td>-116.922270</td>\n",
              "      <td>-116.922270</td>\n",
              "      <td>-116.922270</td>\n",
              "      <td>6.245334</td>\n",
              "      <td>6.245334</td>\n",
              "      <td>6.245334</td>\n",
              "      <td>-123.167604</td>\n",
              "      <td>-123.167604</td>\n",
              "      <td>-123.167604</td>\n",
              "      <td>0.0</td>\n",
              "      <td>0.0</td>\n",
              "      <td>0.0</td>\n",
              "      <td>8649.269137</td>\n",
              "    </tr>\n",
              "    <tr>\n",
              "      <th>693</th>\n",
              "      <td>2020-05-03</td>\n",
              "      <td>8766.125514</td>\n",
              "      <td>8226.667438</td>\n",
              "      <td>8955.584100</td>\n",
              "      <td>8766.125514</td>\n",
              "      <td>8766.125514</td>\n",
              "      <td>-179.587642</td>\n",
              "      <td>-179.587642</td>\n",
              "      <td>-179.587642</td>\n",
              "      <td>-12.080925</td>\n",
              "      <td>-12.080925</td>\n",
              "      <td>-12.080925</td>\n",
              "      <td>-167.506717</td>\n",
              "      <td>-167.506717</td>\n",
              "      <td>-167.506717</td>\n",
              "      <td>0.0</td>\n",
              "      <td>0.0</td>\n",
              "      <td>0.0</td>\n",
              "      <td>8586.537872</td>\n",
              "    </tr>\n",
              "    <tr>\n",
              "      <th>694</th>\n",
              "      <td>2020-05-04</td>\n",
              "      <td>8766.059621</td>\n",
              "      <td>8191.504052</td>\n",
              "      <td>8888.698961</td>\n",
              "      <td>8766.059621</td>\n",
              "      <td>8766.059621</td>\n",
              "      <td>-227.573697</td>\n",
              "      <td>-227.573697</td>\n",
              "      <td>-227.573697</td>\n",
              "      <td>-15.668073</td>\n",
              "      <td>-15.668073</td>\n",
              "      <td>-15.668073</td>\n",
              "      <td>-211.905624</td>\n",
              "      <td>-211.905624</td>\n",
              "      <td>-211.905624</td>\n",
              "      <td>0.0</td>\n",
              "      <td>0.0</td>\n",
              "      <td>0.0</td>\n",
              "      <td>8538.485924</td>\n",
              "    </tr>\n",
              "    <tr>\n",
              "      <th>695</th>\n",
              "      <td>2020-05-05</td>\n",
              "      <td>8765.993728</td>\n",
              "      <td>8140.889465</td>\n",
              "      <td>8869.662226</td>\n",
              "      <td>8765.993728</td>\n",
              "      <td>8765.993728</td>\n",
              "      <td>-257.102720</td>\n",
              "      <td>-257.102720</td>\n",
              "      <td>-257.102720</td>\n",
              "      <td>-1.252368</td>\n",
              "      <td>-1.252368</td>\n",
              "      <td>-1.252368</td>\n",
              "      <td>-255.850353</td>\n",
              "      <td>-255.850353</td>\n",
              "      <td>-255.850353</td>\n",
              "      <td>0.0</td>\n",
              "      <td>0.0</td>\n",
              "      <td>0.0</td>\n",
              "      <td>8508.891007</td>\n",
              "    </tr>\n",
              "    <tr>\n",
              "      <th>696</th>\n",
              "      <td>2020-05-06</td>\n",
              "      <td>8765.927834</td>\n",
              "      <td>8138.209624</td>\n",
              "      <td>8811.041934</td>\n",
              "      <td>8765.927834</td>\n",
              "      <td>8765.927834</td>\n",
              "      <td>-281.434290</td>\n",
              "      <td>-281.434290</td>\n",
              "      <td>-281.434290</td>\n",
              "      <td>17.387811</td>\n",
              "      <td>17.387811</td>\n",
              "      <td>17.387811</td>\n",
              "      <td>-298.822101</td>\n",
              "      <td>-298.822101</td>\n",
              "      <td>-298.822101</td>\n",
              "      <td>0.0</td>\n",
              "      <td>0.0</td>\n",
              "      <td>0.0</td>\n",
              "      <td>8484.493544</td>\n",
              "    </tr>\n",
              "  </tbody>\n",
              "</table>\n",
              "</div>"
            ],
            "text/plain": [
              "            ds        trend  ...  multiplicative_terms_upper  GrocerySales\n",
              "692 2020-05-02  8766.191408  ...                         0.0   8649.269137\n",
              "693 2020-05-03  8766.125514  ...                         0.0   8586.537872\n",
              "694 2020-05-04  8766.059621  ...                         0.0   8538.485924\n",
              "695 2020-05-05  8765.993728  ...                         0.0   8508.891007\n",
              "696 2020-05-06  8765.927834  ...                         0.0   8484.493544\n",
              "\n",
              "[5 rows x 19 columns]"
            ]
          },
          "metadata": {
            "tags": []
          },
          "execution_count": 103
        }
      ]
    },
    {
      "cell_type": "code",
      "metadata": {
        "id": "ujy1_P4EFj5I",
        "colab_type": "code",
        "colab": {}
      },
      "source": [
        "sub.loc[692:]['GrocerySales'].to_excel('sub.xlsx',index=False)"
      ],
      "execution_count": 0,
      "outputs": []
    },
    {
      "cell_type": "code",
      "metadata": {
        "id": "JxNngiBJGcSM",
        "colab_type": "code",
        "colab": {
          "base_uri": "https://localhost:8080/",
          "height": 204
        },
        "outputId": "1f74f285-84fc-4499-fe9e-f86e9f21e9b3"
      },
      "source": [
        "test.head()"
      ],
      "execution_count": 107,
      "outputs": [
        {
          "output_type": "execute_result",
          "data": {
            "text/html": [
              "<div>\n",
              "<style scoped>\n",
              "    .dataframe tbody tr th:only-of-type {\n",
              "        vertical-align: middle;\n",
              "    }\n",
              "\n",
              "    .dataframe tbody tr th {\n",
              "        vertical-align: top;\n",
              "    }\n",
              "\n",
              "    .dataframe thead th {\n",
              "        text-align: right;\n",
              "    }\n",
              "</style>\n",
              "<table border=\"1\" class=\"dataframe\">\n",
              "  <thead>\n",
              "    <tr style=\"text-align: right;\">\n",
              "      <th></th>\n",
              "      <th>Day</th>\n",
              "      <th>TS</th>\n",
              "      <th>Date</th>\n",
              "    </tr>\n",
              "  </thead>\n",
              "  <tbody>\n",
              "    <tr>\n",
              "      <th>0</th>\n",
              "      <td>693</td>\n",
              "      <td>2020-05-05</td>\n",
              "      <td>2020-05-05</td>\n",
              "    </tr>\n",
              "    <tr>\n",
              "      <th>1</th>\n",
              "      <td>694</td>\n",
              "      <td>2020-05-06</td>\n",
              "      <td>2020-05-06</td>\n",
              "    </tr>\n",
              "    <tr>\n",
              "      <th>2</th>\n",
              "      <td>695</td>\n",
              "      <td>2020-05-07</td>\n",
              "      <td>2020-05-07</td>\n",
              "    </tr>\n",
              "    <tr>\n",
              "      <th>3</th>\n",
              "      <td>696</td>\n",
              "      <td>2020-05-08</td>\n",
              "      <td>2020-05-08</td>\n",
              "    </tr>\n",
              "    <tr>\n",
              "      <th>4</th>\n",
              "      <td>697</td>\n",
              "      <td>2020-05-09</td>\n",
              "      <td>2020-05-09</td>\n",
              "    </tr>\n",
              "  </tbody>\n",
              "</table>\n",
              "</div>"
            ],
            "text/plain": [
              "   Day         TS        Date\n",
              "0  693 2020-05-05  2020-05-05\n",
              "1  694 2020-05-06  2020-05-06\n",
              "2  695 2020-05-07  2020-05-07\n",
              "3  696 2020-05-08  2020-05-08\n",
              "4  697 2020-05-09  2020-05-09"
            ]
          },
          "metadata": {
            "tags": []
          },
          "execution_count": 107
        }
      ]
    },
    {
      "cell_type": "code",
      "metadata": {
        "id": "vkELiJUOGty2",
        "colab_type": "code",
        "colab": {
          "base_uri": "https://localhost:8080/",
          "height": 309
        },
        "outputId": "967cbd35-2820-4422-e3e9-dc6a61f4eac0"
      },
      "source": [
        "sub.tail()"
      ],
      "execution_count": 109,
      "outputs": [
        {
          "output_type": "execute_result",
          "data": {
            "text/html": [
              "<div>\n",
              "<style scoped>\n",
              "    .dataframe tbody tr th:only-of-type {\n",
              "        vertical-align: middle;\n",
              "    }\n",
              "\n",
              "    .dataframe tbody tr th {\n",
              "        vertical-align: top;\n",
              "    }\n",
              "\n",
              "    .dataframe thead th {\n",
              "        text-align: right;\n",
              "    }\n",
              "</style>\n",
              "<table border=\"1\" class=\"dataframe\">\n",
              "  <thead>\n",
              "    <tr style=\"text-align: right;\">\n",
              "      <th></th>\n",
              "      <th>ds</th>\n",
              "      <th>trend</th>\n",
              "      <th>yhat_lower</th>\n",
              "      <th>yhat_upper</th>\n",
              "      <th>trend_lower</th>\n",
              "      <th>trend_upper</th>\n",
              "      <th>additive_terms</th>\n",
              "      <th>additive_terms_lower</th>\n",
              "      <th>additive_terms_upper</th>\n",
              "      <th>weekly</th>\n",
              "      <th>weekly_lower</th>\n",
              "      <th>weekly_upper</th>\n",
              "      <th>yearly</th>\n",
              "      <th>yearly_lower</th>\n",
              "      <th>yearly_upper</th>\n",
              "      <th>multiplicative_terms</th>\n",
              "      <th>multiplicative_terms_lower</th>\n",
              "      <th>multiplicative_terms_upper</th>\n",
              "      <th>GrocerySales</th>\n",
              "    </tr>\n",
              "  </thead>\n",
              "  <tbody>\n",
              "    <tr>\n",
              "      <th>777</th>\n",
              "      <td>2020-07-26</td>\n",
              "      <td>8760.590473</td>\n",
              "      <td>8806.543341</td>\n",
              "      <td>9566.137856</td>\n",
              "      <td>8722.002534</td>\n",
              "      <td>8797.270380</td>\n",
              "      <td>416.259241</td>\n",
              "      <td>416.259241</td>\n",
              "      <td>416.259241</td>\n",
              "      <td>-12.080925</td>\n",
              "      <td>-12.080925</td>\n",
              "      <td>-12.080925</td>\n",
              "      <td>428.340167</td>\n",
              "      <td>428.340167</td>\n",
              "      <td>428.340167</td>\n",
              "      <td>0.0</td>\n",
              "      <td>0.0</td>\n",
              "      <td>0.0</td>\n",
              "      <td>9176.849714</td>\n",
              "    </tr>\n",
              "    <tr>\n",
              "      <th>778</th>\n",
              "      <td>2020-07-27</td>\n",
              "      <td>8760.524579</td>\n",
              "      <td>8809.291859</td>\n",
              "      <td>9509.310263</td>\n",
              "      <td>8721.192133</td>\n",
              "      <td>8797.729634</td>\n",
              "      <td>413.815741</td>\n",
              "      <td>413.815741</td>\n",
              "      <td>413.815741</td>\n",
              "      <td>-15.668073</td>\n",
              "      <td>-15.668073</td>\n",
              "      <td>-15.668073</td>\n",
              "      <td>429.483813</td>\n",
              "      <td>429.483813</td>\n",
              "      <td>429.483813</td>\n",
              "      <td>0.0</td>\n",
              "      <td>0.0</td>\n",
              "      <td>0.0</td>\n",
              "      <td>9174.340320</td>\n",
              "    </tr>\n",
              "    <tr>\n",
              "      <th>779</th>\n",
              "      <td>2020-07-28</td>\n",
              "      <td>8760.458686</td>\n",
              "      <td>8843.395549</td>\n",
              "      <td>9536.779369</td>\n",
              "      <td>8720.617445</td>\n",
              "      <td>8798.370334</td>\n",
              "      <td>427.333311</td>\n",
              "      <td>427.333311</td>\n",
              "      <td>427.333311</td>\n",
              "      <td>-1.252368</td>\n",
              "      <td>-1.252368</td>\n",
              "      <td>-1.252368</td>\n",
              "      <td>428.585679</td>\n",
              "      <td>428.585679</td>\n",
              "      <td>428.585679</td>\n",
              "      <td>0.0</td>\n",
              "      <td>0.0</td>\n",
              "      <td>0.0</td>\n",
              "      <td>9187.791997</td>\n",
              "    </tr>\n",
              "    <tr>\n",
              "      <th>780</th>\n",
              "      <td>2020-07-29</td>\n",
              "      <td>8760.392792</td>\n",
              "      <td>8834.287182</td>\n",
              "      <td>9591.090160</td>\n",
              "      <td>8719.959034</td>\n",
              "      <td>8799.199782</td>\n",
              "      <td>442.934193</td>\n",
              "      <td>442.934193</td>\n",
              "      <td>442.934193</td>\n",
              "      <td>17.387811</td>\n",
              "      <td>17.387811</td>\n",
              "      <td>17.387811</td>\n",
              "      <td>425.546382</td>\n",
              "      <td>425.546382</td>\n",
              "      <td>425.546382</td>\n",
              "      <td>0.0</td>\n",
              "      <td>0.0</td>\n",
              "      <td>0.0</td>\n",
              "      <td>9203.326985</td>\n",
              "    </tr>\n",
              "    <tr>\n",
              "      <th>781</th>\n",
              "      <td>2020-07-30</td>\n",
              "      <td>8760.326899</td>\n",
              "      <td>8834.511079</td>\n",
              "      <td>9582.986935</td>\n",
              "      <td>8719.309182</td>\n",
              "      <td>8800.149374</td>\n",
              "      <td>451.588985</td>\n",
              "      <td>451.588985</td>\n",
              "      <td>451.588985</td>\n",
              "      <td>31.313807</td>\n",
              "      <td>31.313807</td>\n",
              "      <td>31.313807</td>\n",
              "      <td>420.275177</td>\n",
              "      <td>420.275177</td>\n",
              "      <td>420.275177</td>\n",
              "      <td>0.0</td>\n",
              "      <td>0.0</td>\n",
              "      <td>0.0</td>\n",
              "      <td>9211.915884</td>\n",
              "    </tr>\n",
              "  </tbody>\n",
              "</table>\n",
              "</div>"
            ],
            "text/plain": [
              "            ds        trend  ...  multiplicative_terms_upper  GrocerySales\n",
              "777 2020-07-26  8760.590473  ...                         0.0   9176.849714\n",
              "778 2020-07-27  8760.524579  ...                         0.0   9174.340320\n",
              "779 2020-07-28  8760.458686  ...                         0.0   9187.791997\n",
              "780 2020-07-29  8760.392792  ...                         0.0   9203.326985\n",
              "781 2020-07-30  8760.326899  ...                         0.0   9211.915884\n",
              "\n",
              "[5 rows x 19 columns]"
            ]
          },
          "metadata": {
            "tags": []
          },
          "execution_count": 109
        }
      ]
    },
    {
      "cell_type": "code",
      "metadata": {
        "id": "WW5wvWMSHnov",
        "colab_type": "code",
        "colab": {}
      },
      "source": [
        "sub = sub[['ds','GrocerySales']]"
      ],
      "execution_count": 0,
      "outputs": []
    },
    {
      "cell_type": "code",
      "metadata": {
        "id": "kwd4a2bmHy_b",
        "colab_type": "code",
        "colab": {
          "base_uri": "https://localhost:8080/",
          "height": 204
        },
        "outputId": "b7b74185-dc25-4492-91c1-61ad4ee1662f"
      },
      "source": [
        "sub.tail()"
      ],
      "execution_count": 121,
      "outputs": [
        {
          "output_type": "execute_result",
          "data": {
            "text/html": [
              "<div>\n",
              "<style scoped>\n",
              "    .dataframe tbody tr th:only-of-type {\n",
              "        vertical-align: middle;\n",
              "    }\n",
              "\n",
              "    .dataframe tbody tr th {\n",
              "        vertical-align: top;\n",
              "    }\n",
              "\n",
              "    .dataframe thead th {\n",
              "        text-align: right;\n",
              "    }\n",
              "</style>\n",
              "<table border=\"1\" class=\"dataframe\">\n",
              "  <thead>\n",
              "    <tr style=\"text-align: right;\">\n",
              "      <th></th>\n",
              "      <th>ds</th>\n",
              "      <th>GrocerySales</th>\n",
              "    </tr>\n",
              "  </thead>\n",
              "  <tbody>\n",
              "    <tr>\n",
              "      <th>777</th>\n",
              "      <td>2020-07-26</td>\n",
              "      <td>9176.849714</td>\n",
              "    </tr>\n",
              "    <tr>\n",
              "      <th>778</th>\n",
              "      <td>2020-07-27</td>\n",
              "      <td>9174.340320</td>\n",
              "    </tr>\n",
              "    <tr>\n",
              "      <th>779</th>\n",
              "      <td>2020-07-28</td>\n",
              "      <td>9187.791997</td>\n",
              "    </tr>\n",
              "    <tr>\n",
              "      <th>780</th>\n",
              "      <td>2020-07-29</td>\n",
              "      <td>9203.326985</td>\n",
              "    </tr>\n",
              "    <tr>\n",
              "      <th>781</th>\n",
              "      <td>2020-07-30</td>\n",
              "      <td>9211.915884</td>\n",
              "    </tr>\n",
              "  </tbody>\n",
              "</table>\n",
              "</div>"
            ],
            "text/plain": [
              "            ds  GrocerySales\n",
              "777 2020-07-26   9176.849714\n",
              "778 2020-07-27   9174.340320\n",
              "779 2020-07-28   9187.791997\n",
              "780 2020-07-29   9203.326985\n",
              "781 2020-07-30   9211.915884"
            ]
          },
          "metadata": {
            "tags": []
          },
          "execution_count": 121
        }
      ]
    },
    {
      "cell_type": "code",
      "metadata": {
        "id": "Dfd2OUedH76N",
        "colab_type": "code",
        "colab": {}
      },
      "source": [
        "sub = sub.rename(columns={'ds':'Date'})"
      ],
      "execution_count": 0,
      "outputs": []
    },
    {
      "cell_type": "code",
      "metadata": {
        "id": "31qSpX2lH4E9",
        "colab_type": "code",
        "colab": {
          "base_uri": "https://localhost:8080/",
          "height": 204
        },
        "outputId": "bb934281-d7f8-43eb-e28b-2fd4a560609e"
      },
      "source": [
        "test.head()"
      ],
      "execution_count": 127,
      "outputs": [
        {
          "output_type": "execute_result",
          "data": {
            "text/html": [
              "<div>\n",
              "<style scoped>\n",
              "    .dataframe tbody tr th:only-of-type {\n",
              "        vertical-align: middle;\n",
              "    }\n",
              "\n",
              "    .dataframe tbody tr th {\n",
              "        vertical-align: top;\n",
              "    }\n",
              "\n",
              "    .dataframe thead th {\n",
              "        text-align: right;\n",
              "    }\n",
              "</style>\n",
              "<table border=\"1\" class=\"dataframe\">\n",
              "  <thead>\n",
              "    <tr style=\"text-align: right;\">\n",
              "      <th></th>\n",
              "      <th>Day</th>\n",
              "      <th>Date</th>\n",
              "    </tr>\n",
              "  </thead>\n",
              "  <tbody>\n",
              "    <tr>\n",
              "      <th>0</th>\n",
              "      <td>693</td>\n",
              "      <td>2020-05-02</td>\n",
              "    </tr>\n",
              "    <tr>\n",
              "      <th>1</th>\n",
              "      <td>694</td>\n",
              "      <td>2020-05-03</td>\n",
              "    </tr>\n",
              "    <tr>\n",
              "      <th>2</th>\n",
              "      <td>695</td>\n",
              "      <td>2020-05-04</td>\n",
              "    </tr>\n",
              "    <tr>\n",
              "      <th>3</th>\n",
              "      <td>696</td>\n",
              "      <td>2020-05-05</td>\n",
              "    </tr>\n",
              "    <tr>\n",
              "      <th>4</th>\n",
              "      <td>697</td>\n",
              "      <td>2020-05-06</td>\n",
              "    </tr>\n",
              "  </tbody>\n",
              "</table>\n",
              "</div>"
            ],
            "text/plain": [
              "   Day       Date\n",
              "0  693 2020-05-02\n",
              "1  694 2020-05-03\n",
              "2  695 2020-05-04\n",
              "3  696 2020-05-05\n",
              "4  697 2020-05-06"
            ]
          },
          "metadata": {
            "tags": []
          },
          "execution_count": 127
        }
      ]
    },
    {
      "cell_type": "code",
      "metadata": {
        "id": "-WJ5xjTdGoB1",
        "colab_type": "code",
        "colab": {}
      },
      "source": [
        "test = pd.merge(test,sub,how='inner',on='Date')"
      ],
      "execution_count": 0,
      "outputs": []
    },
    {
      "cell_type": "code",
      "metadata": {
        "id": "zfq8_Cc_Gpyi",
        "colab_type": "code",
        "colab": {
          "base_uri": "https://localhost:8080/",
          "height": 204
        },
        "outputId": "221779fb-cbf2-4822-ddff-757876b734d7"
      },
      "source": [
        "test.head()"
      ],
      "execution_count": 131,
      "outputs": [
        {
          "output_type": "execute_result",
          "data": {
            "text/html": [
              "<div>\n",
              "<style scoped>\n",
              "    .dataframe tbody tr th:only-of-type {\n",
              "        vertical-align: middle;\n",
              "    }\n",
              "\n",
              "    .dataframe tbody tr th {\n",
              "        vertical-align: top;\n",
              "    }\n",
              "\n",
              "    .dataframe thead th {\n",
              "        text-align: right;\n",
              "    }\n",
              "</style>\n",
              "<table border=\"1\" class=\"dataframe\">\n",
              "  <thead>\n",
              "    <tr style=\"text-align: right;\">\n",
              "      <th></th>\n",
              "      <th>Day</th>\n",
              "      <th>Date</th>\n",
              "      <th>GrocerySales</th>\n",
              "    </tr>\n",
              "  </thead>\n",
              "  <tbody>\n",
              "    <tr>\n",
              "      <th>0</th>\n",
              "      <td>693</td>\n",
              "      <td>2020-05-02</td>\n",
              "      <td>8649.269137</td>\n",
              "    </tr>\n",
              "    <tr>\n",
              "      <th>1</th>\n",
              "      <td>694</td>\n",
              "      <td>2020-05-03</td>\n",
              "      <td>8586.537872</td>\n",
              "    </tr>\n",
              "    <tr>\n",
              "      <th>2</th>\n",
              "      <td>695</td>\n",
              "      <td>2020-05-04</td>\n",
              "      <td>8538.485924</td>\n",
              "    </tr>\n",
              "    <tr>\n",
              "      <th>3</th>\n",
              "      <td>696</td>\n",
              "      <td>2020-05-05</td>\n",
              "      <td>8508.891007</td>\n",
              "    </tr>\n",
              "    <tr>\n",
              "      <th>4</th>\n",
              "      <td>697</td>\n",
              "      <td>2020-05-06</td>\n",
              "      <td>8484.493544</td>\n",
              "    </tr>\n",
              "  </tbody>\n",
              "</table>\n",
              "</div>"
            ],
            "text/plain": [
              "   Day       Date  GrocerySales\n",
              "0  693 2020-05-02   8649.269137\n",
              "1  694 2020-05-03   8586.537872\n",
              "2  695 2020-05-04   8538.485924\n",
              "3  696 2020-05-05   8508.891007\n",
              "4  697 2020-05-06   8484.493544"
            ]
          },
          "metadata": {
            "tags": []
          },
          "execution_count": 131
        }
      ]
    },
    {
      "cell_type": "code",
      "metadata": {
        "id": "PQEXWbOYJ3Ah",
        "colab_type": "code",
        "colab": {
          "base_uri": "https://localhost:8080/",
          "height": 34
        },
        "outputId": "8df9bdf9-c4cb-462b-da21-5f0b5df61729"
      },
      "source": [
        "test.shape"
      ],
      "execution_count": 132,
      "outputs": [
        {
          "output_type": "execute_result",
          "data": {
            "text/plain": [
              "(90, 3)"
            ]
          },
          "metadata": {
            "tags": []
          },
          "execution_count": 132
        }
      ]
    },
    {
      "cell_type": "code",
      "metadata": {
        "id": "AyUDPDw8J6HQ",
        "colab_type": "code",
        "colab": {}
      },
      "source": [
        "test['GrocerySales'].to_excel('sub1.xlsx',index=False)"
      ],
      "execution_count": 0,
      "outputs": []
    },
    {
      "cell_type": "markdown",
      "metadata": {
        "id": "r1ITXwX2XQXm",
        "colab_type": "text"
      },
      "source": [
        "AUTO ARIMA"
      ]
    },
    {
      "cell_type": "code",
      "metadata": {
        "id": "mTYPNgptXSPS",
        "colab_type": "code",
        "colab": {}
      },
      "source": [
        "train = pd.read_csv('/content/Train.csv')\n",
        "test = pd.read_csv('/content/Test.csv')"
      ],
      "execution_count": 0,
      "outputs": []
    },
    {
      "cell_type": "code",
      "metadata": {
        "id": "Sffa1ysJXp2y",
        "colab_type": "code",
        "colab": {}
      },
      "source": [
        "train_date = pd.date_range(start='2018-01-01',periods=692)\n",
        "train['Date'] = train_date\n",
        "test_date =  pd.date_range(start='2019-11-24',periods=90)\n",
        "test['Date'] = test_date"
      ],
      "execution_count": 0,
      "outputs": []
    },
    {
      "cell_type": "code",
      "metadata": {
        "id": "If1MnFf7Xr9w",
        "colab_type": "code",
        "colab": {
          "base_uri": "https://localhost:8080/",
          "height": 204
        },
        "outputId": "e9113239-dc2f-4691-d652-1e0778708f18"
      },
      "source": [
        "train.tail()"
      ],
      "execution_count": 90,
      "outputs": [
        {
          "output_type": "execute_result",
          "data": {
            "text/html": [
              "<div>\n",
              "<style scoped>\n",
              "    .dataframe tbody tr th:only-of-type {\n",
              "        vertical-align: middle;\n",
              "    }\n",
              "\n",
              "    .dataframe tbody tr th {\n",
              "        vertical-align: top;\n",
              "    }\n",
              "\n",
              "    .dataframe thead th {\n",
              "        text-align: right;\n",
              "    }\n",
              "</style>\n",
              "<table border=\"1\" class=\"dataframe\">\n",
              "  <thead>\n",
              "    <tr style=\"text-align: right;\">\n",
              "      <th></th>\n",
              "      <th>Day</th>\n",
              "      <th>GrocerySales</th>\n",
              "      <th>Date</th>\n",
              "    </tr>\n",
              "  </thead>\n",
              "  <tbody>\n",
              "    <tr>\n",
              "      <th>687</th>\n",
              "      <td>688</td>\n",
              "      <td>8848.98</td>\n",
              "      <td>2019-11-19</td>\n",
              "    </tr>\n",
              "    <tr>\n",
              "      <th>688</th>\n",
              "      <td>689</td>\n",
              "      <td>8800.45</td>\n",
              "      <td>2019-11-20</td>\n",
              "    </tr>\n",
              "    <tr>\n",
              "      <th>689</th>\n",
              "      <td>690</td>\n",
              "      <td>9197.99</td>\n",
              "      <td>2019-11-21</td>\n",
              "    </tr>\n",
              "    <tr>\n",
              "      <th>690</th>\n",
              "      <td>691</td>\n",
              "      <td>9062.44</td>\n",
              "      <td>2019-11-22</td>\n",
              "    </tr>\n",
              "    <tr>\n",
              "      <th>691</th>\n",
              "      <td>692</td>\n",
              "      <td>8963.12</td>\n",
              "      <td>2019-11-23</td>\n",
              "    </tr>\n",
              "  </tbody>\n",
              "</table>\n",
              "</div>"
            ],
            "text/plain": [
              "     Day  GrocerySales       Date\n",
              "687  688       8848.98 2019-11-19\n",
              "688  689       8800.45 2019-11-20\n",
              "689  690       9197.99 2019-11-21\n",
              "690  691       9062.44 2019-11-22\n",
              "691  692       8963.12 2019-11-23"
            ]
          },
          "metadata": {
            "tags": []
          },
          "execution_count": 90
        }
      ]
    },
    {
      "cell_type": "code",
      "metadata": {
        "id": "k9MEpMghX4kf",
        "colab_type": "code",
        "colab": {
          "base_uri": "https://localhost:8080/",
          "height": 204
        },
        "outputId": "38126748-e060-4f0c-8b3c-7acf37794ce0"
      },
      "source": [
        "test.head()"
      ],
      "execution_count": 31,
      "outputs": [
        {
          "output_type": "execute_result",
          "data": {
            "text/html": [
              "<div>\n",
              "<style scoped>\n",
              "    .dataframe tbody tr th:only-of-type {\n",
              "        vertical-align: middle;\n",
              "    }\n",
              "\n",
              "    .dataframe tbody tr th {\n",
              "        vertical-align: top;\n",
              "    }\n",
              "\n",
              "    .dataframe thead th {\n",
              "        text-align: right;\n",
              "    }\n",
              "</style>\n",
              "<table border=\"1\" class=\"dataframe\">\n",
              "  <thead>\n",
              "    <tr style=\"text-align: right;\">\n",
              "      <th></th>\n",
              "      <th>Day</th>\n",
              "      <th>Date</th>\n",
              "    </tr>\n",
              "  </thead>\n",
              "  <tbody>\n",
              "    <tr>\n",
              "      <th>0</th>\n",
              "      <td>693</td>\n",
              "      <td>2019-11-24</td>\n",
              "    </tr>\n",
              "    <tr>\n",
              "      <th>1</th>\n",
              "      <td>694</td>\n",
              "      <td>2019-11-25</td>\n",
              "    </tr>\n",
              "    <tr>\n",
              "      <th>2</th>\n",
              "      <td>695</td>\n",
              "      <td>2019-11-26</td>\n",
              "    </tr>\n",
              "    <tr>\n",
              "      <th>3</th>\n",
              "      <td>696</td>\n",
              "      <td>2019-11-27</td>\n",
              "    </tr>\n",
              "    <tr>\n",
              "      <th>4</th>\n",
              "      <td>697</td>\n",
              "      <td>2019-11-28</td>\n",
              "    </tr>\n",
              "  </tbody>\n",
              "</table>\n",
              "</div>"
            ],
            "text/plain": [
              "   Day       Date\n",
              "0  693 2019-11-24\n",
              "1  694 2019-11-25\n",
              "2  695 2019-11-26\n",
              "3  696 2019-11-27\n",
              "4  697 2019-11-28"
            ]
          },
          "metadata": {
            "tags": []
          },
          "execution_count": 31
        }
      ]
    },
    {
      "cell_type": "code",
      "metadata": {
        "id": "94KAINTmYNMV",
        "colab_type": "code",
        "colab": {}
      },
      "source": [
        "df_train = train[['Date','GrocerySales']].copy()"
      ],
      "execution_count": 0,
      "outputs": []
    },
    {
      "cell_type": "code",
      "metadata": {
        "id": "fQ8FodJPYdAg",
        "colab_type": "code",
        "colab": {
          "base_uri": "https://localhost:8080/",
          "height": 204
        },
        "outputId": "d65de0e2-a2d0-4f48-882d-91eed0f2dbbd"
      },
      "source": [
        "df_train.head()"
      ],
      "execution_count": 92,
      "outputs": [
        {
          "output_type": "execute_result",
          "data": {
            "text/html": [
              "<div>\n",
              "<style scoped>\n",
              "    .dataframe tbody tr th:only-of-type {\n",
              "        vertical-align: middle;\n",
              "    }\n",
              "\n",
              "    .dataframe tbody tr th {\n",
              "        vertical-align: top;\n",
              "    }\n",
              "\n",
              "    .dataframe thead th {\n",
              "        text-align: right;\n",
              "    }\n",
              "</style>\n",
              "<table border=\"1\" class=\"dataframe\">\n",
              "  <thead>\n",
              "    <tr style=\"text-align: right;\">\n",
              "      <th></th>\n",
              "      <th>Date</th>\n",
              "      <th>GrocerySales</th>\n",
              "    </tr>\n",
              "  </thead>\n",
              "  <tbody>\n",
              "    <tr>\n",
              "      <th>0</th>\n",
              "      <td>2018-01-01</td>\n",
              "      <td>8418.59</td>\n",
              "    </tr>\n",
              "    <tr>\n",
              "      <th>1</th>\n",
              "      <td>2018-01-02</td>\n",
              "      <td>8447.47</td>\n",
              "    </tr>\n",
              "    <tr>\n",
              "      <th>2</th>\n",
              "      <td>2018-01-03</td>\n",
              "      <td>8336.49</td>\n",
              "    </tr>\n",
              "    <tr>\n",
              "      <th>3</th>\n",
              "      <td>2018-01-04</td>\n",
              "      <td>8579.17</td>\n",
              "    </tr>\n",
              "    <tr>\n",
              "      <th>4</th>\n",
              "      <td>2018-01-05</td>\n",
              "      <td>8524.31</td>\n",
              "    </tr>\n",
              "  </tbody>\n",
              "</table>\n",
              "</div>"
            ],
            "text/plain": [
              "        Date  GrocerySales\n",
              "0 2018-01-01       8418.59\n",
              "1 2018-01-02       8447.47\n",
              "2 2018-01-03       8336.49\n",
              "3 2018-01-04       8579.17\n",
              "4 2018-01-05       8524.31"
            ]
          },
          "metadata": {
            "tags": []
          },
          "execution_count": 92
        }
      ]
    },
    {
      "cell_type": "code",
      "metadata": {
        "id": "acTSbELfYAMQ",
        "colab_type": "code",
        "colab": {}
      },
      "source": [
        "df = df_train.copy()"
      ],
      "execution_count": 0,
      "outputs": []
    },
    {
      "cell_type": "code",
      "metadata": {
        "id": "0jNfF0IuYIj9",
        "colab_type": "code",
        "colab": {
          "base_uri": "https://localhost:8080/",
          "height": 204
        },
        "outputId": "836d0f79-dc06-4f45-d478-a611097d6a12"
      },
      "source": [
        "df.head()"
      ],
      "execution_count": 94,
      "outputs": [
        {
          "output_type": "execute_result",
          "data": {
            "text/html": [
              "<div>\n",
              "<style scoped>\n",
              "    .dataframe tbody tr th:only-of-type {\n",
              "        vertical-align: middle;\n",
              "    }\n",
              "\n",
              "    .dataframe tbody tr th {\n",
              "        vertical-align: top;\n",
              "    }\n",
              "\n",
              "    .dataframe thead th {\n",
              "        text-align: right;\n",
              "    }\n",
              "</style>\n",
              "<table border=\"1\" class=\"dataframe\">\n",
              "  <thead>\n",
              "    <tr style=\"text-align: right;\">\n",
              "      <th></th>\n",
              "      <th>Date</th>\n",
              "      <th>GrocerySales</th>\n",
              "    </tr>\n",
              "  </thead>\n",
              "  <tbody>\n",
              "    <tr>\n",
              "      <th>0</th>\n",
              "      <td>2018-01-01</td>\n",
              "      <td>8418.59</td>\n",
              "    </tr>\n",
              "    <tr>\n",
              "      <th>1</th>\n",
              "      <td>2018-01-02</td>\n",
              "      <td>8447.47</td>\n",
              "    </tr>\n",
              "    <tr>\n",
              "      <th>2</th>\n",
              "      <td>2018-01-03</td>\n",
              "      <td>8336.49</td>\n",
              "    </tr>\n",
              "    <tr>\n",
              "      <th>3</th>\n",
              "      <td>2018-01-04</td>\n",
              "      <td>8579.17</td>\n",
              "    </tr>\n",
              "    <tr>\n",
              "      <th>4</th>\n",
              "      <td>2018-01-05</td>\n",
              "      <td>8524.31</td>\n",
              "    </tr>\n",
              "  </tbody>\n",
              "</table>\n",
              "</div>"
            ],
            "text/plain": [
              "        Date  GrocerySales\n",
              "0 2018-01-01       8418.59\n",
              "1 2018-01-02       8447.47\n",
              "2 2018-01-03       8336.49\n",
              "3 2018-01-04       8579.17\n",
              "4 2018-01-05       8524.31"
            ]
          },
          "metadata": {
            "tags": []
          },
          "execution_count": 94
        }
      ]
    },
    {
      "cell_type": "code",
      "metadata": {
        "id": "e7UWKf2YYmO3",
        "colab_type": "code",
        "colab": {}
      },
      "source": [
        "df.set_index('Date',inplace=True)"
      ],
      "execution_count": 0,
      "outputs": []
    },
    {
      "cell_type": "code",
      "metadata": {
        "id": "33w5LD5ALBky",
        "colab_type": "code",
        "colab": {
          "base_uri": "https://localhost:8080/",
          "height": 525
        },
        "outputId": "750186ce-11e7-4879-8be5-5277231dd436"
      },
      "source": [
        "#df = df.set_index('ds')\n",
        "df.plot(figsize=(11,8))"
      ],
      "execution_count": 96,
      "outputs": [
        {
          "output_type": "execute_result",
          "data": {
            "text/plain": [
              "<matplotlib.axes._subplots.AxesSubplot at 0x7fdb5019c940>"
            ]
          },
          "metadata": {
            "tags": []
          },
          "execution_count": 96
        },
        {
          "output_type": "display_data",
          "data": {
            "image/png": "[encoded data removed]",
            "text/plain": [
              "<Figure size 792x576 with 1 Axes>"
            ]
          },
          "metadata": {
            "tags": [],
            "needs_background": "light"
          }
        }
      ]
    },
    {
      "cell_type": "code",
      "metadata": {
        "id": "zqmdFdejNASP",
        "colab_type": "code",
        "colab": {
          "base_uri": "https://localhost:8080/",
          "height": 34
        },
        "outputId": "23126f56-e5e3-477e-a728-ef396fc4d6a3"
      },
      "source": [
        "df_train = df[0:600]\n",
        "df_test = df[601:]\n",
        "df_train.size,df_test.size"
      ],
      "execution_count": 97,
      "outputs": [
        {
          "output_type": "execute_result",
          "data": {
            "text/plain": [
              "(600, 91)"
            ]
          },
          "metadata": {
            "tags": []
          },
          "execution_count": 97
        }
      ]
    },
    {
      "cell_type": "code",
      "metadata": {
        "id": "sNy2XC8CQVUa",
        "colab_type": "code",
        "colab": {
          "base_uri": "https://localhost:8080/",
          "height": 235
        },
        "outputId": "0fb0f35c-4bcf-4363-ebde-ddbdfb6230ec"
      },
      "source": [
        "df_train.head()"
      ],
      "execution_count": 98,
      "outputs": [
        {
          "output_type": "execute_result",
          "data": {
            "text/html": [
              "<div>\n",
              "<style scoped>\n",
              "    .dataframe tbody tr th:only-of-type {\n",
              "        vertical-align: middle;\n",
              "    }\n",
              "\n",
              "    .dataframe tbody tr th {\n",
              "        vertical-align: top;\n",
              "    }\n",
              "\n",
              "    .dataframe thead th {\n",
              "        text-align: right;\n",
              "    }\n",
              "</style>\n",
              "<table border=\"1\" class=\"dataframe\">\n",
              "  <thead>\n",
              "    <tr style=\"text-align: right;\">\n",
              "      <th></th>\n",
              "      <th>GrocerySales</th>\n",
              "    </tr>\n",
              "    <tr>\n",
              "      <th>Date</th>\n",
              "      <th></th>\n",
              "    </tr>\n",
              "  </thead>\n",
              "  <tbody>\n",
              "    <tr>\n",
              "      <th>2018-01-01</th>\n",
              "      <td>8418.59</td>\n",
              "    </tr>\n",
              "    <tr>\n",
              "      <th>2018-01-02</th>\n",
              "      <td>8447.47</td>\n",
              "    </tr>\n",
              "    <tr>\n",
              "      <th>2018-01-03</th>\n",
              "      <td>8336.49</td>\n",
              "    </tr>\n",
              "    <tr>\n",
              "      <th>2018-01-04</th>\n",
              "      <td>8579.17</td>\n",
              "    </tr>\n",
              "    <tr>\n",
              "      <th>2018-01-05</th>\n",
              "      <td>8524.31</td>\n",
              "    </tr>\n",
              "  </tbody>\n",
              "</table>\n",
              "</div>"
            ],
            "text/plain": [
              "            GrocerySales\n",
              "Date                    \n",
              "2018-01-01       8418.59\n",
              "2018-01-02       8447.47\n",
              "2018-01-03       8336.49\n",
              "2018-01-04       8579.17\n",
              "2018-01-05       8524.31"
            ]
          },
          "metadata": {
            "tags": []
          },
          "execution_count": 98
        }
      ]
    },
    {
      "cell_type": "code",
      "metadata": {
        "id": "EdQTcXnvPI0L",
        "colab_type": "code",
        "colab": {
          "base_uri": "https://localhost:8080/",
          "height": 479
        },
        "outputId": "0fc88916-6f88-422c-a697-3e21d575c478"
      },
      "source": [
        "!pip install pyramid"
      ],
      "execution_count": 164,
      "outputs": [
        {
          "output_type": "stream",
          "text": [
            "Collecting pyramid\n",
            "\u001b[?25l  Downloading https://files.pythonhosted.org/packages/4e/4f/6fe39af43fadc6d6c12f4cff9ed438f4fed20245614170959b38fe9f762d/pyramid-1.10.4-py2.py3-none-any.whl (325kB)\n",
            "\u001b[K     |████████████████████████████████| 327kB 2.9MB/s \n",
            "\u001b[?25hCollecting zope.deprecation>=3.5.0\n",
            "  Downloading https://files.pythonhosted.org/packages/f9/26/b935bbf9d27e898b87d80e7873a0200cebf239253d0afe7a59f82fe90fff/zope.deprecation-4.4.0-py2.py3-none-any.whl\n",
            "Collecting zope.interface>=3.8.0\n",
            "\u001b[?25l  Downloading https://files.pythonhosted.org/packages/57/33/565274c28a11af60b7cfc0519d46bde4125fcd7d32ebc0a81b480d0e8da6/zope.interface-5.1.0-cp36-cp36m-manylinux2010_x86_64.whl (234kB)\n",
            "\u001b[K     |████████████████████████████████| 235kB 8.6MB/s \n",
            "\u001b[?25hCollecting plaster\n",
            "  Downloading https://files.pythonhosted.org/packages/61/29/3ac8a5d03b2d9e6b876385066676472ba4acf93677acfc7360b035503d49/plaster-1.0-py2.py3-none-any.whl\n",
            "Requirement already satisfied: setuptools in /usr/local/lib/python3.6/dist-packages (from pyramid) (46.1.3)\n",
            "Collecting translationstring>=0.4\n",
            "  Downloading https://files.pythonhosted.org/packages/26/e7/9dcf5bcd32b3ad16db542845ad129c06927821ded434ae88f458e6190626/translationstring-1.3-py2.py3-none-any.whl\n",
            "Collecting venusian>=1.0\n",
            "  Downloading https://files.pythonhosted.org/packages/43/92/3d522a710867168ee422a0ffbd712c425ece937aaeec4381497a59e24faf/venusian-3.0.0-py3-none-any.whl\n",
            "Collecting webob>=1.8.3\n",
            "\u001b[?25l  Downloading https://files.pythonhosted.org/packages/18/3c/de37900faff3c95c7d55dd557aa71bd77477950048983dcd4b53f96fde40/WebOb-1.8.6-py2.py3-none-any.whl (114kB)\n",
            "\u001b[K     |████████████████████████████████| 122kB 10.6MB/s \n",
            "\u001b[?25hCollecting plaster-pastedeploy\n",
            "  Downloading https://files.pythonhosted.org/packages/11/c4/0470056ea324c7a420c22647be512dec1b5e32b1b6e77e27c61838d2811c/plaster_pastedeploy-0.7-py2.py3-none-any.whl\n",
            "Collecting hupper>=1.5\n",
            "  Downloading https://files.pythonhosted.org/packages/48/7f/06ace28143b2cb3a4b14c9d9e5165741d2d133ef331b616acf47ab5c3517/hupper-1.10.2-py2.py3-none-any.whl\n",
            "Collecting PasteDeploy>=2.0\n",
            "  Downloading https://files.pythonhosted.org/packages/fb/18/196e5070ced83bb81edd83c79545232d1d2ec55e3a099a146a3333244a6b/PasteDeploy-2.1.0-py2.py3-none-any.whl\n",
            "Installing collected packages: zope.deprecation, zope.interface, plaster, translationstring, venusian, webob, PasteDeploy, plaster-pastedeploy, hupper, pyramid\n",
            "Successfully installed PasteDeploy-2.1.0 hupper-1.10.2 plaster-1.0 plaster-pastedeploy-0.7 pyramid-1.10.4 translationstring-1.3 venusian-3.0.0 webob-1.8.6 zope.deprecation-4.4.0 zope.interface-5.1.0\n"
          ],
          "name": "stdout"
        }
      ]
    },
    {
      "cell_type": "code",
      "metadata": {
        "id": "5Y4QYyxJPdgm",
        "colab_type": "code",
        "colab": {
          "base_uri": "https://localhost:8080/",
          "height": 326
        },
        "outputId": "0cb1e225-338d-410e-9686-ca7010268af6"
      },
      "source": [
        "!pip install pmdarima"
      ],
      "execution_count": 167,
      "outputs": [
        {
          "output_type": "stream",
          "text": [
            "Collecting pmdarima\n",
            "\u001b[?25l  Downloading https://files.pythonhosted.org/packages/ff/07/7c173cc4fee44ebd62ddf03b3de84c4f151ec23facdf16baf58b8d02784c/pmdarima-1.6.0-cp36-cp36m-manylinux1_x86_64.whl (1.5MB)\n",
            "\u001b[K     |████████████████████████████████| 1.5MB 2.8MB/s \n",
            "\u001b[?25hRequirement already satisfied: statsmodels>=0.10.2 in /usr/local/lib/python3.6/dist-packages (from pmdarima) (0.10.2)\n",
            "Requirement already satisfied: scipy>=1.3.2 in /usr/local/lib/python3.6/dist-packages (from pmdarima) (1.4.1)\n",
            "Requirement already satisfied: joblib>=0.11 in /usr/local/lib/python3.6/dist-packages (from pmdarima) (0.14.1)\n",
            "Requirement already satisfied: pandas>=0.19 in /usr/local/lib/python3.6/dist-packages (from pmdarima) (1.0.3)\n",
            "Requirement already satisfied: Cython>=0.29 in /usr/local/lib/python3.6/dist-packages (from pmdarima) (0.29.17)\n",
            "Requirement already satisfied: urllib3 in /usr/local/lib/python3.6/dist-packages (from pmdarima) (1.24.3)\n",
            "Requirement already satisfied: scikit-learn>=0.22 in /usr/local/lib/python3.6/dist-packages (from pmdarima) (0.22.2.post1)\n",
            "Requirement already satisfied: numpy>=1.17.3 in /usr/local/lib/python3.6/dist-packages (from pmdarima) (1.18.3)\n",
            "Requirement already satisfied: patsy>=0.4.0 in /usr/local/lib/python3.6/dist-packages (from statsmodels>=0.10.2->pmdarima) (0.5.1)\n",
            "Requirement already satisfied: pytz>=2017.2 in /usr/local/lib/python3.6/dist-packages (from pandas>=0.19->pmdarima) (2018.9)\n",
            "Requirement already satisfied: python-dateutil>=2.6.1 in /usr/local/lib/python3.6/dist-packages (from pandas>=0.19->pmdarima) (2.8.1)\n",
            "Requirement already satisfied: six in /usr/local/lib/python3.6/dist-packages (from patsy>=0.4.0->statsmodels>=0.10.2->pmdarima) (1.12.0)\n",
            "Installing collected packages: pmdarima\n",
            "Successfully installed pmdarima-1.6.0\n"
          ],
          "name": "stdout"
        }
      ]
    },
    {
      "cell_type": "code",
      "metadata": {
        "id": "9QdJsRRVPktU",
        "colab_type": "code",
        "colab": {
          "base_uri": "https://localhost:8080/",
          "height": 394
        },
        "outputId": "67d3c0d3-9776-44f4-cd8c-3b5c70ed50dd"
      },
      "source": [
        "pip install pyramid-arima"
      ],
      "execution_count": 169,
      "outputs": [
        {
          "output_type": "stream",
          "text": [
            "Collecting pyramid-arima\n",
            "\u001b[?25l  Downloading https://files.pythonhosted.org/packages/5c/84/57422f2a6ade3161c586545e38b518ba1b7ab30ee4a4acc29110c0aba2bc/pyramid_arima-0.9.0-cp36-cp36m-manylinux1_x86_64.whl (597kB)\n",
            "\u001b[K     |████████████████████████████████| 604kB 2.7MB/s \n",
            "\u001b[?25hRequirement already satisfied: scipy>=0.9 in /usr/local/lib/python3.6/dist-packages (from pyramid-arima) (1.4.1)\n",
            "Requirement already satisfied: Cython>=0.23 in /usr/local/lib/python3.6/dist-packages (from pyramid-arima) (0.29.17)\n",
            "Requirement already satisfied: pandas>=0.19 in /usr/local/lib/python3.6/dist-packages (from pyramid-arima) (1.0.3)\n",
            "Requirement already satisfied: scikit-learn>=0.17 in /usr/local/lib/python3.6/dist-packages (from pyramid-arima) (0.22.2.post1)\n",
            "Requirement already satisfied: statsmodels>=0.9.0 in /usr/local/lib/python3.6/dist-packages (from pyramid-arima) (0.10.2)\n",
            "Requirement already satisfied: numpy>=1.10 in /usr/local/lib/python3.6/dist-packages (from pyramid-arima) (1.18.3)\n",
            "Requirement already satisfied: pytz>=2017.2 in /usr/local/lib/python3.6/dist-packages (from pandas>=0.19->pyramid-arima) (2018.9)\n",
            "Requirement already satisfied: python-dateutil>=2.6.1 in /usr/local/lib/python3.6/dist-packages (from pandas>=0.19->pyramid-arima) (2.8.1)\n",
            "Requirement already satisfied: joblib>=0.11 in /usr/local/lib/python3.6/dist-packages (from scikit-learn>=0.17->pyramid-arima) (0.14.1)\n",
            "Requirement already satisfied: patsy>=0.4.0 in /usr/local/lib/python3.6/dist-packages (from statsmodels>=0.9.0->pyramid-arima) (0.5.1)\n",
            "Requirement already satisfied: six>=1.5 in /usr/local/lib/python3.6/dist-packages (from python-dateutil>=2.6.1->pandas>=0.19->pyramid-arima) (1.12.0)\n",
            "Installing collected packages: pyramid-arima\n",
            "Successfully installed pyramid-arima-0.9.0\n"
          ],
          "name": "stdout"
        },
        {
          "output_type": "display_data",
          "data": {
            "application/vnd.colab-display-data+json": {
              "pip_warning": {
                "packages": [
                  "pyramid"
                ]
              }
            }
          },
          "metadata": {
            "tags": []
          }
        }
      ]
    },
    {
      "cell_type": "code",
      "metadata": {
        "id": "1JFkj-PJPChq",
        "colab_type": "code",
        "colab": {
          "base_uri": "https://localhost:8080/",
          "height": 289
        },
        "outputId": "3cce25a7-311b-4117-da92-8d899531a2ea"
      },
      "source": [
        "from pmdarima import auto_arima\n",
        "model = auto_arima(df_train, trace=True, error_action='ignore', suppress_warnings=True)\n",
        "model.fit(df_train)"
      ],
      "execution_count": 99,
      "outputs": [
        {
          "output_type": "stream",
          "text": [
            "Performing stepwise search to minimize aic\n",
            "Fit ARIMA(2,1,2)x(0,0,0,0) [intercept=True]; AIC=8130.152, BIC=8156.524, Time=0.279 seconds\n",
            "Fit ARIMA(0,1,0)x(0,0,0,0) [intercept=True]; AIC=8200.988, BIC=8209.779, Time=0.036 seconds\n",
            "Fit ARIMA(1,1,0)x(0,0,0,0) [intercept=True]; AIC=8146.220, BIC=8159.406, Time=0.057 seconds\n",
            "Fit ARIMA(0,1,1)x(0,0,0,0) [intercept=True]; AIC=8127.666, BIC=8140.851, Time=0.094 seconds\n",
            "Fit ARIMA(0,1,0)x(0,0,0,0) [intercept=False]; AIC=8199.002, BIC=8203.397, Time=0.018 seconds\n",
            "Fit ARIMA(1,1,1)x(0,0,0,0) [intercept=True]; AIC=8126.146, BIC=8143.727, Time=0.308 seconds\n",
            "Fit ARIMA(2,1,1)x(0,0,0,0) [intercept=True]; AIC=8127.510, BIC=8149.486, Time=0.426 seconds\n",
            "Fit ARIMA(1,1,2)x(0,0,0,0) [intercept=True]; AIC=8126.712, BIC=8148.688, Time=0.713 seconds\n",
            "Fit ARIMA(0,1,2)x(0,0,0,0) [intercept=True]; AIC=8126.541, BIC=8144.122, Time=0.100 seconds\n",
            "Fit ARIMA(2,1,0)x(0,0,0,0) [intercept=True]; AIC=8130.626, BIC=8148.207, Time=0.099 seconds\n",
            "Total fit time: 2.147 seconds\n"
          ],
          "name": "stdout"
        },
        {
          "output_type": "execute_result",
          "data": {
            "text/plain": [
              "ARIMA(maxiter=50, method='lbfgs', order=(1, 1, 1), out_of_sample_size=0,\n",
              "      scoring='mse', scoring_args=None, seasonal_order=(0, 0, 0, 0),\n",
              "      start_params=None, suppress_warnings=True, trend=None,\n",
              "      with_intercept=True)"
            ]
          },
          "metadata": {
            "tags": []
          },
          "execution_count": 99
        }
      ]
    },
    {
      "cell_type": "code",
      "metadata": {
        "id": "amWmjKv8N60K",
        "colab_type": "code",
        "colab": {}
      },
      "source": [
        "forecast = model.predict(n_periods=len(df_test))\n",
        "forecast = pd.DataFrame(forecast,index = df_test.index,columns=['Prediction'])"
      ],
      "execution_count": 0,
      "outputs": []
    },
    {
      "cell_type": "code",
      "metadata": {
        "id": "BT-jhQF8Zc1d",
        "colab_type": "code",
        "colab": {
          "base_uri": "https://localhost:8080/",
          "height": 483
        },
        "outputId": "fd15930f-d9fc-4fbf-d97f-3a539a61035a"
      },
      "source": [
        "#plot the predictions for validation set\n",
        "plt.figure(figsize=(11,8))\n",
        "plt.plot(df_train, label='Train')\n",
        "plt.plot(df_test, label='Valid')\n",
        "plt.plot(forecast, label='Prediction')\n",
        "\n",
        "plt.legend()\n",
        "plt.show()"
      ],
      "execution_count": 101,
      "outputs": [
        {
          "output_type": "display_data",
          "data": {
            "image/png": "[encoded data removed]",
            "text/plain": [
              "<Figure size 792x576 with 1 Axes>"
            ]
          },
          "metadata": {
            "tags": [],
            "needs_background": "light"
          }
        }
      ]
    },
    {
      "cell_type": "code",
      "metadata": {
        "id": "cd7j1FdpZnEb",
        "colab_type": "code",
        "colab": {
          "base_uri": "https://localhost:8080/",
          "height": 34
        },
        "outputId": "48b67a81-69f6-43f4-b4ef-0e7c6017201a"
      },
      "source": [
        "from sklearn.metrics import mean_squared_error\n",
        "rmse = np.sqrt(mean_squared_error(df_test,forecast))\n",
        "print(rmse)"
      ],
      "execution_count": 102,
      "outputs": [
        {
          "output_type": "stream",
          "text": [
            "232.1813018723135\n"
          ],
          "name": "stdout"
        }
      ]
    },
    {
      "cell_type": "code",
      "metadata": {
        "id": "cmoJU5wCblxK",
        "colab_type": "code",
        "colab": {
          "base_uri": "https://localhost:8080/",
          "height": 450
        },
        "outputId": "0f314bca-7b1e-4ab1-f3d7-5b5938095298"
      },
      "source": [
        "forecast = forecast.rename(columns={'Prediction'})"
      ],
      "execution_count": 103,
      "outputs": [
        {
          "output_type": "execute_result",
          "data": {
            "text/html": [
              "<div>\n",
              "<style scoped>\n",
              "    .dataframe tbody tr th:only-of-type {\n",
              "        vertical-align: middle;\n",
              "    }\n",
              "\n",
              "    .dataframe tbody tr th {\n",
              "        vertical-align: top;\n",
              "    }\n",
              "\n",
              "    .dataframe thead th {\n",
              "        text-align: right;\n",
              "    }\n",
              "</style>\n",
              "<table border=\"1\" class=\"dataframe\">\n",
              "  <thead>\n",
              "    <tr style=\"text-align: right;\">\n",
              "      <th></th>\n",
              "      <th>Prediction</th>\n",
              "    </tr>\n",
              "    <tr>\n",
              "      <th>Date</th>\n",
              "      <th></th>\n",
              "    </tr>\n",
              "  </thead>\n",
              "  <tbody>\n",
              "    <tr>\n",
              "      <th>2019-08-25</th>\n",
              "      <td>9024.162408</td>\n",
              "    </tr>\n",
              "    <tr>\n",
              "      <th>2019-08-26</th>\n",
              "      <td>9021.200185</td>\n",
              "    </tr>\n",
              "    <tr>\n",
              "      <th>2019-08-27</th>\n",
              "      <td>9021.295859</td>\n",
              "    </tr>\n",
              "    <tr>\n",
              "      <th>2019-08-28</th>\n",
              "      <td>9022.069350</td>\n",
              "    </tr>\n",
              "    <tr>\n",
              "      <th>2019-08-29</th>\n",
              "      <td>9022.993087</td>\n",
              "    </tr>\n",
              "    <tr>\n",
              "      <th>...</th>\n",
              "      <td>...</td>\n",
              "    </tr>\n",
              "    <tr>\n",
              "      <th>2019-11-19</th>\n",
              "      <td>9102.235938</td>\n",
              "    </tr>\n",
              "    <tr>\n",
              "      <th>2019-11-20</th>\n",
              "      <td>9103.202463</td>\n",
              "    </tr>\n",
              "    <tr>\n",
              "      <th>2019-11-21</th>\n",
              "      <td>9104.168988</td>\n",
              "    </tr>\n",
              "    <tr>\n",
              "      <th>2019-11-22</th>\n",
              "      <td>9105.135513</td>\n",
              "    </tr>\n",
              "    <tr>\n",
              "      <th>2019-11-23</th>\n",
              "      <td>9106.102038</td>\n",
              "    </tr>\n",
              "  </tbody>\n",
              "</table>\n",
              "<p>91 rows × 1 columns</p>\n",
              "</div>"
            ],
            "text/plain": [
              "             Prediction\n",
              "Date                   \n",
              "2019-08-25  9024.162408\n",
              "2019-08-26  9021.200185\n",
              "2019-08-27  9021.295859\n",
              "2019-08-28  9022.069350\n",
              "2019-08-29  9022.993087\n",
              "...                 ...\n",
              "2019-11-19  9102.235938\n",
              "2019-11-20  9103.202463\n",
              "2019-11-21  9104.168988\n",
              "2019-11-22  9105.135513\n",
              "2019-11-23  9106.102038\n",
              "\n",
              "[91 rows x 1 columns]"
            ]
          },
          "metadata": {
            "tags": []
          },
          "execution_count": 103
        }
      ]
    },
    {
      "cell_type": "code",
      "metadata": {
        "id": "p6Yj9IDAcNS1",
        "colab_type": "code",
        "colab": {
          "base_uri": "https://localhost:8080/",
          "height": 34
        },
        "outputId": "605203a7-4181-4f38-82d2-e0c99521b31c"
      },
      "source": [
        "test.shape"
      ],
      "execution_count": 104,
      "outputs": [
        {
          "output_type": "execute_result",
          "data": {
            "text/plain": [
              "(90, 2)"
            ]
          },
          "metadata": {
            "tags": []
          },
          "execution_count": 104
        }
      ]
    },
    {
      "cell_type": "code",
      "metadata": {
        "id": "k4xjxCm5cPGf",
        "colab_type": "code",
        "colab": {}
      },
      "source": [
        "test.drop('Day',axis=1,inplace=True)"
      ],
      "execution_count": 0,
      "outputs": []
    },
    {
      "cell_type": "code",
      "metadata": {
        "id": "aCXySTC6cSya",
        "colab_type": "code",
        "colab": {}
      },
      "source": [
        "test.set_index('Date',inplace=True)"
      ],
      "execution_count": 0,
      "outputs": []
    },
    {
      "cell_type": "code",
      "metadata": {
        "id": "KjM4eVFnclDt",
        "colab_type": "code",
        "colab": {}
      },
      "source": [
        "forecast = model.predict(n_periods=len(test))\n",
        "forecast = pd.DataFrame(forecast,index = test.index,columns=['GrocerySales'])"
      ],
      "execution_count": 0,
      "outputs": []
    },
    {
      "cell_type": "code",
      "metadata": {
        "id": "vpC4R0-Vc6HM",
        "colab_type": "code",
        "colab": {
          "base_uri": "https://localhost:8080/",
          "height": 450
        },
        "outputId": "adf58927-21a6-42a0-d3a4-5df200a0ec70"
      },
      "source": [
        "forecast"
      ],
      "execution_count": 109,
      "outputs": [
        {
          "output_type": "execute_result",
          "data": {
            "text/html": [
              "<div>\n",
              "<style scoped>\n",
              "    .dataframe tbody tr th:only-of-type {\n",
              "        vertical-align: middle;\n",
              "    }\n",
              "\n",
              "    .dataframe tbody tr th {\n",
              "        vertical-align: top;\n",
              "    }\n",
              "\n",
              "    .dataframe thead th {\n",
              "        text-align: right;\n",
              "    }\n",
              "</style>\n",
              "<table border=\"1\" class=\"dataframe\">\n",
              "  <thead>\n",
              "    <tr style=\"text-align: right;\">\n",
              "      <th></th>\n",
              "      <th>GrocerySales</th>\n",
              "    </tr>\n",
              "    <tr>\n",
              "      <th>Date</th>\n",
              "      <th></th>\n",
              "    </tr>\n",
              "  </thead>\n",
              "  <tbody>\n",
              "    <tr>\n",
              "      <th>2019-11-24</th>\n",
              "      <td>9024.162408</td>\n",
              "    </tr>\n",
              "    <tr>\n",
              "      <th>2019-11-25</th>\n",
              "      <td>9021.200185</td>\n",
              "    </tr>\n",
              "    <tr>\n",
              "      <th>2019-11-26</th>\n",
              "      <td>9021.295859</td>\n",
              "    </tr>\n",
              "    <tr>\n",
              "      <th>2019-11-27</th>\n",
              "      <td>9022.069350</td>\n",
              "    </tr>\n",
              "    <tr>\n",
              "      <th>2019-11-28</th>\n",
              "      <td>9022.993087</td>\n",
              "    </tr>\n",
              "    <tr>\n",
              "      <th>...</th>\n",
              "      <td>...</td>\n",
              "    </tr>\n",
              "    <tr>\n",
              "      <th>2020-02-17</th>\n",
              "      <td>9101.269413</td>\n",
              "    </tr>\n",
              "    <tr>\n",
              "      <th>2020-02-18</th>\n",
              "      <td>9102.235938</td>\n",
              "    </tr>\n",
              "    <tr>\n",
              "      <th>2020-02-19</th>\n",
              "      <td>9103.202463</td>\n",
              "    </tr>\n",
              "    <tr>\n",
              "      <th>2020-02-20</th>\n",
              "      <td>9104.168988</td>\n",
              "    </tr>\n",
              "    <tr>\n",
              "      <th>2020-02-21</th>\n",
              "      <td>9105.135513</td>\n",
              "    </tr>\n",
              "  </tbody>\n",
              "</table>\n",
              "<p>90 rows × 1 columns</p>\n",
              "</div>"
            ],
            "text/plain": [
              "            GrocerySales\n",
              "Date                    \n",
              "2019-11-24   9024.162408\n",
              "2019-11-25   9021.200185\n",
              "2019-11-26   9021.295859\n",
              "2019-11-27   9022.069350\n",
              "2019-11-28   9022.993087\n",
              "...                  ...\n",
              "2020-02-17   9101.269413\n",
              "2020-02-18   9102.235938\n",
              "2020-02-19   9103.202463\n",
              "2020-02-20   9104.168988\n",
              "2020-02-21   9105.135513\n",
              "\n",
              "[90 rows x 1 columns]"
            ]
          },
          "metadata": {
            "tags": []
          },
          "execution_count": 109
        }
      ]
    },
    {
      "cell_type": "code",
      "metadata": {
        "id": "pqHzG7A4c7Qq",
        "colab_type": "code",
        "colab": {}
      },
      "source": [
        "forecast.to_excel('autoarima.xlsx',index=False)"
      ],
      "execution_count": 0,
      "outputs": []
    },
    {
      "cell_type": "code",
      "metadata": {
        "id": "nRt6ggPadT8F",
        "colab_type": "code",
        "colab": {
          "base_uri": "https://localhost:8080/",
          "height": 34
        },
        "outputId": "f0bea97e-7d63-435b-8c3e-a2e9f71f2431"
      },
      "source": [
        "forecast.shape"
      ],
      "execution_count": 111,
      "outputs": [
        {
          "output_type": "execute_result",
          "data": {
            "text/plain": [
              "(90, 1)"
            ]
          },
          "metadata": {
            "tags": []
          },
          "execution_count": 111
        }
      ]
    },
    {
      "cell_type": "code",
      "metadata": {
        "id": "7hOBy3gzdWCH",
        "colab_type": "code",
        "colab": {}
      },
      "source": [
        ""
      ],
      "execution_count": 0,
      "outputs": []
    }
  ]
}