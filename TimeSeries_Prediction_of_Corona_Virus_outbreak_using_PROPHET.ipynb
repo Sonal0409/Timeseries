{
  "nbformat": 4,
  "nbformat_minor": 0,
  "metadata": {
    "colab": {
      "name": "TimeSeries_Prediction_of_Corona_Virus_outbreak_using_PROPHET.ipynb",
      "provenance": [],
      "collapsed_sections": [],
      "authorship_tag": "ABX9TyOhgYP9qug8JvkFz3Qhi4md",
      "include_colab_link": true
    },
    "kernelspec": {
      "name": "python3",
      "display_name": "Python 3"
    }
  },
  "cells": [
    {
      "cell_type": "markdown",
      "metadata": {
        "id": "view-in-github",
        "colab_type": "text"
      },
      "source": [
        "<a href=\"https://colab.research.google.com/github/plaban1981/Timeseries/blob/master/TimeSeries_Prediction_of_Corona_Virus_outbreak_using_PROPHET.ipynb\" target=\"_parent\"><img src=\"https://colab.research.google.com/assets/colab-badge.svg\" alt=\"Open In Colab\"/></a>"
      ]
    },
    {
      "cell_type": "markdown",
      "metadata": {
        "id": "VTNlGjalbdOz",
        "colab_type": "text"
      },
      "source": [
        "# Predicting Coronavirus Outbreak and Recovering Rate with FB Prophet\n",
        "\n",
        "* Lots of influencing factors hence prediction can be wrong\n",
        "* Less Data\n",
        "* Presence of Effective Treatment and Vaccine can influence prediction\n",
        "\n",
        "#### Installation\n",
        "pip install fbprophet\n",
        "\n",
        "#### Data Source\n",
        "https://github.com/CSSEGISandData/COVID-19\n",
        "\n",
        "https://raw.githubusercontent.com/Jcharis/DataScienceTools/master/Data_analysis_of_Coronavirus_Outbreak_with_Python/coronavirus_data_clean.csv\n",
        "\n",
        "https://github.com/Jcharis/DataScienceTools/blob/master/Data_analysis_of_Coronavirus_Outbreak_with_Python/Time_Series_Prediction_of_Coronavirus_Outbreak_with_Facebook_Prophet.ipynb\n"
      ]
    },
    {
      "cell_type": "code",
      "metadata": {
        "id": "IMcSemhzbyCK",
        "colab_type": "code",
        "colab": {}
      },
      "source": [
        "\n",
        "confirmed_cases_url = 'https://raw.githubusercontent.com/CSSEGISandData/COVID-19/master/csse_covid_19_data/csse_covid_19_time_series/time_series_covid19_confirmed_global.csv'\n",
        "recovered_cases_url ='https://raw.githubusercontent.com/CSSEGISandData/COVID-19/master/csse_covid_19_data/csse_covid_19_time_series/time_series_covid19_recovered_global.csv'\n",
        "death_cases_url ='https://raw.githubusercontent.com/CSSEGISandData/COVID-19/master/csse_covid_19_data/csse_covid_19_time_series/time_series_covid19_deaths_global.csv'"
      ],
      "execution_count": 0,
      "outputs": []
    },
    {
      "cell_type": "code",
      "metadata": {
        "id": "PRzOcLLucETn",
        "colab_type": "code",
        "colab": {
          "base_uri": "https://localhost:8080/",
          "height": 71
        },
        "outputId": "23b97b2c-8cf5-4425-956c-5fb1b53fce6e"
      },
      "source": [
        "import pandas as pd\n",
        "import numpy as np\n",
        "import seaborn as sns\n",
        "import matplotlib.pyplot as plt\n",
        "%matplotlib inline"
      ],
      "execution_count": 7,
      "outputs": [
        {
          "output_type": "stream",
          "text": [
            "/usr/local/lib/python3.6/dist-packages/statsmodels/tools/_testing.py:19: FutureWarning: pandas.util.testing is deprecated. Use the functions in the public API at pandas.testing instead.\n",
            "  import pandas.util.testing as tm\n"
          ],
          "name": "stderr"
        }
      ]
    },
    {
      "cell_type": "code",
      "metadata": {
        "id": "7xv8LhzgfF8y",
        "colab_type": "code",
        "colab": {
          "base_uri": "https://localhost:8080/",
          "height": 129
        },
        "outputId": "ae02f582-6267-4c13-a38c-6b7d9f2eb7b4"
      },
      "source": [
        "df = pd.read_csv(confirmed_cases_url)\n",
        "df[df['Country/Region'] == 'India']"
      ],
      "execution_count": 9,
      "outputs": [
        {
          "output_type": "execute_result",
          "data": {
            "text/html": [
              "<div>\n",
              "<style scoped>\n",
              "    .dataframe tbody tr th:only-of-type {\n",
              "        vertical-align: middle;\n",
              "    }\n",
              "\n",
              "    .dataframe tbody tr th {\n",
              "        vertical-align: top;\n",
              "    }\n",
              "\n",
              "    .dataframe thead th {\n",
              "        text-align: right;\n",
              "    }\n",
              "</style>\n",
              "<table border=\"1\" class=\"dataframe\">\n",
              "  <thead>\n",
              "    <tr style=\"text-align: right;\">\n",
              "      <th></th>\n",
              "      <th>Province/State</th>\n",
              "      <th>Country/Region</th>\n",
              "      <th>Lat</th>\n",
              "      <th>Long</th>\n",
              "      <th>1/22/20</th>\n",
              "      <th>1/23/20</th>\n",
              "      <th>1/24/20</th>\n",
              "      <th>1/25/20</th>\n",
              "      <th>1/26/20</th>\n",
              "      <th>1/27/20</th>\n",
              "      <th>1/28/20</th>\n",
              "      <th>1/29/20</th>\n",
              "      <th>1/30/20</th>\n",
              "      <th>1/31/20</th>\n",
              "      <th>2/1/20</th>\n",
              "      <th>2/2/20</th>\n",
              "      <th>2/3/20</th>\n",
              "      <th>2/4/20</th>\n",
              "      <th>2/5/20</th>\n",
              "      <th>2/6/20</th>\n",
              "      <th>2/7/20</th>\n",
              "      <th>2/8/20</th>\n",
              "      <th>2/9/20</th>\n",
              "      <th>2/10/20</th>\n",
              "      <th>2/11/20</th>\n",
              "      <th>2/12/20</th>\n",
              "      <th>2/13/20</th>\n",
              "      <th>2/14/20</th>\n",
              "      <th>2/15/20</th>\n",
              "      <th>2/16/20</th>\n",
              "      <th>2/17/20</th>\n",
              "      <th>2/18/20</th>\n",
              "      <th>2/19/20</th>\n",
              "      <th>2/20/20</th>\n",
              "      <th>2/21/20</th>\n",
              "      <th>2/22/20</th>\n",
              "      <th>2/23/20</th>\n",
              "      <th>2/24/20</th>\n",
              "      <th>2/25/20</th>\n",
              "      <th>2/26/20</th>\n",
              "      <th>...</th>\n",
              "      <th>3/29/20</th>\n",
              "      <th>3/30/20</th>\n",
              "      <th>3/31/20</th>\n",
              "      <th>4/1/20</th>\n",
              "      <th>4/2/20</th>\n",
              "      <th>4/3/20</th>\n",
              "      <th>4/4/20</th>\n",
              "      <th>4/5/20</th>\n",
              "      <th>4/6/20</th>\n",
              "      <th>4/7/20</th>\n",
              "      <th>4/8/20</th>\n",
              "      <th>4/9/20</th>\n",
              "      <th>4/10/20</th>\n",
              "      <th>4/11/20</th>\n",
              "      <th>4/12/20</th>\n",
              "      <th>4/13/20</th>\n",
              "      <th>4/14/20</th>\n",
              "      <th>4/15/20</th>\n",
              "      <th>4/16/20</th>\n",
              "      <th>4/17/20</th>\n",
              "      <th>4/18/20</th>\n",
              "      <th>4/19/20</th>\n",
              "      <th>4/20/20</th>\n",
              "      <th>4/21/20</th>\n",
              "      <th>4/22/20</th>\n",
              "      <th>4/23/20</th>\n",
              "      <th>4/24/20</th>\n",
              "      <th>4/25/20</th>\n",
              "      <th>4/26/20</th>\n",
              "      <th>4/27/20</th>\n",
              "      <th>4/28/20</th>\n",
              "      <th>4/29/20</th>\n",
              "      <th>4/30/20</th>\n",
              "      <th>5/1/20</th>\n",
              "      <th>5/2/20</th>\n",
              "      <th>5/3/20</th>\n",
              "      <th>5/4/20</th>\n",
              "      <th>5/5/20</th>\n",
              "      <th>5/6/20</th>\n",
              "      <th>5/7/20</th>\n",
              "    </tr>\n",
              "  </thead>\n",
              "  <tbody>\n",
              "    <tr>\n",
              "      <th>131</th>\n",
              "      <td>NaN</td>\n",
              "      <td>India</td>\n",
              "      <td>21.0</td>\n",
              "      <td>78.0</td>\n",
              "      <td>0</td>\n",
              "      <td>0</td>\n",
              "      <td>0</td>\n",
              "      <td>0</td>\n",
              "      <td>0</td>\n",
              "      <td>0</td>\n",
              "      <td>0</td>\n",
              "      <td>0</td>\n",
              "      <td>1</td>\n",
              "      <td>1</td>\n",
              "      <td>1</td>\n",
              "      <td>2</td>\n",
              "      <td>3</td>\n",
              "      <td>3</td>\n",
              "      <td>3</td>\n",
              "      <td>3</td>\n",
              "      <td>3</td>\n",
              "      <td>3</td>\n",
              "      <td>3</td>\n",
              "      <td>3</td>\n",
              "      <td>3</td>\n",
              "      <td>3</td>\n",
              "      <td>3</td>\n",
              "      <td>3</td>\n",
              "      <td>3</td>\n",
              "      <td>3</td>\n",
              "      <td>3</td>\n",
              "      <td>3</td>\n",
              "      <td>3</td>\n",
              "      <td>3</td>\n",
              "      <td>3</td>\n",
              "      <td>3</td>\n",
              "      <td>3</td>\n",
              "      <td>3</td>\n",
              "      <td>3</td>\n",
              "      <td>3</td>\n",
              "      <td>...</td>\n",
              "      <td>1024</td>\n",
              "      <td>1251</td>\n",
              "      <td>1397</td>\n",
              "      <td>1998</td>\n",
              "      <td>2543</td>\n",
              "      <td>2567</td>\n",
              "      <td>3082</td>\n",
              "      <td>3588</td>\n",
              "      <td>4778</td>\n",
              "      <td>5311</td>\n",
              "      <td>5916</td>\n",
              "      <td>6725</td>\n",
              "      <td>7598</td>\n",
              "      <td>8446</td>\n",
              "      <td>9205</td>\n",
              "      <td>10453</td>\n",
              "      <td>11487</td>\n",
              "      <td>12322</td>\n",
              "      <td>13430</td>\n",
              "      <td>14352</td>\n",
              "      <td>15722</td>\n",
              "      <td>17615</td>\n",
              "      <td>18539</td>\n",
              "      <td>20080</td>\n",
              "      <td>21370</td>\n",
              "      <td>23077</td>\n",
              "      <td>24530</td>\n",
              "      <td>26283</td>\n",
              "      <td>27890</td>\n",
              "      <td>29451</td>\n",
              "      <td>31324</td>\n",
              "      <td>33062</td>\n",
              "      <td>34863</td>\n",
              "      <td>37257</td>\n",
              "      <td>39699</td>\n",
              "      <td>42505</td>\n",
              "      <td>46437</td>\n",
              "      <td>49400</td>\n",
              "      <td>52987</td>\n",
              "      <td>56351</td>\n",
              "    </tr>\n",
              "  </tbody>\n",
              "</table>\n",
              "<p>1 rows × 111 columns</p>\n",
              "</div>"
            ],
            "text/plain": [
              "    Province/State Country/Region   Lat  Long  ...  5/4/20  5/5/20  5/6/20  5/7/20\n",
              "131            NaN          India  21.0  78.0  ...   46437   49400   52987   56351\n",
              "\n",
              "[1 rows x 111 columns]"
            ]
          },
          "metadata": {
            "tags": []
          },
          "execution_count": 9
        }
      ]
    },
    {
      "cell_type": "markdown",
      "metadata": {
        "id": "8zhT3khQexNq",
        "colab_type": "text"
      },
      "source": [
        "## Massage a DataFrame into a format where one or more columns are identifier"
      ]
    },
    {
      "cell_type": "code",
      "metadata": {
        "id": "wrKlLYrqcSjg",
        "colab_type": "code",
        "colab": {}
      },
      "source": [
        "def get_n_melt_data(data_url,case_type):\n",
        "    df = pd.read_csv(data_url)\n",
        "    melted_df = df.melt(id_vars=['Province/State', 'Country/Region', 'Lat', 'Long'])\n",
        "    melted_df.rename(columns={\"variable\":\"Date\",\"value\":case_type},inplace=True)\n",
        "    return melted_df\n",
        "\n",
        "def merge_data(confirm_df,recovered_df,deaths_df):\n",
        "\tnew_df = confirm_df.join(recovered_df['Recovered']).join(deaths_df['Deaths'])\n",
        "\treturn new_df"
      ],
      "execution_count": 0,
      "outputs": []
    },
    {
      "cell_type": "code",
      "metadata": {
        "id": "0P57MajgfgrS",
        "colab_type": "code",
        "colab": {}
      },
      "source": [
        "confirm_df = get_n_melt_data(confirmed_cases_url,\"Confirmed\")\n",
        "recovered_df = get_n_melt_data(recovered_cases_url,\"Recovered\")\n",
        "deaths_df = get_n_melt_data(death_cases_url,\"Deaths\")"
      ],
      "execution_count": 0,
      "outputs": []
    },
    {
      "cell_type": "code",
      "metadata": {
        "id": "9yNhm5OgfiXQ",
        "colab_type": "code",
        "colab": {
          "base_uri": "https://localhost:8080/",
          "height": 204
        },
        "outputId": "7a5a5cbf-7ca2-420b-a4a7-3736ece11e84"
      },
      "source": [
        "confirm_df[confirm_df['Country/Region'] == 'India'].tail()"
      ],
      "execution_count": 12,
      "outputs": [
        {
          "output_type": "execute_result",
          "data": {
            "text/html": [
              "<div>\n",
              "<style scoped>\n",
              "    .dataframe tbody tr th:only-of-type {\n",
              "        vertical-align: middle;\n",
              "    }\n",
              "\n",
              "    .dataframe tbody tr th {\n",
              "        vertical-align: top;\n",
              "    }\n",
              "\n",
              "    .dataframe thead th {\n",
              "        text-align: right;\n",
              "    }\n",
              "</style>\n",
              "<table border=\"1\" class=\"dataframe\">\n",
              "  <thead>\n",
              "    <tr style=\"text-align: right;\">\n",
              "      <th></th>\n",
              "      <th>Province/State</th>\n",
              "      <th>Country/Region</th>\n",
              "      <th>Lat</th>\n",
              "      <th>Long</th>\n",
              "      <th>Date</th>\n",
              "      <th>Confirmed</th>\n",
              "    </tr>\n",
              "  </thead>\n",
              "  <tbody>\n",
              "    <tr>\n",
              "      <th>27263</th>\n",
              "      <td>NaN</td>\n",
              "      <td>India</td>\n",
              "      <td>21.0</td>\n",
              "      <td>78.0</td>\n",
              "      <td>5/3/20</td>\n",
              "      <td>42505</td>\n",
              "    </tr>\n",
              "    <tr>\n",
              "      <th>27529</th>\n",
              "      <td>NaN</td>\n",
              "      <td>India</td>\n",
              "      <td>21.0</td>\n",
              "      <td>78.0</td>\n",
              "      <td>5/4/20</td>\n",
              "      <td>46437</td>\n",
              "    </tr>\n",
              "    <tr>\n",
              "      <th>27795</th>\n",
              "      <td>NaN</td>\n",
              "      <td>India</td>\n",
              "      <td>21.0</td>\n",
              "      <td>78.0</td>\n",
              "      <td>5/5/20</td>\n",
              "      <td>49400</td>\n",
              "    </tr>\n",
              "    <tr>\n",
              "      <th>28061</th>\n",
              "      <td>NaN</td>\n",
              "      <td>India</td>\n",
              "      <td>21.0</td>\n",
              "      <td>78.0</td>\n",
              "      <td>5/6/20</td>\n",
              "      <td>52987</td>\n",
              "    </tr>\n",
              "    <tr>\n",
              "      <th>28327</th>\n",
              "      <td>NaN</td>\n",
              "      <td>India</td>\n",
              "      <td>21.0</td>\n",
              "      <td>78.0</td>\n",
              "      <td>5/7/20</td>\n",
              "      <td>56351</td>\n",
              "    </tr>\n",
              "  </tbody>\n",
              "</table>\n",
              "</div>"
            ],
            "text/plain": [
              "      Province/State Country/Region   Lat  Long    Date  Confirmed\n",
              "27263            NaN          India  21.0  78.0  5/3/20      42505\n",
              "27529            NaN          India  21.0  78.0  5/4/20      46437\n",
              "27795            NaN          India  21.0  78.0  5/5/20      49400\n",
              "28061            NaN          India  21.0  78.0  5/6/20      52987\n",
              "28327            NaN          India  21.0  78.0  5/7/20      56351"
            ]
          },
          "metadata": {
            "tags": []
          },
          "execution_count": 12
        }
      ]
    },
    {
      "cell_type": "code",
      "metadata": {
        "id": "62sabwclfo6Y",
        "colab_type": "code",
        "colab": {
          "base_uri": "https://localhost:8080/",
          "height": 204
        },
        "outputId": "cad2505f-f570-414c-ecc4-a6e9ad61f344"
      },
      "source": [
        "recovered_df [recovered_df ['Country/Region'] == 'India'].tail()"
      ],
      "execution_count": 13,
      "outputs": [
        {
          "output_type": "execute_result",
          "data": {
            "text/html": [
              "<div>\n",
              "<style scoped>\n",
              "    .dataframe tbody tr th:only-of-type {\n",
              "        vertical-align: middle;\n",
              "    }\n",
              "\n",
              "    .dataframe tbody tr th {\n",
              "        vertical-align: top;\n",
              "    }\n",
              "\n",
              "    .dataframe thead th {\n",
              "        text-align: right;\n",
              "    }\n",
              "</style>\n",
              "<table border=\"1\" class=\"dataframe\">\n",
              "  <thead>\n",
              "    <tr style=\"text-align: right;\">\n",
              "      <th></th>\n",
              "      <th>Province/State</th>\n",
              "      <th>Country/Region</th>\n",
              "      <th>Lat</th>\n",
              "      <th>Long</th>\n",
              "      <th>Date</th>\n",
              "      <th>Recovered</th>\n",
              "    </tr>\n",
              "  </thead>\n",
              "  <tbody>\n",
              "    <tr>\n",
              "      <th>25829</th>\n",
              "      <td>NaN</td>\n",
              "      <td>India</td>\n",
              "      <td>21.0</td>\n",
              "      <td>78.0</td>\n",
              "      <td>5/3/20</td>\n",
              "      <td>11775</td>\n",
              "    </tr>\n",
              "    <tr>\n",
              "      <th>26081</th>\n",
              "      <td>NaN</td>\n",
              "      <td>India</td>\n",
              "      <td>21.0</td>\n",
              "      <td>78.0</td>\n",
              "      <td>5/4/20</td>\n",
              "      <td>12847</td>\n",
              "    </tr>\n",
              "    <tr>\n",
              "      <th>26333</th>\n",
              "      <td>NaN</td>\n",
              "      <td>India</td>\n",
              "      <td>21.0</td>\n",
              "      <td>78.0</td>\n",
              "      <td>5/5/20</td>\n",
              "      <td>14142</td>\n",
              "    </tr>\n",
              "    <tr>\n",
              "      <th>26585</th>\n",
              "      <td>NaN</td>\n",
              "      <td>India</td>\n",
              "      <td>21.0</td>\n",
              "      <td>78.0</td>\n",
              "      <td>5/6/20</td>\n",
              "      <td>15331</td>\n",
              "    </tr>\n",
              "    <tr>\n",
              "      <th>26837</th>\n",
              "      <td>NaN</td>\n",
              "      <td>India</td>\n",
              "      <td>21.0</td>\n",
              "      <td>78.0</td>\n",
              "      <td>5/7/20</td>\n",
              "      <td>16776</td>\n",
              "    </tr>\n",
              "  </tbody>\n",
              "</table>\n",
              "</div>"
            ],
            "text/plain": [
              "      Province/State Country/Region   Lat  Long    Date  Recovered\n",
              "25829            NaN          India  21.0  78.0  5/3/20      11775\n",
              "26081            NaN          India  21.0  78.0  5/4/20      12847\n",
              "26333            NaN          India  21.0  78.0  5/5/20      14142\n",
              "26585            NaN          India  21.0  78.0  5/6/20      15331\n",
              "26837            NaN          India  21.0  78.0  5/7/20      16776"
            ]
          },
          "metadata": {
            "tags": []
          },
          "execution_count": 13
        }
      ]
    }
  ]
}